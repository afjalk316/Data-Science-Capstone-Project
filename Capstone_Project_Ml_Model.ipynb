{
 "cells": [
  {
   "cell_type": "markdown",
   "metadata": {
    "id": "FlbZmFAHziT_"
   },
   "source": [
    "# Capstone Project - Car Price Prediction by Pranav Bansal"
   ]
  },
  {
   "cell_type": "markdown",
   "metadata": {
    "id": "CgCAGJc20M-O"
   },
   "source": [
    "# Problem Statement :\n",
    "Perform EDA and derive Insights from the CARDETAILS dataset using Various Data Analysis and Data Visualization libraries of Python such as Pandas, Matplotlib &Seaborn. Create and Deploy a ML Model Which can be accessed by all , using Streamlit and GitHub."
   ]
  },
  {
   "cell_type": "markdown",
   "metadata": {
    "id": "D99QR5aI1lkv"
   },
   "source": [
    "# About the Dataset :\n",
    "The Dataset used in this is project is CARDETAILS dataset. I have taken this dataset from Kaggle. The data of this dataset is collected from 'Car Dekho'.\n",
    "This dataset contains details about different cars. This data has 4340 rows and 8 features . Following details of cars are included in the dataset:\n",
    "1.  Car name - Name of the car\n",
    "2.  Year - Year of the car when it was bought\n",
    "3.  Selling Price - Selling price of the car\n",
    "4.  Kms driven - Kilometers driven by the car\n",
    "5.  Fuel - Required fuel for the car\n",
    "6.  Seller type - Seller type of the car\n",
    "7.  Transmission - Transmission\n",
    "8.  Owner - Number of previous owners of the vehicle"
   ]
  },
  {
   "cell_type": "markdown",
   "metadata": {
    "id": "KoXyxSgJ1GPa"
   },
   "source": [
    "# Link for the Dataset :\n",
    "https://www.kaggle.com/datasets/akshaydattatraykhare/car-details-dataset"
   ]
  },
  {
   "cell_type": "markdown",
   "metadata": {
    "id": "_tSr1ALU-baJ"
   },
   "source": [
    "## This File Contains Only Data Preprocessing and Data Cleaning and Machine Learning Algorithms."
   ]
  },
  {
   "cell_type": "markdown",
   "metadata": {
    "id": "5rVCzc2W3YZ9"
   },
   "source": [
    "# Data preparation"
   ]
  },
  {
   "cell_type": "code",
   "execution_count": 106,
   "metadata": {
    "id": "B3CDpCor8ZGT"
   },
   "outputs": [],
   "source": [
    "# Importing the libraries\n",
    "\n",
    "import numpy as np\n",
    "# numpy is aliased as np\n",
    "import pandas as pd\n",
    "# pandas is aliased as pd\n",
    "import matplotlib.pyplot as plt\n",
    "# matplotlib.pyplot is aliased as plt\n",
    "import seaborn as sns\n",
    "# seaborn is aliased as sns\n",
    "%matplotlib inline\n",
    "\n",
    "import warnings\n",
    "warnings.filterwarnings('ignore')"
   ]
  },
  {
   "cell_type": "code",
   "execution_count": 107,
   "metadata": {
    "colab": {
     "base_uri": "https://localhost:8080/",
     "height": 423
    },
    "id": "2_pPlBN08sLa",
    "outputId": "fd4ae042-f8d0-4415-c24f-1c02ce730530"
   },
   "outputs": [
    {
     "data": {
      "text/html": [
       "<div>\n",
       "<style scoped>\n",
       "    .dataframe tbody tr th:only-of-type {\n",
       "        vertical-align: middle;\n",
       "    }\n",
       "\n",
       "    .dataframe tbody tr th {\n",
       "        vertical-align: top;\n",
       "    }\n",
       "\n",
       "    .dataframe thead th {\n",
       "        text-align: right;\n",
       "    }\n",
       "</style>\n",
       "<table border=\"1\" class=\"dataframe\">\n",
       "  <thead>\n",
       "    <tr style=\"text-align: right;\">\n",
       "      <th></th>\n",
       "      <th>name</th>\n",
       "      <th>year</th>\n",
       "      <th>selling_price</th>\n",
       "      <th>km_driven</th>\n",
       "      <th>fuel</th>\n",
       "      <th>seller_type</th>\n",
       "      <th>transmission</th>\n",
       "      <th>owner</th>\n",
       "    </tr>\n",
       "  </thead>\n",
       "  <tbody>\n",
       "    <tr>\n",
       "      <th>0</th>\n",
       "      <td>Maruti 800 AC</td>\n",
       "      <td>2007</td>\n",
       "      <td>60000</td>\n",
       "      <td>70000</td>\n",
       "      <td>Petrol</td>\n",
       "      <td>Individual</td>\n",
       "      <td>Manual</td>\n",
       "      <td>First Owner</td>\n",
       "    </tr>\n",
       "    <tr>\n",
       "      <th>1</th>\n",
       "      <td>Maruti Wagon R LXI Minor</td>\n",
       "      <td>2007</td>\n",
       "      <td>135000</td>\n",
       "      <td>50000</td>\n",
       "      <td>Petrol</td>\n",
       "      <td>Individual</td>\n",
       "      <td>Manual</td>\n",
       "      <td>First Owner</td>\n",
       "    </tr>\n",
       "    <tr>\n",
       "      <th>2</th>\n",
       "      <td>Hyundai Verna 1.6 SX</td>\n",
       "      <td>2012</td>\n",
       "      <td>600000</td>\n",
       "      <td>100000</td>\n",
       "      <td>Diesel</td>\n",
       "      <td>Individual</td>\n",
       "      <td>Manual</td>\n",
       "      <td>First Owner</td>\n",
       "    </tr>\n",
       "    <tr>\n",
       "      <th>3</th>\n",
       "      <td>Datsun RediGO T Option</td>\n",
       "      <td>2017</td>\n",
       "      <td>250000</td>\n",
       "      <td>46000</td>\n",
       "      <td>Petrol</td>\n",
       "      <td>Individual</td>\n",
       "      <td>Manual</td>\n",
       "      <td>First Owner</td>\n",
       "    </tr>\n",
       "    <tr>\n",
       "      <th>4</th>\n",
       "      <td>Honda Amaze VX i-DTEC</td>\n",
       "      <td>2014</td>\n",
       "      <td>450000</td>\n",
       "      <td>141000</td>\n",
       "      <td>Diesel</td>\n",
       "      <td>Individual</td>\n",
       "      <td>Manual</td>\n",
       "      <td>Second Owner</td>\n",
       "    </tr>\n",
       "    <tr>\n",
       "      <th>...</th>\n",
       "      <td>...</td>\n",
       "      <td>...</td>\n",
       "      <td>...</td>\n",
       "      <td>...</td>\n",
       "      <td>...</td>\n",
       "      <td>...</td>\n",
       "      <td>...</td>\n",
       "      <td>...</td>\n",
       "    </tr>\n",
       "    <tr>\n",
       "      <th>4335</th>\n",
       "      <td>Hyundai i20 Magna 1.4 CRDi (Diesel)</td>\n",
       "      <td>2014</td>\n",
       "      <td>409999</td>\n",
       "      <td>80000</td>\n",
       "      <td>Diesel</td>\n",
       "      <td>Individual</td>\n",
       "      <td>Manual</td>\n",
       "      <td>Second Owner</td>\n",
       "    </tr>\n",
       "    <tr>\n",
       "      <th>4336</th>\n",
       "      <td>Hyundai i20 Magna 1.4 CRDi</td>\n",
       "      <td>2014</td>\n",
       "      <td>409999</td>\n",
       "      <td>80000</td>\n",
       "      <td>Diesel</td>\n",
       "      <td>Individual</td>\n",
       "      <td>Manual</td>\n",
       "      <td>Second Owner</td>\n",
       "    </tr>\n",
       "    <tr>\n",
       "      <th>4337</th>\n",
       "      <td>Maruti 800 AC BSIII</td>\n",
       "      <td>2009</td>\n",
       "      <td>110000</td>\n",
       "      <td>83000</td>\n",
       "      <td>Petrol</td>\n",
       "      <td>Individual</td>\n",
       "      <td>Manual</td>\n",
       "      <td>Second Owner</td>\n",
       "    </tr>\n",
       "    <tr>\n",
       "      <th>4338</th>\n",
       "      <td>Hyundai Creta 1.6 CRDi SX Option</td>\n",
       "      <td>2016</td>\n",
       "      <td>865000</td>\n",
       "      <td>90000</td>\n",
       "      <td>Diesel</td>\n",
       "      <td>Individual</td>\n",
       "      <td>Manual</td>\n",
       "      <td>First Owner</td>\n",
       "    </tr>\n",
       "    <tr>\n",
       "      <th>4339</th>\n",
       "      <td>Renault KWID RXT</td>\n",
       "      <td>2016</td>\n",
       "      <td>225000</td>\n",
       "      <td>40000</td>\n",
       "      <td>Petrol</td>\n",
       "      <td>Individual</td>\n",
       "      <td>Manual</td>\n",
       "      <td>First Owner</td>\n",
       "    </tr>\n",
       "  </tbody>\n",
       "</table>\n",
       "<p>4340 rows × 8 columns</p>\n",
       "</div>"
      ],
      "text/plain": [
       "                                     name  year  selling_price  km_driven  \\\n",
       "0                           Maruti 800 AC  2007          60000      70000   \n",
       "1                Maruti Wagon R LXI Minor  2007         135000      50000   \n",
       "2                    Hyundai Verna 1.6 SX  2012         600000     100000   \n",
       "3                  Datsun RediGO T Option  2017         250000      46000   \n",
       "4                   Honda Amaze VX i-DTEC  2014         450000     141000   \n",
       "...                                   ...   ...            ...        ...   \n",
       "4335  Hyundai i20 Magna 1.4 CRDi (Diesel)  2014         409999      80000   \n",
       "4336           Hyundai i20 Magna 1.4 CRDi  2014         409999      80000   \n",
       "4337                  Maruti 800 AC BSIII  2009         110000      83000   \n",
       "4338     Hyundai Creta 1.6 CRDi SX Option  2016         865000      90000   \n",
       "4339                     Renault KWID RXT  2016         225000      40000   \n",
       "\n",
       "        fuel seller_type transmission         owner  \n",
       "0     Petrol  Individual       Manual   First Owner  \n",
       "1     Petrol  Individual       Manual   First Owner  \n",
       "2     Diesel  Individual       Manual   First Owner  \n",
       "3     Petrol  Individual       Manual   First Owner  \n",
       "4     Diesel  Individual       Manual  Second Owner  \n",
       "...      ...         ...          ...           ...  \n",
       "4335  Diesel  Individual       Manual  Second Owner  \n",
       "4336  Diesel  Individual       Manual  Second Owner  \n",
       "4337  Petrol  Individual       Manual  Second Owner  \n",
       "4338  Diesel  Individual       Manual   First Owner  \n",
       "4339  Petrol  Individual       Manual   First Owner  \n",
       "\n",
       "[4340 rows x 8 columns]"
      ]
     },
     "execution_count": 107,
     "metadata": {},
     "output_type": "execute_result"
    }
   ],
   "source": [
    "# Loading the dataset\n",
    "car = pd.read_csv('CAR DETAILS (1).csv')\n",
    "car"
   ]
  },
  {
   "cell_type": "code",
   "execution_count": 108,
   "metadata": {
    "colab": {
     "base_uri": "https://localhost:8080/",
     "height": 206
    },
    "id": "XHSj4eC_81QF",
    "outputId": "02751fee-bc62-4241-e1e0-bbf102a31b74"
   },
   "outputs": [
    {
     "data": {
      "text/html": [
       "<div>\n",
       "<style scoped>\n",
       "    .dataframe tbody tr th:only-of-type {\n",
       "        vertical-align: middle;\n",
       "    }\n",
       "\n",
       "    .dataframe tbody tr th {\n",
       "        vertical-align: top;\n",
       "    }\n",
       "\n",
       "    .dataframe thead th {\n",
       "        text-align: right;\n",
       "    }\n",
       "</style>\n",
       "<table border=\"1\" class=\"dataframe\">\n",
       "  <thead>\n",
       "    <tr style=\"text-align: right;\">\n",
       "      <th></th>\n",
       "      <th>name</th>\n",
       "      <th>year</th>\n",
       "      <th>selling_price</th>\n",
       "      <th>km_driven</th>\n",
       "      <th>fuel</th>\n",
       "      <th>seller_type</th>\n",
       "      <th>transmission</th>\n",
       "      <th>owner</th>\n",
       "    </tr>\n",
       "  </thead>\n",
       "  <tbody>\n",
       "    <tr>\n",
       "      <th>0</th>\n",
       "      <td>Maruti 800 AC</td>\n",
       "      <td>2007</td>\n",
       "      <td>60000</td>\n",
       "      <td>70000</td>\n",
       "      <td>Petrol</td>\n",
       "      <td>Individual</td>\n",
       "      <td>Manual</td>\n",
       "      <td>First Owner</td>\n",
       "    </tr>\n",
       "    <tr>\n",
       "      <th>1</th>\n",
       "      <td>Maruti Wagon R LXI Minor</td>\n",
       "      <td>2007</td>\n",
       "      <td>135000</td>\n",
       "      <td>50000</td>\n",
       "      <td>Petrol</td>\n",
       "      <td>Individual</td>\n",
       "      <td>Manual</td>\n",
       "      <td>First Owner</td>\n",
       "    </tr>\n",
       "    <tr>\n",
       "      <th>2</th>\n",
       "      <td>Hyundai Verna 1.6 SX</td>\n",
       "      <td>2012</td>\n",
       "      <td>600000</td>\n",
       "      <td>100000</td>\n",
       "      <td>Diesel</td>\n",
       "      <td>Individual</td>\n",
       "      <td>Manual</td>\n",
       "      <td>First Owner</td>\n",
       "    </tr>\n",
       "    <tr>\n",
       "      <th>3</th>\n",
       "      <td>Datsun RediGO T Option</td>\n",
       "      <td>2017</td>\n",
       "      <td>250000</td>\n",
       "      <td>46000</td>\n",
       "      <td>Petrol</td>\n",
       "      <td>Individual</td>\n",
       "      <td>Manual</td>\n",
       "      <td>First Owner</td>\n",
       "    </tr>\n",
       "    <tr>\n",
       "      <th>4</th>\n",
       "      <td>Honda Amaze VX i-DTEC</td>\n",
       "      <td>2014</td>\n",
       "      <td>450000</td>\n",
       "      <td>141000</td>\n",
       "      <td>Diesel</td>\n",
       "      <td>Individual</td>\n",
       "      <td>Manual</td>\n",
       "      <td>Second Owner</td>\n",
       "    </tr>\n",
       "  </tbody>\n",
       "</table>\n",
       "</div>"
      ],
      "text/plain": [
       "                       name  year  selling_price  km_driven    fuel  \\\n",
       "0             Maruti 800 AC  2007          60000      70000  Petrol   \n",
       "1  Maruti Wagon R LXI Minor  2007         135000      50000  Petrol   \n",
       "2      Hyundai Verna 1.6 SX  2012         600000     100000  Diesel   \n",
       "3    Datsun RediGO T Option  2017         250000      46000  Petrol   \n",
       "4     Honda Amaze VX i-DTEC  2014         450000     141000  Diesel   \n",
       "\n",
       "  seller_type transmission         owner  \n",
       "0  Individual       Manual   First Owner  \n",
       "1  Individual       Manual   First Owner  \n",
       "2  Individual       Manual   First Owner  \n",
       "3  Individual       Manual   First Owner  \n",
       "4  Individual       Manual  Second Owner  "
      ]
     },
     "execution_count": 108,
     "metadata": {},
     "output_type": "execute_result"
    }
   ],
   "source": [
    "# showing the first 5 rows\n",
    "car.head()"
   ]
  },
  {
   "cell_type": "code",
   "execution_count": 109,
   "metadata": {
    "colab": {
     "base_uri": "https://localhost:8080/",
     "height": 206
    },
    "id": "bMT3LRNZ9FC7",
    "outputId": "a8a020af-d13e-4f72-c31d-b143d5b837c4"
   },
   "outputs": [
    {
     "data": {
      "text/html": [
       "<div>\n",
       "<style scoped>\n",
       "    .dataframe tbody tr th:only-of-type {\n",
       "        vertical-align: middle;\n",
       "    }\n",
       "\n",
       "    .dataframe tbody tr th {\n",
       "        vertical-align: top;\n",
       "    }\n",
       "\n",
       "    .dataframe thead th {\n",
       "        text-align: right;\n",
       "    }\n",
       "</style>\n",
       "<table border=\"1\" class=\"dataframe\">\n",
       "  <thead>\n",
       "    <tr style=\"text-align: right;\">\n",
       "      <th></th>\n",
       "      <th>name</th>\n",
       "      <th>year</th>\n",
       "      <th>selling_price</th>\n",
       "      <th>km_driven</th>\n",
       "      <th>fuel</th>\n",
       "      <th>seller_type</th>\n",
       "      <th>transmission</th>\n",
       "      <th>owner</th>\n",
       "    </tr>\n",
       "  </thead>\n",
       "  <tbody>\n",
       "    <tr>\n",
       "      <th>4335</th>\n",
       "      <td>Hyundai i20 Magna 1.4 CRDi (Diesel)</td>\n",
       "      <td>2014</td>\n",
       "      <td>409999</td>\n",
       "      <td>80000</td>\n",
       "      <td>Diesel</td>\n",
       "      <td>Individual</td>\n",
       "      <td>Manual</td>\n",
       "      <td>Second Owner</td>\n",
       "    </tr>\n",
       "    <tr>\n",
       "      <th>4336</th>\n",
       "      <td>Hyundai i20 Magna 1.4 CRDi</td>\n",
       "      <td>2014</td>\n",
       "      <td>409999</td>\n",
       "      <td>80000</td>\n",
       "      <td>Diesel</td>\n",
       "      <td>Individual</td>\n",
       "      <td>Manual</td>\n",
       "      <td>Second Owner</td>\n",
       "    </tr>\n",
       "    <tr>\n",
       "      <th>4337</th>\n",
       "      <td>Maruti 800 AC BSIII</td>\n",
       "      <td>2009</td>\n",
       "      <td>110000</td>\n",
       "      <td>83000</td>\n",
       "      <td>Petrol</td>\n",
       "      <td>Individual</td>\n",
       "      <td>Manual</td>\n",
       "      <td>Second Owner</td>\n",
       "    </tr>\n",
       "    <tr>\n",
       "      <th>4338</th>\n",
       "      <td>Hyundai Creta 1.6 CRDi SX Option</td>\n",
       "      <td>2016</td>\n",
       "      <td>865000</td>\n",
       "      <td>90000</td>\n",
       "      <td>Diesel</td>\n",
       "      <td>Individual</td>\n",
       "      <td>Manual</td>\n",
       "      <td>First Owner</td>\n",
       "    </tr>\n",
       "    <tr>\n",
       "      <th>4339</th>\n",
       "      <td>Renault KWID RXT</td>\n",
       "      <td>2016</td>\n",
       "      <td>225000</td>\n",
       "      <td>40000</td>\n",
       "      <td>Petrol</td>\n",
       "      <td>Individual</td>\n",
       "      <td>Manual</td>\n",
       "      <td>First Owner</td>\n",
       "    </tr>\n",
       "  </tbody>\n",
       "</table>\n",
       "</div>"
      ],
      "text/plain": [
       "                                     name  year  selling_price  km_driven  \\\n",
       "4335  Hyundai i20 Magna 1.4 CRDi (Diesel)  2014         409999      80000   \n",
       "4336           Hyundai i20 Magna 1.4 CRDi  2014         409999      80000   \n",
       "4337                  Maruti 800 AC BSIII  2009         110000      83000   \n",
       "4338     Hyundai Creta 1.6 CRDi SX Option  2016         865000      90000   \n",
       "4339                     Renault KWID RXT  2016         225000      40000   \n",
       "\n",
       "        fuel seller_type transmission         owner  \n",
       "4335  Diesel  Individual       Manual  Second Owner  \n",
       "4336  Diesel  Individual       Manual  Second Owner  \n",
       "4337  Petrol  Individual       Manual  Second Owner  \n",
       "4338  Diesel  Individual       Manual   First Owner  \n",
       "4339  Petrol  Individual       Manual   First Owner  "
      ]
     },
     "execution_count": 109,
     "metadata": {},
     "output_type": "execute_result"
    }
   ],
   "source": [
    "# showing the last 5 rows\n",
    "car.tail()"
   ]
  },
  {
   "cell_type": "markdown",
   "metadata": {
    "id": "xAhdWy9-3cpF"
   },
   "source": [
    "# Basic Understanding of the Dataset."
   ]
  },
  {
   "cell_type": "code",
   "execution_count": 110,
   "metadata": {
    "colab": {
     "base_uri": "https://localhost:8080/"
    },
    "id": "2nG1lgUj9Gu1",
    "outputId": "b6859f44-6c50-430f-cf18-3bb5deeb2af3"
   },
   "outputs": [
    {
     "data": {
      "text/plain": [
       "(4340, 8)"
      ]
     },
     "execution_count": 110,
     "metadata": {},
     "output_type": "execute_result"
    }
   ],
   "source": [
    "# showing dimension of the dataset\n",
    "car.shape"
   ]
  },
  {
   "cell_type": "markdown",
   "metadata": {
    "id": "JIfY-sqq3qOp"
   },
   "source": [
    "Observation :\n",
    "\n",
    "This Data have 4340 rows and 8 columns."
   ]
  },
  {
   "cell_type": "code",
   "execution_count": 111,
   "metadata": {
    "colab": {
     "base_uri": "https://localhost:8080/"
    },
    "id": "nbssoSQK9QL1",
    "outputId": "f7752dfb-7c87-4e71-ad3d-adc692c46e6e"
   },
   "outputs": [
    {
     "data": {
      "text/plain": [
       "Index(['name', 'year', 'selling_price', 'km_driven', 'fuel', 'seller_type',\n",
       "       'transmission', 'owner'],\n",
       "      dtype='object')"
      ]
     },
     "execution_count": 111,
     "metadata": {},
     "output_type": "execute_result"
    }
   ],
   "source": [
    "# showing columns\n",
    "car.columns"
   ]
  },
  {
   "cell_type": "code",
   "execution_count": 112,
   "metadata": {
    "colab": {
     "base_uri": "https://localhost:8080/"
    },
    "id": "wb380oVM9R79",
    "outputId": "dfd20b05-462b-44ca-8573-5bf1fb10f8bc"
   },
   "outputs": [
    {
     "data": {
      "text/plain": [
       "name             object\n",
       "year              int64\n",
       "selling_price     int64\n",
       "km_driven         int64\n",
       "fuel             object\n",
       "seller_type      object\n",
       "transmission     object\n",
       "owner            object\n",
       "dtype: object"
      ]
     },
     "execution_count": 112,
     "metadata": {},
     "output_type": "execute_result"
    }
   ],
   "source": [
    "# checking the datatypes\n",
    "car.dtypes"
   ]
  },
  {
   "cell_type": "code",
   "execution_count": 113,
   "metadata": {
    "colab": {
     "base_uri": "https://localhost:8080/"
    },
    "id": "KoZXxOjT9gO_",
    "outputId": "8891f591-d903-4e92-c28a-abe35c9dd7f3"
   },
   "outputs": [
    {
     "name": "stdout",
     "output_type": "stream",
     "text": [
      "<class 'pandas.core.frame.DataFrame'>\n",
      "RangeIndex: 4340 entries, 0 to 4339\n",
      "Data columns (total 8 columns):\n",
      " #   Column         Non-Null Count  Dtype \n",
      "---  ------         --------------  ----- \n",
      " 0   name           4340 non-null   object\n",
      " 1   year           4340 non-null   int64 \n",
      " 2   selling_price  4340 non-null   int64 \n",
      " 3   km_driven      4340 non-null   int64 \n",
      " 4   fuel           4340 non-null   object\n",
      " 5   seller_type    4340 non-null   object\n",
      " 6   transmission   4340 non-null   object\n",
      " 7   owner          4340 non-null   object\n",
      "dtypes: int64(3), object(5)\n",
      "memory usage: 271.4+ KB\n"
     ]
    }
   ],
   "source": [
    "# showing the information about the dataset\n",
    "car.info()"
   ]
  },
  {
   "cell_type": "markdown",
   "metadata": {
    "id": "orHMQ0Ya4L6i"
   },
   "source": [
    "\n",
    "Observation :\n",
    "\n",
    "From the above output we can see -\n",
    "1. There are 4340 rows and 8 columns.\n",
    "2. There are 3 numerical columns i.e.. Year, Selling Price, Kms Driven.\n",
    "3. There are 5 categorical columns i.e.. Car Name, Fuel, Seller Type, Transmission, Owner.\n",
    "4. There are no null values in the dataset."
   ]
  },
  {
   "cell_type": "code",
   "execution_count": 114,
   "metadata": {
    "colab": {
     "base_uri": "https://localhost:8080/"
    },
    "id": "l0Ug5bqJOJNi",
    "outputId": "9b22ee05-93a3-4dd3-aa1a-43a734b7ba63"
   },
   "outputs": [
    {
     "name": "stdout",
     "output_type": "stream",
     "text": [
      "Index(['name', 'fuel', 'seller_type', 'transmission', 'owner'], dtype='object')\n",
      "Index(['year', 'selling_price', 'km_driven'], dtype='object')\n"
     ]
    }
   ],
   "source": [
    "# Extracting Numerical and Categorical columns\n",
    "cat_cols = car.select_dtypes(include=['object'])\n",
    "print(cat_cols.columns)\n",
    "num_cols = car.select_dtypes(exclude=['O'])\n",
    "print(num_cols.columns)"
   ]
  },
  {
   "cell_type": "code",
   "execution_count": 115,
   "metadata": {
    "colab": {
     "base_uri": "https://localhost:8080/",
     "height": 300
    },
    "id": "rimrWPau9-w1",
    "outputId": "2d375289-5c82-4bd7-fd19-81074274f7d9"
   },
   "outputs": [
    {
     "data": {
      "text/html": [
       "<div>\n",
       "<style scoped>\n",
       "    .dataframe tbody tr th:only-of-type {\n",
       "        vertical-align: middle;\n",
       "    }\n",
       "\n",
       "    .dataframe tbody tr th {\n",
       "        vertical-align: top;\n",
       "    }\n",
       "\n",
       "    .dataframe thead th {\n",
       "        text-align: right;\n",
       "    }\n",
       "</style>\n",
       "<table border=\"1\" class=\"dataframe\">\n",
       "  <thead>\n",
       "    <tr style=\"text-align: right;\">\n",
       "      <th></th>\n",
       "      <th>year</th>\n",
       "      <th>selling_price</th>\n",
       "      <th>km_driven</th>\n",
       "    </tr>\n",
       "  </thead>\n",
       "  <tbody>\n",
       "    <tr>\n",
       "      <th>count</th>\n",
       "      <td>4340.000000</td>\n",
       "      <td>4.340000e+03</td>\n",
       "      <td>4340.000000</td>\n",
       "    </tr>\n",
       "    <tr>\n",
       "      <th>mean</th>\n",
       "      <td>2013.090783</td>\n",
       "      <td>5.041273e+05</td>\n",
       "      <td>66215.777419</td>\n",
       "    </tr>\n",
       "    <tr>\n",
       "      <th>std</th>\n",
       "      <td>4.215344</td>\n",
       "      <td>5.785487e+05</td>\n",
       "      <td>46644.102194</td>\n",
       "    </tr>\n",
       "    <tr>\n",
       "      <th>min</th>\n",
       "      <td>1992.000000</td>\n",
       "      <td>2.000000e+04</td>\n",
       "      <td>1.000000</td>\n",
       "    </tr>\n",
       "    <tr>\n",
       "      <th>25%</th>\n",
       "      <td>2011.000000</td>\n",
       "      <td>2.087498e+05</td>\n",
       "      <td>35000.000000</td>\n",
       "    </tr>\n",
       "    <tr>\n",
       "      <th>50%</th>\n",
       "      <td>2014.000000</td>\n",
       "      <td>3.500000e+05</td>\n",
       "      <td>60000.000000</td>\n",
       "    </tr>\n",
       "    <tr>\n",
       "      <th>75%</th>\n",
       "      <td>2016.000000</td>\n",
       "      <td>6.000000e+05</td>\n",
       "      <td>90000.000000</td>\n",
       "    </tr>\n",
       "    <tr>\n",
       "      <th>max</th>\n",
       "      <td>2020.000000</td>\n",
       "      <td>8.900000e+06</td>\n",
       "      <td>806599.000000</td>\n",
       "    </tr>\n",
       "  </tbody>\n",
       "</table>\n",
       "</div>"
      ],
      "text/plain": [
       "              year  selling_price      km_driven\n",
       "count  4340.000000   4.340000e+03    4340.000000\n",
       "mean   2013.090783   5.041273e+05   66215.777419\n",
       "std       4.215344   5.785487e+05   46644.102194\n",
       "min    1992.000000   2.000000e+04       1.000000\n",
       "25%    2011.000000   2.087498e+05   35000.000000\n",
       "50%    2014.000000   3.500000e+05   60000.000000\n",
       "75%    2016.000000   6.000000e+05   90000.000000\n",
       "max    2020.000000   8.900000e+06  806599.000000"
      ]
     },
     "execution_count": 115,
     "metadata": {},
     "output_type": "execute_result"
    }
   ],
   "source": [
    "# showing descriptive statistical analysis\n",
    "car.describe()"
   ]
  },
  {
   "cell_type": "code",
   "execution_count": 116,
   "metadata": {
    "colab": {
     "base_uri": "https://localhost:8080/",
     "height": 175
    },
    "id": "wBTwUWKF-Ac1",
    "outputId": "d87671a3-c47f-4ebf-81b3-e23c872019d9"
   },
   "outputs": [
    {
     "data": {
      "text/html": [
       "<div>\n",
       "<style scoped>\n",
       "    .dataframe tbody tr th:only-of-type {\n",
       "        vertical-align: middle;\n",
       "    }\n",
       "\n",
       "    .dataframe tbody tr th {\n",
       "        vertical-align: top;\n",
       "    }\n",
       "\n",
       "    .dataframe thead th {\n",
       "        text-align: right;\n",
       "    }\n",
       "</style>\n",
       "<table border=\"1\" class=\"dataframe\">\n",
       "  <thead>\n",
       "    <tr style=\"text-align: right;\">\n",
       "      <th></th>\n",
       "      <th>name</th>\n",
       "      <th>fuel</th>\n",
       "      <th>seller_type</th>\n",
       "      <th>transmission</th>\n",
       "      <th>owner</th>\n",
       "    </tr>\n",
       "  </thead>\n",
       "  <tbody>\n",
       "    <tr>\n",
       "      <th>count</th>\n",
       "      <td>4340</td>\n",
       "      <td>4340</td>\n",
       "      <td>4340</td>\n",
       "      <td>4340</td>\n",
       "      <td>4340</td>\n",
       "    </tr>\n",
       "    <tr>\n",
       "      <th>unique</th>\n",
       "      <td>1491</td>\n",
       "      <td>5</td>\n",
       "      <td>3</td>\n",
       "      <td>2</td>\n",
       "      <td>5</td>\n",
       "    </tr>\n",
       "    <tr>\n",
       "      <th>top</th>\n",
       "      <td>Maruti Swift Dzire VDI</td>\n",
       "      <td>Diesel</td>\n",
       "      <td>Individual</td>\n",
       "      <td>Manual</td>\n",
       "      <td>First Owner</td>\n",
       "    </tr>\n",
       "    <tr>\n",
       "      <th>freq</th>\n",
       "      <td>69</td>\n",
       "      <td>2153</td>\n",
       "      <td>3244</td>\n",
       "      <td>3892</td>\n",
       "      <td>2832</td>\n",
       "    </tr>\n",
       "  </tbody>\n",
       "</table>\n",
       "</div>"
      ],
      "text/plain": [
       "                          name    fuel seller_type transmission        owner\n",
       "count                     4340    4340        4340         4340         4340\n",
       "unique                    1491       5           3            2            5\n",
       "top     Maruti Swift Dzire VDI  Diesel  Individual       Manual  First Owner\n",
       "freq                        69    2153        3244         3892         2832"
      ]
     },
     "execution_count": 116,
     "metadata": {},
     "output_type": "execute_result"
    }
   ],
   "source": [
    "# showing the infomaton about categorical columns\n",
    "car.describe(include='O')"
   ]
  },
  {
   "cell_type": "markdown",
   "metadata": {
    "id": "i_TFNLYD48Xl"
   },
   "source": [
    "# Data Preprocessing and Data Cleaning"
   ]
  },
  {
   "cell_type": "markdown",
   "metadata": {
    "id": "AH7CxZMf9BMP"
   },
   "source": [
    "# Checking for Outliers"
   ]
  },
  {
   "cell_type": "code",
   "execution_count": 117,
   "metadata": {
    "colab": {
     "base_uri": "https://localhost:8080/",
     "height": 463
    },
    "id": "1iOzLu4b9FyD",
    "outputId": "286dfe31-d5d2-4960-d435-cd19adcd8402"
   },
   "outputs": [
    {
     "data": {
      "text/plain": [
       "<Axes: >"
      ]
     },
     "execution_count": 117,
     "metadata": {},
     "output_type": "execute_result"
    },
    {
     "data": {
      "image/png": "[encoded data removed]",
      "text/plain": [
       "<Figure size 640x480 with 1 Axes>"
      ]
     },
     "metadata": {},
     "output_type": "display_data"
    }
   ],
   "source": [
    "# Plotting BoxPlot for checking for outliers\n",
    "sns.boxplot(car,palette='viridis')"
   ]
  },
  {
   "cell_type": "markdown",
   "metadata": {
    "id": "QVNMmO7X-P7t"
   },
   "source": [
    "From this Plot we can see that Selling_price column has so many outliers.So, we will remove these outliers."
   ]
  },
  {
   "cell_type": "code",
   "execution_count": 118,
   "metadata": {
    "colab": {
     "base_uri": "https://localhost:8080/",
     "height": 463
    },
    "id": "eB1nZGGE-ZFJ",
    "outputId": "9a41c7d5-bfdb-4990-9416-7330fb18dac4"
   },
   "outputs": [
    {
     "data": {
      "text/plain": [
       "<Axes: >"
      ]
     },
     "execution_count": 118,
     "metadata": {},
     "output_type": "execute_result"
    },
    {
     "data": {
      "image/png": "[encoded data removed]",
      "text/plain": [
       "<Figure size 640x480 with 1 Axes>"
      ]
     },
     "metadata": {},
     "output_type": "display_data"
    }
   ],
   "source": [
    "# Removing Outliers\n",
    "\n",
    "column = car['selling_price']\n",
    "q1 = np.percentile(column, 25)\n",
    "q3 = np.percentile(column, 75)\n",
    "iqr = q3 - q1\n",
    "lower_bound = q1 - 1.5 * iqr\n",
    "upper_bound = q3 + 1.5 * iqr\n",
    "car['selling_price'] = column[(column > lower_bound) & (column < upper_bound)]\n",
    "\n",
    "sns.boxplot(car,palette='rocket')"
   ]
  },
  {
   "cell_type": "markdown",
   "metadata": {
    "id": "EEbOhFNV6RN4"
   },
   "source": [
    " # Handling Duplicate Values"
   ]
  },
  {
   "cell_type": "code",
   "execution_count": 119,
   "metadata": {
    "colab": {
     "base_uri": "https://localhost:8080/"
    },
    "id": "vpv7PioK9iQZ",
    "outputId": "0b6fee38-4ad6-4e42-9709-db0af20fca13"
   },
   "outputs": [
    {
     "data": {
      "text/plain": [
       "766"
      ]
     },
     "execution_count": 119,
     "metadata": {},
     "output_type": "execute_result"
    }
   ],
   "source": [
    "# checking for duplicate values\n",
    "car.duplicated().sum()"
   ]
  },
  {
   "cell_type": "code",
   "execution_count": 120,
   "metadata": {
    "colab": {
     "base_uri": "https://localhost:8080/"
    },
    "id": "KxzUYR2M9o5p",
    "outputId": "b8eefff4-e68f-4520-814d-43ad9d225efe"
   },
   "outputs": [
    {
     "data": {
      "text/plain": [
       "(3574, 8)"
      ]
     },
     "execution_count": 120,
     "metadata": {},
     "output_type": "execute_result"
    }
   ],
   "source": [
    "# Dropping the duplicate values\n",
    "car.drop_duplicates(inplace=True)\n",
    "car.shape"
   ]
  },
  {
   "cell_type": "markdown",
   "metadata": {
    "id": "ywTi3yOI5wHg"
   },
   "source": [
    "Observation :\n",
    "\n",
    "After dropping duplicate values there are only 3574 rows are left in the dataset\n",
    "with 8 columns."
   ]
  },
  {
   "cell_type": "markdown",
   "metadata": {
    "id": "GD4Yc7Fb6b3o"
   },
   "source": [
    " # Handling Missing Values"
   ]
  },
  {
   "cell_type": "code",
   "execution_count": 121,
   "metadata": {
    "colab": {
     "base_uri": "https://localhost:8080/"
    },
    "id": "wKoQkgKu9VQG",
    "outputId": "ec483953-b0a0-457b-e004-0adcc222096a"
   },
   "outputs": [
    {
     "data": {
      "text/plain": [
       "name               0\n",
       "year               0\n",
       "selling_price    186\n",
       "km_driven          0\n",
       "fuel               0\n",
       "seller_type        0\n",
       "transmission       0\n",
       "owner              0\n",
       "dtype: int64"
      ]
     },
     "execution_count": 121,
     "metadata": {},
     "output_type": "execute_result"
    }
   ],
   "source": [
    "# checking the null values\n",
    "car.isnull().sum()"
   ]
  },
  {
   "cell_type": "markdown",
   "metadata": {
    "id": "AqnrjSZxBseR"
   },
   "source": [
    "Observation :\n",
    "\n",
    "As there are there are very less no. of null values in the dataset so we will drop these null values."
   ]
  },
  {
   "cell_type": "code",
   "execution_count": 122,
   "metadata": {
    "colab": {
     "base_uri": "https://localhost:8080/"
    },
    "id": "83KGJNgIBqXp",
    "outputId": "1c7ba4e5-fbc4-475d-e42f-1fb21326f244"
   },
   "outputs": [
    {
     "data": {
      "text/plain": [
       "False"
      ]
     },
     "execution_count": 122,
     "metadata": {},
     "output_type": "execute_result"
    }
   ],
   "source": [
    "# Dropping the null values\n",
    "car.dropna(inplace=True)\n",
    "\n",
    "# checking for null values\n",
    "car['selling_price'].isnull().any()"
   ]
  },
  {
   "cell_type": "markdown",
   "metadata": {
    "id": "zlWvexXN6j8A"
   },
   "source": [
    "# Checking for Unique values"
   ]
  },
  {
   "cell_type": "code",
   "execution_count": 123,
   "metadata": {
    "colab": {
     "base_uri": "https://localhost:8080/"
    },
    "id": "VxpDSddF-Fnd",
    "outputId": "c087814d-8613-4937-e119-e82376d342a7"
   },
   "outputs": [
    {
     "data": {
      "text/plain": [
       "name             1381\n",
       "year               27\n",
       "selling_price     358\n",
       "km_driven         732\n",
       "fuel                5\n",
       "seller_type         3\n",
       "transmission        2\n",
       "owner               5\n",
       "dtype: int64"
      ]
     },
     "execution_count": 123,
     "metadata": {},
     "output_type": "execute_result"
    }
   ],
   "source": [
    "# checking for unique values\n",
    "car.nunique()"
   ]
  },
  {
   "cell_type": "code",
   "execution_count": 124,
   "metadata": {
    "colab": {
     "base_uri": "https://localhost:8080/"
    },
    "id": "g-sfdrc-_VAW",
    "outputId": "d95f4047-1113-499e-c250-55c2e110a3a5"
   },
   "outputs": [
    {
     "data": {
      "text/plain": [
       "array(['Maruti 800 AC', 'Maruti Wagon R LXI Minor',\n",
       "       'Hyundai Verna 1.6 SX', ..., 'Mahindra Verito 1.5 D6 BSIII',\n",
       "       'Toyota Innova 2.5 VX (Diesel) 8 Seater BS IV',\n",
       "       'Hyundai i20 Magna 1.4 CRDi'], dtype=object)"
      ]
     },
     "execution_count": 124,
     "metadata": {},
     "output_type": "execute_result"
    }
   ],
   "source": [
    "# checking for unique values of  name column\n",
    "car['name'].unique()"
   ]
  },
  {
   "cell_type": "code",
   "execution_count": 125,
   "metadata": {
    "colab": {
     "base_uri": "https://localhost:8080/"
    },
    "id": "de5ibSyR-wcE",
    "outputId": "a92f6261-435f-49fd-9b3d-a55d7d362709"
   },
   "outputs": [
    {
     "data": {
      "text/plain": [
       "array([2007, 2012, 2017, 2014, 2016, 2015, 2013, 2018, 2011, 2010, 2009,\n",
       "       2019, 2006, 1996, 2005, 2008, 2004, 1998, 2003, 2002, 2020, 2000,\n",
       "       1999, 2001, 1995, 1997, 1992], dtype=int64)"
      ]
     },
     "execution_count": 125,
     "metadata": {},
     "output_type": "execute_result"
    }
   ],
   "source": [
    "# checking for unique values of  year column\n",
    "car['year'].unique()"
   ]
  },
  {
   "cell_type": "code",
   "execution_count": 126,
   "metadata": {
    "colab": {
     "base_uri": "https://localhost:8080/"
    },
    "id": "jnIG7vv--9AV",
    "outputId": "b22c55c7-316a-4301-ee62-f20f6cd3d0d4"
   },
   "outputs": [
    {
     "data": {
      "text/plain": [
       "array([  60000.,  135000.,  600000.,  250000.,  450000.,  140000.,\n",
       "        550000.,  240000.,  850000.,  365000.,  260000.,  585000.,\n",
       "        390000.,  975000.,  930000.,  525000.,  900000.,  229999.,\n",
       "        625000., 1050000.,  560000.,  290000.,  275000.,  411000.,\n",
       "        150000.,  500000.,  100000.,  725000.,  401000.,  750000.,\n",
       "        310000.,  665000.,  465000.,  160000.,  675000.,  300000.,\n",
       "         70000.,  151000.,  280000.,  350000.,  570000.,  125000.,\n",
       "        130000.,  925000.,  200000.,  248000.,   80000.,  650000.,\n",
       "        495000.,  371000., 1025000.,  325000.,  210000., 1150000.,\n",
       "        175000.,  628000.,  399000.,  315000.,  780000.,  434000.,\n",
       "        690000.,  555000.,  120000.,  165000.,   95000.,  800000.,\n",
       "        840000.,  490000.,  400000., 1000000.,  530000.,   40000.,\n",
       "         75000.,  540000.,  700000.,  430000.,   65000.,  195000.,\n",
       "        170000.,  225000.,   99000.,  620000.,  320000.,  810000.,\n",
       "        282000.,   72000.,  640000.,  380000.,  434999.,  190000.,\n",
       "        425000.,  265000.,  890000.,  685000.,  940000.,  590000.,\n",
       "        385000.,  235000.,   52000.,   89999.,  180000.,  285000.,\n",
       "       1075000.,   90000.,  220000.,  110000.,  880000.,  115999.,\n",
       "        360000.,  680000.,  860000.,  270000.,  395000.,  624000.,\n",
       "        345000.,  106000.,  575000.,  370000.,   50000.,   55000.,\n",
       "        755000.,  720000., 1100000.,  159000.,  335000.,  185000.,\n",
       "        470000.,  145000.,  595000.,  105000.,  409999.,  215000.,\n",
       "        475000.,  330000., 1044999.,  420000.,  760000.,   43000.,\n",
       "       1125000.,  133000.,  352000.,  520000.,  509999.,  556000.,\n",
       "        484999.,  565000.,  295000.,  670000.,  770000.,  775000.,\n",
       "        535000.,  239000.,  114999.,  200999.,  710000.,  969999.,\n",
       "        155000.,  138000.,  311000.,   58000.,  183000.,  825000.,\n",
       "        299000.,  639000.,  415000.,  699000.,  269000.,  249000.,\n",
       "        254999.,  211000.,  599000.,   98000.,  790000.,   68000.,\n",
       "        875000.,  919999.,  611000.,  711000.,  851000.,  610000.,\n",
       "        744000.,  480000.,  950000.,   85000.,  615000.,  227000.,\n",
       "        222000.,  735000.,  271000.,  455000.,  421000.,  660000.,\n",
       "        716000.,  147000., 1140000.,  375000.,  340000.,  245000.,\n",
       "        715000.,  835000., 1015000.,   91200.,  635000.,  302000.,\n",
       "        204999.,  341000.,  819999.,  351000.,  630000., 1085000.,\n",
       "        580000.,   78000.,  695000.,  355000.,  619000.,   81000.,\n",
       "        486000.,  802000.,  287000.,  250999.,   45000.,  451000.,\n",
       "        149000.,  163000.,  419000.,  990000.,  346000.,  509000.,\n",
       "         69000.,  256000.,   97000.,  199000.,  730000.,  368000.,\n",
       "        545000.,  641000.,  784000.,  324000.,  305000.,  221000.,\n",
       "        828999., 1119000.,  746000., 1030000.,  811999.,  852000.,\n",
       "        830000.,  213000.,   35000.,  869999.,  178000.,  515000.,\n",
       "        312000.,  111000.,  774000.,  148000.,   57000.,  284000.,\n",
       "        349000.,  458000.,  381000.,  751000.,  782000.,  321000.,\n",
       "         92800.,  291000.,   73000.,  655000.,  263000.,  217000.,\n",
       "        539000.,  142000.,  910000.,  740000.,  164000.,  999000.,\n",
       "         56000.,  440000.,  238000.,  541000.,  894999.,  844999.,\n",
       "        288000., 1010000.,   30000.,  396000.,  281000.,   93000.,\n",
       "        459999.,   88000.,   22000.,   79000.,  198000.,  182000.,\n",
       "        861999.,  836000.,  696000.,  596000.,  612000.,   20000.,\n",
       "         61000.,  511000.,  426000.,   62000.,   71000., 1068000.,\n",
       "        363000.,  821000.,  815000.,  738000.,  765000.,  516000.,\n",
       "        134000.,  347000.,  359000.,  980000.,  707000.,  471000.,\n",
       "        377000.,  763000.,  701000.,  277000.,  936999.,   82000.,\n",
       "        799000.,   78692.,  479000.,   48000.,  121000.,  785000.,\n",
       "        173000.,  587000.,  123000.,  193000.,  721000., 1040000.,\n",
       "       1165000.,   42000.,  231999.,  841000., 1090000.,  449000.,\n",
       "        724000.,  126000.,  795000., 1035000.,  430999., 1151000.,\n",
       "        927999.,   51111.,  212000.,  428000.,  219000.,  749000.,\n",
       "        233000.,  614000.,   37500.,  865000.])"
      ]
     },
     "execution_count": 126,
     "metadata": {},
     "output_type": "execute_result"
    }
   ],
   "source": [
    "# checking for unique values of selling_price column\n",
    "car['selling_price'].unique()"
   ]
  },
  {
   "cell_type": "code",
   "execution_count": 127,
   "metadata": {
    "colab": {
     "base_uri": "https://localhost:8080/"
    },
    "id": "MBbOH7wZ_YxH",
    "outputId": "314ab109-8d02-4b8e-99a6-1c3706961105"
   },
   "outputs": [
    {
     "data": {
      "text/plain": [
       "array([ 70000,  50000, 100000,  46000, 141000, 125000,  25000,  60000,\n",
       "        78000,  35000,  24000,  33000,   4500,  14500,  15000, 130400,\n",
       "       119000,  40000,  74000,  64000, 120000,  79000,  80000,  18500,\n",
       "        10200,  29000,  28000,  90000,  73300,  92000,  66764, 350000,\n",
       "       230000,  31000,  39000, 166000, 110000,  54000,  63000,  76000,\n",
       "        11958,  20000,   9000,  58000,  62200,  53000,  63500,  29173,\n",
       "        30000,  87000,  16000,  79350,  81000,   3600,  14272,  49213,\n",
       "        57000,   3240,   5000,  10000, 114000,  53772, 140000, 175000,\n",
       "        36000, 155500,  23000,  22155,  78380, 150000,  80362,  55000,\n",
       "         1136,  43000,   2650, 115962,  65000,  56000, 213000, 139000,\n",
       "       160000, 163000,  32000,  52000,  11240,  66000,  49000,  26500,\n",
       "        72000,  44000, 130000, 195000, 155000,   4000,  41000,  10832,\n",
       "        14681,  51000, 200000,  19600,  46730,  21170, 212814,  88635,\n",
       "       149674,   8000,  68000,  38000,  75000,  98000,  81925,  82080,\n",
       "        97000,  52047,  62009,  33100, 220000,  45000, 180000,  22000,\n",
       "        80577, 127500,  40903,  22288,  61690,  64484,  75976,  85962,\n",
       "        57035,  72104, 164000, 124439,  77000,   1250,  17152,  24005,\n",
       "       149000,  19000, 109000,  61000,  27633,  12586,  38083,  55328,\n",
       "        81632, 155201,  93283, 217871,  90165, 101504,  86017,  85036,\n",
       "        91086, 160254, 125531,  82000,  84000, 560000,  14365,  61083,\n",
       "        21000,   7104,  45974,  55340,  61585,  39415,  29654,  64672,\n",
       "        54634,  66521,   1000,  52600,  19890,  11918,  10510,  49824,\n",
       "        56580,  46507,  11451, 172000,  66508,  29900,  85000,   7900,\n",
       "        17500, 206500,  88600, 186000,  11000, 138000,  27974,  18000,\n",
       "         1400,  86000, 124000,  42000,  28205,  32670,  56228,  59319,\n",
       "        39503,  35299,  51687,  76259,  44049,  45087,  41125,  54206,\n",
       "        52547,  59110,  54565,  47564,  45143,  61624, 132000,  10980,\n",
       "        20629,  69782,  63654,  59385,  70378,  55425,  78413,  40890,\n",
       "        34823,  55545,  56541,  43700,  27483,  56207,   1440,  63657,\n",
       "        97248,  89000,  12000,  12997,  26430,  24600,  28481,  41988,\n",
       "        30375,   7658,  34400,  48000,  28942,  53600,  53652, 106000,\n",
       "       205000, 197000,   9161,  19077, 128000,  21302,  10500, 107000,\n",
       "        55300,  74300,  48781,  87620,  40219,  11473,   8352,   9745,\n",
       "         9748,  31080,  37605,  55850,  58850,  23839,  45454,  46957,\n",
       "       190000, 116000,  26350,  71042, 167870, 133564,  23038,  43608,\n",
       "        11212,  49217,  28838, 135000,  19571,  13500,  48600,  21394,\n",
       "        32686,   1001,  53261,  14000,  39895,  73000,  17000,  18591,\n",
       "        26766, 300000,  27620, 223000, 161327,   6000,  71000, 144000,\n",
       "        37000,  26000,  27000,  13250, 101000,   8500,  90246,  60400,\n",
       "        70950,   1100,  31491, 107143, 107500,  43826,  55838, 112880,\n",
       "        30300,  80659,  81324, 127884,  66755, 123084, 806599,  95851,\n",
       "       234000, 170000,  96000,  19014,  23262,  29600,  35925,  40771,\n",
       "        30500,  55800,  66569,  81358,  82695,  68293, 190621,  64700,\n",
       "        88470, 126000,  74183,      1, 192000,   1500,  83411,  13270,\n",
       "        88000,   7000,  13770,  34000, 102000, 143000, 115000, 136906,\n",
       "         3000, 133000,  28689,  80322,  61658, 185000,  30600, 235000,\n",
       "        67000,  74500, 118700, 223660,   2000,  73756,  41395,  71014,\n",
       "       181000,  89550, 149500,  83000,  44800, 156000, 146000,  99000,\n",
       "        37516,  25880, 136000,   2020,  94000,  88500,  52536,   1950,\n",
       "       118400,   6480,  32077,  19107,  18469,  28217,  72787,  31063,\n",
       "        58692,  54784,  64156,  81366, 244000, 312000, 145000,   7300,\n",
       "        72539,    101,  52328,  20500, 154000,  41723,  68745,  47000,\n",
       "        27289,  24662,  28245,  27005,  39227,  31367,  35008, 100005,\n",
       "        45264,  39093,  45241,   2769,  43128,  22255,  59213,   1010,\n",
       "         1111,  48965,   5166,  76290,  45766,  78771,  79357,  76736,\n",
       "        92645, 101849, 155836,  59000,  63230,   1758,   1452,  35122,\n",
       "        92621,  92198, 152000,  78322,  13000,  54309,  34600,  38217,\n",
       "        77073,  16584,  81257,   3917,  69069,  59059,  39039,  33033,\n",
       "        55168,  41041,  67067,  66066,  82082,  70070,  63063,   9528,\n",
       "       135200,  50300, 151624,  74820, 129000,  66778,  63400, 157000,\n",
       "        38500, 103921,  14825,  43377, 102307, 245244,  68500,   5007,\n",
       "        49600,  43100,  10171,  41123,  52517,  99117,   3700,  43500,\n",
       "       137250,  11200,  93000,  62000,   5800, 267000, 250000,  28635,\n",
       "        32114,  95149,  68458, 105546, 104000, 132343,  26134,  52895,\n",
       "        42324,  60236,  10300, 142000,  28643,   7600,  47253,   4432,\n",
       "        68523,  80251,  34500,  42743,  93900,  55766, 113600, 138925,\n",
       "       121764, 105429,  23122,  44500,  13599,   5200,  12700,  95000,\n",
       "        45839,  74510,  87293, 156040,  93415, 101159,  68519,  55130,\n",
       "        65239,  58182,  91245, 102989, 108000, 178000,  75118,   4637,\n",
       "        42655,  69000, 117000, 105000, 182000,  24585,  13900,  17563,\n",
       "       173000, 151000, 117780,  81595,   9700, 221000,  28740,  48500,\n",
       "       148620, 270000,  41090, 296823,  89255, 168000,   5550,   1700,\n",
       "        45217,  44440,  91365,  90010,  31800,  59100,  31200,  22700,\n",
       "        50900,   2417,  65500, 140300,  10211, 260000,  32933,  54551,\n",
       "        57112,  41025,  53122,  64111,  78892,  74113,  84775,  20778,\n",
       "        64441,  43192,  44416,  79991,  62601,  89600,  60800,  69111,\n",
       "        20969,  20194,  34982,  44588,  57904,  59258,  60826,   1300,\n",
       "        31707, 109052,  90658,  25552,  40700,  11174,  72500,  76600,\n",
       "        97700,  37500,  23800,  44077, 210000, 240000,  17100, 224642,\n",
       "       222435, 159000, 101100, 134444, 238000, 165000,  63700,  74800,\n",
       "        60516,  76731,  63840,  76400,  31489, 295000, 158000, 400000,\n",
       "        19495,  62668,  85710,  63356,   4400,  14987,  25061,  42494,\n",
       "        44875,  89741, 347089, 222252,  55250,  12500, 162000,   2500,\n",
       "        89126, 134000,  42500, 131365,  48980,  98900,  13800,  99700,\n",
       "        49654,  45457,  48220,  11114,  60208,  98600,  85441,  64541,\n",
       "        16267,  71500,  14700,  92686,  49359, 108731,  29976,  30646,\n",
       "        23600,  71318,  78098,  18054,  38406,  54350,  32260,  58231,\n",
       "        59858,  73350,  88473,  96987,  61187,  68350,  81150, 280000,\n",
       "       105700,  37091,  38900,   9400,  14100,  37555,  56600,  67580,\n",
       "        48238,  38365,  49834,  57353,  68308,  63240,  64916,  37161,\n",
       "        50852,  53500,  51500,  79800,  49957,  43235,  50699, 140730,\n",
       "       256000, 218000,  66782, 112198], dtype=int64)"
      ]
     },
     "execution_count": 127,
     "metadata": {},
     "output_type": "execute_result"
    }
   ],
   "source": [
    "# checking for unique values of km_driven column\n",
    "car['km_driven'].unique()"
   ]
  },
  {
   "cell_type": "code",
   "execution_count": 128,
   "metadata": {
    "colab": {
     "base_uri": "https://localhost:8080/"
    },
    "id": "HYdr9XxU_Y2j",
    "outputId": "5815438d-4150-4c7d-a26a-2b27c3f20aeb"
   },
   "outputs": [
    {
     "data": {
      "text/plain": [
       "array(['Petrol', 'Diesel', 'CNG', 'LPG', 'Electric'], dtype=object)"
      ]
     },
     "execution_count": 128,
     "metadata": {},
     "output_type": "execute_result"
    }
   ],
   "source": [
    "# checking for unique values of fuel column\n",
    "car['fuel'].unique()"
   ]
  },
  {
   "cell_type": "code",
   "execution_count": 129,
   "metadata": {
    "colab": {
     "base_uri": "https://localhost:8080/"
    },
    "id": "J1W4sHCV_Y-N",
    "outputId": "4977a43c-5b50-4d2c-9cc8-f4964812a68c"
   },
   "outputs": [
    {
     "data": {
      "text/plain": [
       "array(['Individual', 'Dealer', 'Trustmark Dealer'], dtype=object)"
      ]
     },
     "execution_count": 129,
     "metadata": {},
     "output_type": "execute_result"
    }
   ],
   "source": [
    "# checking for unique values of seller_type column\n",
    "car['seller_type'].unique()"
   ]
  },
  {
   "cell_type": "code",
   "execution_count": 130,
   "metadata": {
    "colab": {
     "base_uri": "https://localhost:8080/"
    },
    "id": "wPnZ5Mng_ZE3",
    "outputId": "057f6d94-d4d6-47ba-8b6a-fefd946136e3"
   },
   "outputs": [
    {
     "data": {
      "text/plain": [
       "array(['Manual', 'Automatic'], dtype=object)"
      ]
     },
     "execution_count": 130,
     "metadata": {},
     "output_type": "execute_result"
    }
   ],
   "source": [
    "# checking for unique values of transmission column\n",
    "car['transmission'].unique()"
   ]
  },
  {
   "cell_type": "code",
   "execution_count": 131,
   "metadata": {
    "colab": {
     "base_uri": "https://localhost:8080/"
    },
    "id": "NcwyJA6L_ZMI",
    "outputId": "adc2af1f-5dbf-43f1-e598-4fca9e592fc3"
   },
   "outputs": [
    {
     "data": {
      "text/plain": [
       "array(['First Owner', 'Second Owner', 'Fourth & Above Owner',\n",
       "       'Third Owner', 'Test Drive Car'], dtype=object)"
      ]
     },
     "execution_count": 131,
     "metadata": {},
     "output_type": "execute_result"
    }
   ],
   "source": [
    "# checking for unique values of owner column\n",
    "car['owner'].unique()"
   ]
  },
  {
   "cell_type": "markdown",
   "metadata": {
    "id": "nQUJN8Lc7A7_"
   },
   "source": [
    "# Feature Engineering"
   ]
  },
  {
   "cell_type": "code",
   "execution_count": 132,
   "metadata": {
    "id": "x7pn3ozQ_7-J"
   },
   "outputs": [],
   "source": [
    "# creating a brand column using the name of the car\n",
    "car['brand'] = car['name'].apply(lambda x:x.split()[0])"
   ]
  },
  {
   "cell_type": "code",
   "execution_count": 133,
   "metadata": {
    "colab": {
     "base_uri": "https://localhost:8080/"
    },
    "id": "5G968WxEDXdk",
    "outputId": "60df934c-a9c5-48b3-9020-f172f138e88d"
   },
   "outputs": [
    {
     "name": "stdout",
     "output_type": "stream",
     "text": [
      "22\n",
      "['Maruti' 'Hyundai' 'Datsun' 'Honda' 'Tata' 'Chevrolet' 'Skoda' 'Toyota'\n",
      " 'Mercedes-Benz' 'Mahindra' 'Ford' 'Nissan' 'Renault' 'Fiat' 'Volkswagen'\n",
      " 'Audi' 'Mitsubishi' 'Daewoo' 'Force' 'OpelCorsa' 'BMW' 'Ambassador']\n",
      "0     Maruti\n",
      "1     Maruti\n",
      "2    Hyundai\n",
      "3     Datsun\n",
      "4      Honda\n",
      "Name: brand, dtype: object\n"
     ]
    }
   ],
   "source": [
    "# checking the unique values of the brand and showing the first 5 rows of brand column\n",
    "print(car['brand'].nunique())\n",
    "print(car['brand'].unique())\n",
    "print(car['brand'].head())"
   ]
  },
  {
   "cell_type": "code",
   "execution_count": 134,
   "metadata": {
    "id": "ZoYGtXIZX5o0"
   },
   "outputs": [],
   "source": [
    "# Saving this updated dataset for visualization by converting into new csv file\n",
    "car.to_csv('car_updated.csv')"
   ]
  },
  {
   "cell_type": "markdown",
   "metadata": {
    "id": "8VJR96HyVlxx"
   },
   "source": [
    "# Visualizing Target Feature"
   ]
  },
  {
   "cell_type": "markdown",
   "metadata": {
    "id": "8dbABHIlVpbn"
   },
   "source": [
    "It is clear that the target feature is 'selling_price' which is the price of the car."
   ]
  },
  {
   "cell_type": "code",
   "execution_count": 135,
   "metadata": {
    "colab": {
     "base_uri": "https://localhost:8080/"
    },
    "id": "KtDPMUuuUIRS",
    "outputId": "3b4c5b46-97b3-460f-8792-df717dda22fb"
   },
   "outputs": [
    {
     "data": {
      "text/plain": [
       "0        60000.0\n",
       "1       135000.0\n",
       "2       600000.0\n",
       "3       250000.0\n",
       "4       450000.0\n",
       "          ...   \n",
       "4335    409999.0\n",
       "4336    409999.0\n",
       "4337    110000.0\n",
       "4338    865000.0\n",
       "4339    225000.0\n",
       "Name: selling_price, Length: 3388, dtype: float64"
      ]
     },
     "execution_count": 135,
     "metadata": {},
     "output_type": "execute_result"
    }
   ],
   "source": [
    "car['selling_price']"
   ]
  },
  {
   "cell_type": "code",
   "execution_count": 136,
   "metadata": {
    "colab": {
     "base_uri": "https://localhost:8080/",
     "height": 506
    },
    "id": "x-uQqPaaV54X",
    "outputId": "76b22eff-614f-46a6-885c-f6dd96968d07"
   },
   "outputs": [
    {
     "data": {
      "image/png": "[encoded data removed]",
      "text/plain": [
       "<Figure size 1000x500 with 2 Axes>"
      ]
     },
     "metadata": {},
     "output_type": "display_data"
    }
   ],
   "source": [
    "# Showing Car Price Distribution plot\n",
    "plt.figure(figsize=(10,5))\n",
    "plt.subplot(1,2,1)\n",
    "sns.distplot(car[\"selling_price\"],color=\"red\",kde=True)\n",
    "plt.title(\"Car Price Distribution\",fontweight=\"black\",pad=20,fontsize=15)\n",
    "\n",
    "# Showing Car Price Spread plot\n",
    "plt.subplot(1,2,2)\n",
    "sns.boxplot(y=car[\"selling_price\"],palette=\"Set2\")\n",
    "plt.title(\"Car Price Spread\",fontweight=\"black\",fontsize=15)\n",
    "plt.tight_layout()\n",
    "plt.show()"
   ]
  },
  {
   "cell_type": "code",
   "execution_count": 137,
   "metadata": {
    "colab": {
     "base_uri": "https://localhost:8080/",
     "height": 81
    },
    "id": "--C-Z2y2WOBv",
    "outputId": "550b3349-8f33-49ec-e324-dd725d41d086"
   },
   "outputs": [
    {
     "data": {
      "text/html": [
       "<div>\n",
       "<style scoped>\n",
       "    .dataframe tbody tr th:only-of-type {\n",
       "        vertical-align: middle;\n",
       "    }\n",
       "\n",
       "    .dataframe tbody tr th {\n",
       "        vertical-align: top;\n",
       "    }\n",
       "\n",
       "    .dataframe thead th {\n",
       "        text-align: right;\n",
       "    }\n",
       "</style>\n",
       "<table border=\"1\" class=\"dataframe\">\n",
       "  <thead>\n",
       "    <tr style=\"text-align: right;\">\n",
       "      <th></th>\n",
       "      <th>min</th>\n",
       "      <th>mean</th>\n",
       "      <th>median</th>\n",
       "      <th>max</th>\n",
       "      <th>std</th>\n",
       "      <th>skew</th>\n",
       "    </tr>\n",
       "  </thead>\n",
       "  <tbody>\n",
       "    <tr>\n",
       "      <th>selling_price</th>\n",
       "      <td>20000.0</td>\n",
       "      <td>387358.371901</td>\n",
       "      <td>325000.0</td>\n",
       "      <td>1165000.0</td>\n",
       "      <td>246786.158679</td>\n",
       "      <td>0.825563</td>\n",
       "    </tr>\n",
       "  </tbody>\n",
       "</table>\n",
       "</div>"
      ],
      "text/plain": [
       "                   min           mean    median        max            std  \\\n",
       "selling_price  20000.0  387358.371901  325000.0  1165000.0  246786.158679   \n",
       "\n",
       "                   skew  \n",
       "selling_price  0.825563  "
      ]
     },
     "execution_count": 137,
     "metadata": {},
     "output_type": "execute_result"
    }
   ],
   "source": [
    "# Graphical Analysis of Car Price\n",
    "car[\"selling_price\"].agg([\"min\",\"mean\",\"median\",\"max\",\"std\",\"skew\"]).to_frame().T"
   ]
  },
  {
   "cell_type": "markdown",
   "metadata": {
    "id": "PPEJI37xYU6r"
   },
   "source": [
    "Insights :\n",
    "\n",
    "1. We can clearly observe that our Car Price Feature is Slightly Rightly Skewed Distribution.\n",
    "\n",
    "2. We can clearly observe that there is a significant difference between mean & median value.\n",
    "\n",
    "3. We can also make an insight that most of the car's price is below 3,25,000.\n",
    "\n",
    "4. The Majority of the Car falls between 20,000  to  11,65,000.\n"
   ]
  },
  {
   "cell_type": "markdown",
   "metadata": {
    "id": "9Kz5mmN7bTcb"
   },
   "source": [
    "# Conversion of Categorical Features to Numerical Features."
   ]
  },
  {
   "cell_type": "markdown",
   "metadata": {
    "id": "5KIin3eYbowp"
   },
   "source": [
    "For this Conversion we will use Label Encoding for converting all the Categorical Features to numerical Features."
   ]
  },
  {
   "cell_type": "markdown",
   "metadata": {
    "id": "qH21FR8HdevE"
   },
   "source": [
    "# Label Encoding"
   ]
  },
  {
   "cell_type": "code",
   "execution_count": 138,
   "metadata": {
    "colab": {
     "base_uri": "https://localhost:8080/",
     "height": 206
    },
    "id": "7SuD8WX9dFiE",
    "outputId": "2d74f413-2b94-48ad-dc2d-9552350203a1"
   },
   "outputs": [
    {
     "data": {
      "text/html": [
       "<div>\n",
       "<style scoped>\n",
       "    .dataframe tbody tr th:only-of-type {\n",
       "        vertical-align: middle;\n",
       "    }\n",
       "\n",
       "    .dataframe tbody tr th {\n",
       "        vertical-align: top;\n",
       "    }\n",
       "\n",
       "    .dataframe thead th {\n",
       "        text-align: right;\n",
       "    }\n",
       "</style>\n",
       "<table border=\"1\" class=\"dataframe\">\n",
       "  <thead>\n",
       "    <tr style=\"text-align: right;\">\n",
       "      <th></th>\n",
       "      <th>name</th>\n",
       "      <th>year</th>\n",
       "      <th>selling_price</th>\n",
       "      <th>km_driven</th>\n",
       "      <th>fuel</th>\n",
       "      <th>seller_type</th>\n",
       "      <th>transmission</th>\n",
       "      <th>owner</th>\n",
       "      <th>brand</th>\n",
       "    </tr>\n",
       "  </thead>\n",
       "  <tbody>\n",
       "    <tr>\n",
       "      <th>0</th>\n",
       "      <td>Maruti 800 AC</td>\n",
       "      <td>2007</td>\n",
       "      <td>60000.0</td>\n",
       "      <td>70000</td>\n",
       "      <td>4</td>\n",
       "      <td>1</td>\n",
       "      <td>1</td>\n",
       "      <td>0</td>\n",
       "      <td>Maruti</td>\n",
       "    </tr>\n",
       "    <tr>\n",
       "      <th>1</th>\n",
       "      <td>Maruti Wagon R LXI Minor</td>\n",
       "      <td>2007</td>\n",
       "      <td>135000.0</td>\n",
       "      <td>50000</td>\n",
       "      <td>4</td>\n",
       "      <td>1</td>\n",
       "      <td>1</td>\n",
       "      <td>0</td>\n",
       "      <td>Maruti</td>\n",
       "    </tr>\n",
       "    <tr>\n",
       "      <th>2</th>\n",
       "      <td>Hyundai Verna 1.6 SX</td>\n",
       "      <td>2012</td>\n",
       "      <td>600000.0</td>\n",
       "      <td>100000</td>\n",
       "      <td>1</td>\n",
       "      <td>1</td>\n",
       "      <td>1</td>\n",
       "      <td>0</td>\n",
       "      <td>Hyundai</td>\n",
       "    </tr>\n",
       "    <tr>\n",
       "      <th>3</th>\n",
       "      <td>Datsun RediGO T Option</td>\n",
       "      <td>2017</td>\n",
       "      <td>250000.0</td>\n",
       "      <td>46000</td>\n",
       "      <td>4</td>\n",
       "      <td>1</td>\n",
       "      <td>1</td>\n",
       "      <td>0</td>\n",
       "      <td>Datsun</td>\n",
       "    </tr>\n",
       "    <tr>\n",
       "      <th>4</th>\n",
       "      <td>Honda Amaze VX i-DTEC</td>\n",
       "      <td>2014</td>\n",
       "      <td>450000.0</td>\n",
       "      <td>141000</td>\n",
       "      <td>1</td>\n",
       "      <td>1</td>\n",
       "      <td>1</td>\n",
       "      <td>2</td>\n",
       "      <td>Honda</td>\n",
       "    </tr>\n",
       "  </tbody>\n",
       "</table>\n",
       "</div>"
      ],
      "text/plain": [
       "                       name  year  selling_price  km_driven  fuel  \\\n",
       "0             Maruti 800 AC  2007        60000.0      70000     4   \n",
       "1  Maruti Wagon R LXI Minor  2007       135000.0      50000     4   \n",
       "2      Hyundai Verna 1.6 SX  2012       600000.0     100000     1   \n",
       "3    Datsun RediGO T Option  2017       250000.0      46000     4   \n",
       "4     Honda Amaze VX i-DTEC  2014       450000.0     141000     1   \n",
       "\n",
       "   seller_type  transmission  owner    brand  \n",
       "0            1             1      0   Maruti  \n",
       "1            1             1      0   Maruti  \n",
       "2            1             1      0  Hyundai  \n",
       "3            1             1      0   Datsun  \n",
       "4            1             1      2    Honda  "
      ]
     },
     "execution_count": 138,
     "metadata": {},
     "output_type": "execute_result"
    }
   ],
   "source": [
    "from sklearn.preprocessing import LabelEncoder\n",
    "\n",
    "le = LabelEncoder()\n",
    "columns = ['fuel','seller_type','transmission','owner']\n",
    "for col in columns:\n",
    "  car[col] = le.fit_transform(car[col])\n",
    "\n",
    "car.head()"
   ]
  },
  {
   "cell_type": "markdown",
   "metadata": {
    "id": "_hRHRICu1Iwc"
   },
   "source": [
    "# Selecting independent and the dependent features from the dataset"
   ]
  },
  {
   "cell_type": "code",
   "execution_count": 139,
   "metadata": {
    "colab": {
     "base_uri": "https://localhost:8080/"
    },
    "id": "KykrGiO3z298",
    "outputId": "65e7ad58-ea78-4966-e51a-ea9bf5b93eae"
   },
   "outputs": [
    {
     "name": "stdout",
     "output_type": "stream",
     "text": [
      "<class 'pandas.core.frame.DataFrame'>\n",
      "<class 'pandas.core.series.Series'>\n",
      "(3388, 6)\n",
      "(3388,)\n"
     ]
    }
   ],
   "source": [
    "x = car.drop(['selling_price','name','brand'],axis=1) # x denotes independent features\n",
    "y = car['selling_price']                              # y denotes dependent variable\n",
    "print(type(x))\n",
    "print(type(y))\n",
    "print(x.shape)\n",
    "print(y.shape)"
   ]
  },
  {
   "cell_type": "markdown",
   "metadata": {
    "id": "ib5xoTlE2KHK"
   },
   "source": [
    "# Train Test Split"
   ]
  },
  {
   "cell_type": "markdown",
   "metadata": {
    "id": "wT9TeqCQ2NLu"
   },
   "source": [
    "Dividing the data into training and testing data"
   ]
  },
  {
   "cell_type": "code",
   "execution_count": 140,
   "metadata": {
    "id": "CAhDZQIE1Yis"
   },
   "outputs": [],
   "source": [
    "from sklearn.model_selection import train_test_split"
   ]
  },
  {
   "cell_type": "code",
   "execution_count": 141,
   "metadata": {
    "colab": {
     "base_uri": "https://localhost:8080/"
    },
    "id": "HRFTFbdz2VUm",
    "outputId": "c4e40936-7b3a-4f49-ae59-eb0e5a3abe8c"
   },
   "outputs": [
    {
     "name": "stdout",
     "output_type": "stream",
     "text": [
      "847.0\n"
     ]
    }
   ],
   "source": [
    "print(3388*0.25)"
   ]
  },
  {
   "cell_type": "code",
   "execution_count": 142,
   "metadata": {
    "colab": {
     "base_uri": "https://localhost:8080/"
    },
    "id": "piecOKyX2VYc",
    "outputId": "a7ecf770-1381-4a94-8f75-ff1ec7d80774"
   },
   "outputs": [
    {
     "name": "stdout",
     "output_type": "stream",
     "text": [
      "(2541, 6)\n",
      "(847, 6)\n",
      "(2541,)\n",
      "(847,)\n"
     ]
    }
   ],
   "source": [
    "x_train,x_test,y_train,y_test = train_test_split(x,y,test_size=0.25,random_state=1)\n",
    "print(x_train.shape)\n",
    "print(x_test.shape)\n",
    "print(y_train.shape)\n",
    "print(y_test.shape)"
   ]
  },
  {
   "cell_type": "markdown",
   "metadata": {
    "id": "cy0It39Y3dI9"
   },
   "source": [
    "# Creating functions to evaluate the Regression Evaluation Metrics, Model Score."
   ]
  },
  {
   "cell_type": "code",
   "execution_count": 143,
   "metadata": {
    "id": "7KsawFc82Vb5"
   },
   "outputs": [],
   "source": [
    "from sklearn.metrics import mean_absolute_error, mean_squared_error, r2_score"
   ]
  },
  {
   "cell_type": "code",
   "execution_count": 144,
   "metadata": {
    "id": "2XLT9G0X2VfG"
   },
   "outputs": [],
   "source": [
    "def reg_eval_metrics(ytest, ypred):\n",
    "    mae = mean_absolute_error(ytest, ypred)\n",
    "    mse = mean_squared_error(ytest, ypred)\n",
    "    rmse = np.sqrt(mean_squared_error(ytest, ypred))\n",
    "    print(\"MAE:\", mae)\n",
    "    print(\"MSE:\", mse)\n",
    "    print(\"RMSE:\", rmse)\n",
    "\n",
    "def mscore(model):\n",
    "    print('Training Score',model.score(x_train,y_train)) # Trainng R2 score\n",
    "    print('Testing Score',model.score(x_test,y_test))    # Testing R2 Score\n",
    "\n",
    "\n"
   ]
  },
  {
   "cell_type": "markdown",
   "metadata": {
    "id": "yNux2Bno4bAx"
   },
   "source": [
    "# Importing the ML Regression libraries"
   ]
  },
  {
   "cell_type": "code",
   "execution_count": 145,
   "metadata": {
    "id": "wczEXRYy4SkB"
   },
   "outputs": [],
   "source": [
    "from sklearn.linear_model import LinearRegression,Ridge,Lasso\n",
    "from sklearn.ensemble import RandomForestRegressor\n",
    "from sklearn.neighbors import KNeighborsRegressor\n",
    "from sklearn.tree import DecisionTreeRegressor\n",
    "from sklearn.ensemble import GradientBoostingRegressor, AdaBoostRegressor\n",
    "from xgboost import XGBRegressor\n"
   ]
  },
  {
   "cell_type": "markdown",
   "metadata": {
    "id": "L_QK8CIV5Luw"
   },
   "source": [
    "# 1. Linear Regression"
   ]
  },
  {
   "cell_type": "code",
   "execution_count": 146,
   "metadata": {
    "colab": {
     "base_uri": "https://localhost:8080/"
    },
    "id": "cPuAmGxO418A",
    "outputId": "bfbf13c3-699d-4aff-c6ac-63ebff14ef26"
   },
   "outputs": [
    {
     "name": "stdout",
     "output_type": "stream",
     "text": [
      "Training Score 0.48143171753346525\n",
      "Testing Score 0.5624937312230587\n",
      "[ -95954.5176743   304117.5410843   463388.54414329  481611.5788525\n",
      "   96977.88869132   49012.83739578  393580.5140717   120256.61036696\n",
      "  204188.30195372  441126.66399296  199458.61549956  119905.17571853\n",
      "  401403.55797189  217154.83039686  397019.39337333   55731.16499333\n",
      "  479931.99695312  262041.28701247   -5703.63421503  443174.09831496\n",
      "  275741.33146056  218607.58254418  414078.40432853  239113.99998526\n",
      "  162332.86443879  291184.39471956  398788.95135141   67576.48097614\n",
      "  481063.41290992  630876.39193401  363341.04879843  233812.06232576\n",
      "  590391.47707447  388621.48387638  317729.14555363  452374.60502617\n",
      "  471124.69253542  594086.55725312  153760.00566762  390726.95823435\n",
      "  713278.19562357  322431.97487192  173082.18859487  486026.14240575\n",
      "  406089.21208315  447173.15883076  215424.9041196   185847.01103021\n",
      "  285219.5829879   299577.41226324  312778.64254257  642804.92063855\n",
      "  369053.36064795  -76223.69394863  399460.78411116  353263.5574021\n",
      "  -16752.51254171  484970.74265128  278006.03953256  482373.38769096\n",
      " -113276.72059085  466993.95863514  423484.0629651   566877.33048305\n",
      "  364895.02195837  318012.86175074  647847.16020212  472869.32524312\n",
      "  503493.75068773  533173.31665047  487323.89070203  321088.30935241\n",
      "  388462.11863458  196099.45170078  327894.87963706  390564.25773711\n",
      "  319496.97014011  446416.35287546  454190.03675584  365957.38881052\n",
      "  620127.06777793  -71701.9235591   314369.98175486  519499.13875173\n",
      "  540900.17848675  135284.60477436  256578.44801121   90084.61181954\n",
      "  312778.64254257  481611.5788525   372756.69194364  409538.27550749\n",
      "  468113.281524    320258.77897857  474893.25125496   72454.25956866\n",
      "  214327.24466515  567045.32200959  614080.57294014  286904.7167191\n",
      "  338215.94023186  546420.05628511  423149.87997683  319907.34433014\n",
      "  353263.5574021   258682.12321369  302349.71649781  439786.33372889\n",
      "  416256.60310504    4373.8571813   369053.36064795  553265.72601371\n",
      "  532263.96118707  531167.96936034  379309.41276591  327806.63694996\n",
      "  413406.57156877  649885.03017723  632903.46307385  211478.8807566\n",
      "  101518.01751237  540900.17848675  326092.32251955  540900.17848675\n",
      "  422476.31382547  539379.6763043   372458.39819831  104877.18131115\n",
      "  632369.77128041  671113.69886465   28435.23163611  309829.85293382\n",
      "  313475.30329135  410719.24052975  436586.53517193  529576.63014805\n",
      "  238527.14042104  229700.97087635  537563.62092964  306557.19843052\n",
      "  579211.14237993  480566.46366052  319907.34433014  574340.2152589\n",
      "  254666.84221538  500721.44645317  343771.38947004  420637.49821205\n",
      "  280679.45416685  654565.48779967  593750.64087325  276437.00745875\n",
      "  583472.91349144  106468.52052343  617439.73673891  278660.62063215\n",
      "  409538.27550749  478460.98930255  467754.03408199  458684.2918253\n",
      "  577313.10995509  238352.1911468   449524.5734899   288626.28816597\n",
      "   95264.46504068  323354.75081601  668177.09226901  519499.13875173\n",
      "  220745.44018883  445247.6366302   436586.53517193  484298.90989152\n",
      "   72701.93326145  263632.62622476  327806.63694996  610410.99258327\n",
      "  434001.42898861  400641.74913343   18605.41393257  491690.80364044\n",
      "  473094.38921763  316548.18053137  566877.33048305  301520.18612397\n",
      "  486388.56635656  591207.76596842  460275.63103759  478252.41505373\n",
      "  174178.1804216   394510.28110009  660089.86370461  375274.80475999\n",
      "  417437.5681273   272118.77840879  624158.06433646  517057.74801388\n",
      "   42294.50979823  414286.97857736  418109.40088706  485732.55148973\n",
      "  744693.36822641  312778.64254257  294000.95024401  207148.33002747\n",
      "  346335.65171265  378168.97665622  506852.91448651  661097.61284424\n",
      "  457922.48298684  170819.01662283   59090.3287921    98780.86752831\n",
      "  433227.37137315 -158927.7232796   380311.81706654  522858.3025505\n",
      "  293240.87479717  497401.38209836  418199.37696575  387030.14466409\n",
      "  410281.17574732  273798.36030817  587032.31327569  478648.38113143\n",
      "  356622.72120088  485810.53360098  446752.26925534  586904.97114465\n",
      "  243302.69415787   -4908.73265886  422476.31382547  444485.82779174\n",
      "  433899.20413291  466993.95863514  549779.22008389  434408.33639542\n",
      "  679284.70450081  550824.33527587  445829.49331125  431459.54678667\n",
      "  157792.73561775  401228.60869765  696729.9845586   338645.93718474\n",
      "  585392.33968606  552000.04260544  402819.94790994  460275.63103759\n",
      "  407232.73459993  406179.11170872  201226.44008604  324147.03076368\n",
      "  415669.74354082  369053.36064795  587032.31327569  338645.93718474\n",
      "  693184.61820684  479014.22389218  621007.47478651  353673.93159213\n",
      "  651206.3240009   648689.2727434   269519.88734853  478564.82937787\n",
      "  148721.25996946  482917.87831967  479867.08575762  202393.33425555\n",
      "  370026.69952437  283877.58509611   16430.48464762  286241.28186885\n",
      "  335117.08180442   50780.66198227  519410.89606463  422476.31382547\n",
      "  590391.47707447  581530.30906661  345500.11461257  629196.81003463\n",
      "  570061.54500759 -148459.69779088  528777.45525724  540900.17848675\n",
      "  489655.38297395  470353.12243392  226098.23436558  262803.09585092\n",
      "  512019.00231571  231633.86354925  434995.19595963  550451.05284365\n",
      "  671848.67039193  566877.33048305    6936.58332395  523216.59062622\n",
      "  402804.68488039  422659.41807558  522858.3025505   360743.69383811\n",
      "  526889.29910903  282371.21907935  160741.5252265   548771.47094426\n",
      "  352376.1398242   506062.48355663  431636.03216086  535063.64000063\n",
      "  437486.64427754  351495.73281563  373330.29750766  540037.64506745\n",
      "  422476.31382547  362850.19563324  381319.56620618  179216.92611976\n",
      "  546527.486367    584680.89861655  227268.68400246  463723.03752346\n",
      "  157382.36142772  590391.47707447  509096.68654877  573595.6580806\n",
      "  432465.5625347   258472.54512179  420796.73192608   25675.17617854\n",
      "  464394.87028322  279422.4294706   392742.45651361  -96422.03003485\n",
      "  479931.99695312  272118.77840879  495010.86799525  293210.51931413\n",
      "  576954.82187937  446503.05946261  650743.06548997  362335.0330504\n",
      "  267011.50851002  397869.44489887  316548.18053137  477099.18429853\n",
      "  553265.72601371  550786.96922352  484298.90989152  319496.97014011\n",
      "  203754.53741103  661500.7125001   612087.44635671  405544.64212026\n",
      "  500760.54589713  131253.60821583  457922.48298684  444064.93821632\n",
      "  -28421.34315033  597445.72105189  422476.31382547  661283.81539723\n",
      "  323192.05031877  471449.11426064  585897.22200502  563343.21741004\n",
      "  208864.27413613  384081.35505534  197867.27628726  602652.42494\n",
      "  250543.17542256  330336.27037489  331165.80074874  596550.31968681\n",
      "  153671.76298051  449549.91892206  470441.36512101  493183.14541462\n",
      "  692848.70182696  310971.71851213   65944.50621995  423148.14658522\n",
      "  428276.86836208  223907.78681207  322856.13393889  356622.72120088\n",
      "  311019.41863807  481611.5788525   155614.53684124  479558.71452089\n",
      "   11800.37974788  106892.67959041  268414.05997593  536469.90701984\n",
      "  590391.47707447  487658.0736903   441126.66399296  553330.46664506\n",
      "  650598.62144662   64392.2664516    32042.06912766  374249.22222915\n",
      "  424917.7045633   335286.77338596  228274.69975048  304879.34992275\n",
      "  206176.94309711  345221.12093282  -11625.52415645  556624.88981248\n",
      "  157255.01929668  343186.06600578  461283.38017722  549906.56221494\n",
      "  245672.38791434  522858.3025505   460177.67117169  419117.15002669\n",
      "   57673.93885405  393076.63950188   31969.34470913  412897.43930626\n",
      "  217016.24333189  194508.11248849  529576.63014805  433227.37137315\n",
      "  551399.94156134  279422.4294706   119905.17571853  361661.46689904\n",
      "  463634.79483636  140235.10778542  488740.28064008  627301.6433171\n",
      "  279012.05528057  171580.82546128  227763.89986025  321675.16891662\n",
      "  461210.65575868  669407.27965408  340164.55197849  398834.82510299\n",
      "  -72440.37108288  142269.95607083  520752.82819253  194508.11248849\n",
      "  292448.71047568  342180.05025776  443281.87366319  421295.3488032\n",
      "  547700.90544159  406019.7464669   -68869.8958006   398698.97527271\n",
      "  157030.92677929  131925.44097558  468585.29784743  382625.86567333\n",
      "  414577.02120565  423895.61434016   89849.18690374  142002.93237191\n",
      "  468661.00830766  212983.51338174  630876.39193401   71110.59404916\n",
      "  288258.48020312  484970.74265128  459027.23262607  309829.85293382\n",
      "  546607.83354147  567189.74480718  355017.59711163  687111.17575879\n",
      "  532935.79394682  111945.40745717  490849.27929914  394084.38864152\n",
      "  407450.05280968  354025.36624056  169051.19203635  463634.79483636\n",
      "  481611.5788525   387030.14466409   83872.39323708  461121.10274266\n",
      "  614080.57294014  386024.12891606  545830.52303843  520853.60310649\n",
      "  551586.14411432  444485.82779174   56556.09924353  243302.69415787\n",
      "  359995.01556155  520416.91181266  504207.952383    522770.0598634\n",
      "  543188.23461739  541245.46075667  422476.31382547  449182.85354882\n",
      "  463723.03752346  135284.60477436  587032.31327569  256914.29862721\n",
      "  439868.96324363  620798.90053769  272030.53572169  457922.48298684\n",
      "  357209.58076509  411369.20890174  363341.04879843  373593.489469\n",
      "  503246.92544325  634235.55573279  485732.55148973  392068.89036226\n",
      "  355442.47112791  265400.45081124  328954.60283282  552134.40915739\n",
      "  578448.20122578  482917.87831967  468761.78322162  348051.59582131\n",
      "  357033.0953909   488329.90645006  492450.87908728  420796.73192608\n",
      "  388709.72656348  147304.8700314   468761.78322162  550824.33527587\n",
      "  744683.78257539   95987.1244946   453219.65366855  322856.13393889\n",
      "    7733.02098008  620798.90053769  309419.47874379   50780.66198227\n",
      "  422388.07113837  725607.53994931  418199.37696575  447844.99159051\n",
      "  281190.25405709  150312.59918174  295807.87427445  503375.15251761\n",
      "  345364.26478229  384432.78970377  535623.12498584   56620.06584956\n",
      "  622292.27988409  334837.37887164  467168.90790939  -20111.67634048\n",
      "  483291.16075189  516012.6328219   614080.57294014  238175.70577261\n",
      "  299431.96342617  478252.41505373  622814.39881695  537801.11381022\n",
      "  379305.80131852  473086.32722452  497401.38209836  422476.31382547\n",
      "  625449.89385493  393196.97106362  490575.07855041  411481.04936821\n",
      "  171930.72400977  554440.73168745  182178.94377477  308908.67885356\n",
      "  573468.31594955  417847.94231733   64392.2664516   232137.73811907\n",
      "  605219.40493227  431636.03216086  397869.44489887  646993.90277416\n",
      "  632555.9738334   334524.96454751  101518.01751237  386024.12891606\n",
      "  266991.79002353  240705.33919755  454563.31918807  106853.58014645\n",
      "  446381.66050559  295807.87427445  486650.32455067  393848.34274728\n",
      "  110765.97853485  662963.39729661  277484.91330258  539467.91899138\n",
      "   94799.68991482  202324.88664823  484970.74265128  456916.46723881\n",
      "  576954.82187937  131925.44097558  614795.03725706  206176.94309711\n",
      "  417341.06714353  521088.74457241  431636.03216086  441713.52355718\n",
      "  406603.27077568  165108.4381649   567789.84585129  380810.43394367\n",
      "  292448.71047568  285553.89750393   92856.91605409  271112.76266076\n",
      "  329984.83572646  119075.6453447   580313.98567815  354854.8966144\n",
      "  492450.87908728  263632.62622476  466232.14979669   73288.79282566\n",
      "  328568.44578842  513698.5842151   402747.22349139  413496.54764748\n",
      "  659356.62556894  373466.14733794  167388.86179712  475655.06009341\n",
      "  485732.55148973  687530.77979404  521226.32779431  442678.9037613\n",
      "  564934.55662233  555170.96282847  411908.69060782  781514.23331517\n",
      "  778994.86046609  373612.27096318  584385.59829557  552168.00079537\n",
      "  184430.62109216  306060.31494502  795246.18883126  503750.34129085\n",
      "  209536.10689589  421558.54076453  807003.26212697  401228.60869765\n",
      "  268934.56388425  396101.62031239  510212.07828528  607570.81959141\n",
      "  397691.22613308  422476.31382547  398044.39417311  200218.6909464\n",
      "  279012.05528057  421804.48106571  549906.56221494  392742.45651361\n",
      "  369053.36064795  487322.15731043  459001.80630202   21964.57773134\n",
      "  414488.77851856   45830.15897119  475527.71796236  466993.95863514\n",
      "  559110.67102358  299838.87083298  630876.39193401  630876.39193401\n",
      "  315002.71507065   83462.23933725  654545.3029938   330583.94406769\n",
      "  184079.18644373  474094.07636414  234993.02734803  119905.17571853\n",
      "  483962.99351165  453518.20399608  451923.59529223  354112.0728277\n",
      "  473667.32182064  122434.80914347  263632.62622476  697939.28352615\n",
      "  520416.91181266  244064.50299633  370234.32567022  662291.56453685\n",
      "  206176.94309711  425835.47762424  177537.34422037  266776.20520538\n",
      "  630876.39193401  169813.0008748   115926.05963783  378881.64225154\n",
      "   42470.99517242  428402.45761652  509421.6473554   434995.19595963\n",
      "  175769.51963389  356054.84668843  399635.73338541  507478.87349468\n",
      "  317644.1723581   330061.82513481  476572.83315434  646636.71878381\n",
      "  617439.73673891  357033.0953909   238175.70577261  549779.22008389\n",
      "  147304.8700314   661097.61284424  559984.05361126  190177.56175935\n",
      "   72878.41863564  476399.61727171  157382.36142772  378296.31878728\n",
      "  103459.25527315  238207.51450789  571580.15980133  135284.60477436\n",
      "  370234.32567022   77828.92164671  175769.51963389  434426.40976486\n",
      "  485605.20935868  255733.33360494  505887.53428238  631462.79705474\n",
      "  539829.07081861  340237.27639703  402233.08834572  512780.81115418\n",
      "  537260.33794972   42294.50979823  522858.3025505   462043.45562407\n",
      "  391062.87461422  627941.97814306  527897.04824866  254971.52476647\n",
      "  189381.12410323  529576.63014805  276533.29849038  -82517.8624792\n",
      "  301520.18612397   50780.66198227  551586.14411432  392068.89036226\n",
      "  365110.60677652  309156.28678246    4066.3192235   546859.8127403\n",
      "  140323.35047252  111095.88818849  342005.10098352  453168.17912825\n",
      "  621679.30754627  153671.76298051  387030.14466409  652370.76691154\n",
      "  429868.20757438  426597.28646269  630690.18938102  257547.03194301\n",
      "  135284.60477436  553578.14033785  326215.29773767  540866.25093238\n",
      "  704023.91844162  114954.67270747  376952.65326777    3577.41952518\n",
      "  254141.99439266  231633.86354925   91293.62733722  512780.81115418\n",
      "  189381.12410323  620798.90053769  385350.5627647   550824.33527587\n",
      "  437073.8987703   155614.53684124  387791.95350254  583209.890966\n",
      "  301520.18612397  517057.74801388  382490.01584305  423149.87997683\n",
      "  516012.6328219   370234.32567022  365694.19684917  620780.65617464\n",
      "  376952.65326777  471944.46164621  282510.59455393  456242.90108745\n",
      "  196099.45170078  445247.6366302   413160.63126759   33984.84298839\n",
      "  587032.31327569  277702.62340873  308238.51372153  675207.8341907\n",
      "  428276.86836208   11887.08633502  468174.92365741  664083.49421079\n",
      "  494759.92481092  554945.3079131   241534.86957138  528615.20764576\n",
      "  376952.65326777  345610.20508346  191172.43301323  418109.40088706\n",
      "  168043.44289671  451204.15538929  625837.64623585  211303.93148236\n",
      "  246357.17540553  519409.16267302  515728.58070841  126623.50331608\n",
      "  381991.39896593  214838.04455538   96815.18819409  476776.70457385\n",
      "  377127.60254201  473712.28623269  425747.23493715]\n",
      "MAE: 127342.15137689102\n",
      "MSE: 27655945825.150513\n",
      "RMSE: 166300.76916584154\n"
     ]
    },
    {
     "data": {
      "text/plain": [
       "56.24937312230587"
      ]
     },
     "execution_count": 146,
     "metadata": {},
     "output_type": "execute_result"
    }
   ],
   "source": [
    "# Building the Linear Regression Model\n",
    "lin_reg = LinearRegression()\n",
    "lin_reg.fit(x_train,y_train)\n",
    "\n",
    "# Computing Training and Testing score\n",
    "mscore(lin_reg)\n",
    "\n",
    "# Generating Prediction\n",
    "ypred_lr = lin_reg.predict(x_test)\n",
    "print(ypred_lr)\n",
    "\n",
    "# Evaluating the model : mean_absolute_error, mean_squared_error, root_mean_squared_error\n",
    "reg_eval_metrics(y_test,ypred_lr)\n",
    "\n",
    "# Evaluating Model : R2 score\n",
    "r2_lr = r2_score(y_test,ypred_lr)*100\n",
    "r2_lr"
   ]
  },
  {
   "cell_type": "markdown",
   "metadata": {
    "id": "M5V15-_5ahNy"
   },
   "source": [
    "# 2. Ridge Regression"
   ]
  },
  {
   "cell_type": "code",
   "execution_count": 147,
   "metadata": {
    "colab": {
     "base_uri": "https://localhost:8080/"
    },
    "id": "I7DMtNW0_gT4",
    "outputId": "aad50739-c51d-4607-93fe-57135786f3c1"
   },
   "outputs": [
    {
     "name": "stdout",
     "output_type": "stream",
     "text": [
      "Training Score 0.4812983644258001\n",
      "Testing Score 0.5614928985578018\n",
      "[ -95585.12994806  305256.19054745  464642.14009295  482873.35304341\n",
      "   96986.78593676   49887.11990477  394719.33619223  120946.73216467\n",
      "  204254.99076417  442312.55604882  200422.22877602  120899.65636655\n",
      "  401551.25640667  217069.1486044   398296.25187022   56626.49158971\n",
      "  481188.51012218  262971.80508821   -5115.24367791  443530.99842535\n",
      "  275902.73349873  218793.74380548  415230.50242411  239058.93465843\n",
      "  163231.1176239   292284.56105646  399106.65497542   68381.64649495\n",
      "  481200.45253557  631437.29500435  364436.08101717  233918.58455319\n",
      "  590876.49800976  389872.03726404  318859.50080227  452809.22675565\n",
      "  471569.1434148   594583.15243648  154682.33613279  391019.40895349\n",
      "  713656.80568683  323577.06098173  174014.11231981  486337.04678097\n",
      "  407167.3828086   448377.99056527  215346.56687619  186818.9185212\n",
      "  286011.42530097  299915.33779466  313766.22649515  631512.83736756\n",
      "  369328.85267673  -75665.23793408  399780.59214392  354327.02348975\n",
      "  -16109.6333367   486243.03888588  278098.20116012  482672.85039587\n",
      " -112605.20184347  467423.44276321  424665.62278303  567288.69711246\n",
      "  365159.51654344  319018.86894601  648410.29110165  474105.74360949\n",
      "  504775.16478209  533578.94373583  487766.12470298  322229.18664474\n",
      "  389246.36549269  197052.54293355  328929.81278628  391642.70152681\n",
      "  320505.5981801   446705.0466958   454454.1778961   366044.98817579\n",
      "  620654.30030844  -71129.30382153  315489.8149598   519863.96154799\n",
      "  542464.19399738  136149.0639992   257407.84118336   90122.84736688\n",
      "  313766.22649515  482873.35304341  373832.31465726  409889.64967133\n",
      "  469510.96948255  320305.09553255  476133.98135847   73223.77355935\n",
      "  214998.88883919  567510.17312315  614588.865792    287864.21301208\n",
      "  339281.17456617  546820.30205037  423492.95992614  320258.01973443\n",
      "  354327.02348975  259602.11924575  303610.09316962  439715.71736715\n",
      "  416629.02135627    4993.81384951  369328.85267673  553685.38685764\n",
      "  532668.76774938  531696.60754004  380405.56083018  328968.55832969\n",
      "  414556.56525561  638615.12421773  620666.59772912  212301.9505662\n",
      "  102327.63868955  542464.19399738  327123.63733432  542464.19399738\n",
      "  423654.71703029  528092.58829491  373533.08655445  105697.32453202\n",
      "  621093.90407427  671411.165771     29168.72383736  310148.96220701\n",
      "  314467.09731     411860.81658164  436971.70329603  529973.0190754\n",
      "  239384.00419091  230583.14635839  537936.12532669  307576.22509378\n",
      "  579663.17059136  480862.2943523   320258.01973443  574953.15320861\n",
      "  254634.96714775  501080.40940713  344094.9544016   420921.7781371\n",
      "  280670.57254818  655149.6627866   594246.18385223  276577.21262167\n",
      "  583938.29101971  107420.91299666  617958.55163447  279897.72538738\n",
      "  409889.64967133  479714.92266286  468058.6343883   458960.48261362\n",
      "  565917.74483473  239259.43730598  450736.770655    289591.17700636\n",
      "   95929.26121524  323588.96003349  668752.97304141  519863.96154799\n",
      "  221599.56390235  445481.73924374  436971.70329603  485569.10171739\n",
      "   73599.48768701  264695.39355286  328968.55832969  610909.81894878\n",
      "  434149.37426426  401751.75905422   19435.38043759  492146.71629819\n",
      "  474331.51256093  316888.33389196  567288.69711246  301686.00205743\n",
      "  486702.63385447  579067.39304574  460684.07107827  479503.66720095\n",
      "  174986.27252916  394687.3178368   648849.89486748  375518.85407811\n",
      "  418600.18826658  273080.86261563  624697.92331941  518379.62127431\n",
      "   43147.74821983  415441.75788604  419274.12543508  486042.53623834\n",
      "  745119.45090675  313766.22649515  294982.67435431  208046.93259235\n",
      "  346501.81702587  379261.55248666  508144.85062456  649860.80062022\n",
      "  459160.98526118  171616.58668668   59996.17743219   99454.65038404\n",
      "  433602.01745356 -158346.2407241   381409.07711446  523233.64739046\n",
      "  294347.48272922  497875.18223039  418399.68561903  388148.44879941\n",
      "  411423.40751889  274765.70553687  587506.81216729  478938.20373625\n",
      "  357696.70933223  487085.46034651  447042.01528005  587381.09904496\n",
      "  244352.7116131    -4152.42045972  423654.71703029  445682.24189129\n",
      "  434275.95462205  467423.44276321  550189.98789284  435573.18436387\n",
      "  668055.95793217  552201.04658395  447030.11622828  431955.92007573\n",
      "  157890.26487111  401426.68952174  697395.30270242  338877.11320955\n",
      "  585863.7295101   553380.43662882  403150.27798638  460684.07107827\n",
      "  408365.41761684  406519.96382885  202068.32615385  325172.25226295\n",
      "  416954.09088875  369328.85267673  587506.81216729  338877.11320955\n",
      "  681997.38300864  479303.16455339  621539.49293886  354079.44504408\n",
      "  651779.97694412  649257.06931346  269712.73209735  467189.10936055\n",
      "  149627.80736908  483221.07444203  480160.7257599   202276.20559002\n",
      "  371093.77097309  284039.06879164   16999.10926105  287198.7000582\n",
      "  336174.63734759   51533.2172826   519902.70709138  423654.71703029\n",
      "  590876.49800976  581989.60169701  345576.5931137   629752.45208312\n",
      "  570533.81606999 -148025.64873283  529173.36878458  542464.19399738\n",
      "  489977.65536518  470793.12860569  226916.16657377  262771.30244067\n",
      "  513325.0925106   232520.06562103  435248.1148314   550863.92506134\n",
      "  659808.10104349  567288.69711246    7602.73444553  511753.63758531\n",
      "  403923.4977393   423836.3669376   523233.64739046  360865.89252715\n",
      "  527277.27040143  283314.48702798  161507.52915926  549179.0821401\n",
      "  353566.11874234  506385.2181781   431878.42898893  522673.09821791\n",
      "  438663.16244102  352680.92611192  374583.88408799  540417.89894968\n",
      "  423654.71703029  362981.02049007  382419.9828672   180040.80129286\n",
      "  546877.13824987  585148.03207756  227303.77975318  464015.01137733\n",
      "  158137.84331679  590876.49800976  510612.01309408  574028.0687974\n",
      "  433802.52010111  258516.28446681  421969.87410905   26221.82792066\n",
      "  464688.94854583  279697.22273983  393041.22045897  -95965.00920307\n",
      "  481188.51012218  273080.86261563  495351.94347493  293223.04190785\n",
      "  577397.75463987  446868.35912413  651317.29523755  362589.48099179\n",
      "  254441.28077397  398057.00367927  316888.33389196  478348.85202233\n",
      "  553685.38685764  551200.89364558  485569.10171739  320505.5981801\n",
      "  203715.97885588  650265.16292132  600750.07589711  405656.40933692\n",
      "  501244.86807287  132105.44098824  459160.98526118  444346.26660607\n",
      "  -27942.27932876  597952.83827895  423654.71703029  661889.03447153\n",
      "  324212.25260682  471765.28881502  586370.19329222  563794.44438505\n",
      "  209857.34913494  384531.18451126  198698.64031138  603175.85133478\n",
      "  251439.70538913  330414.15305997  332338.24417216  584250.51432077\n",
      "  154721.08167619  437958.07758624  470754.38306228  481804.31243346\n",
      "  681660.41442439  311955.6704516    66695.65733633  424328.65419878\n",
      "  428508.74314645  224769.78818335  323875.28402257  357696.70933223\n",
      "  312003.51999056  482873.35304341  156491.74593896  479851.38859956\n",
      "   12532.69632431  107719.1360375   269491.80438104  536836.95764527\n",
      "  590876.49800976  488938.78755987  442312.55604882  540995.11488959\n",
      "  651172.39874632   65136.52753742   32914.12380747  374492.08696151\n",
      "  425139.05730398  335507.42736708  229150.37977856  305055.6878999\n",
      "  207161.60046097  346388.68789788  -11093.8501164   557055.07270011\n",
      "  158012.13019447  344217.96596234  461694.97683101  550315.70101516\n",
      "  246553.66091754  523233.64739046  448617.09168355  420285.03118782\n",
      "   58397.15585247  394213.88331585   32662.97656476  413259.3355138\n",
      "  217070.15534084  195328.95446891  529973.0190754   433602.01745356\n",
      "  539972.31008509  279697.22273983  120899.65636655  362751.23809593\n",
      "  464053.75692074  141242.33830631  489365.14628269  627980.64158297\n",
      "  279944.80118551  171416.08403913  228477.63220908  321904.11711226\n",
      "  461443.82958829  658323.76076981  340349.55443147  399941.20301066\n",
      "  -71997.32905076  143158.32367972  522086.27570102  195328.95446891\n",
      "  293423.5445554   342371.36593696  444476.54445645  421683.55011998\n",
      "  548105.16326211  405894.29205749  -68377.502702    399981.09479146\n",
      "  158090.76751866  132779.37815673  469147.03122786  382767.70426582\n",
      "  414944.17843504  424241.03018317   90494.99269748  142888.43568414\n",
      "  468968.44956577  213862.22660251  631437.29500435   71875.89922237\n",
      "  288331.82557247  486243.03888588  459306.52550925  310148.96220701\n",
      "  547008.66748896  554974.13927206  355427.31938107  687964.75455894\n",
      "  533342.70491788  112685.82998682  492139.98911022  395224.7890686\n",
      "  407616.69092312  354126.5208422   169970.48930884  464053.75692074\n",
      "  482873.35304341  388148.44879941   84677.6727065   461534.21897592\n",
      "  614588.865792    386301.84877402  546228.92218502  522187.3662763\n",
      "  552000.54393639  445682.24189129   56134.94991864  244352.7116131\n",
      "  361077.53897838  521749.30711678  504575.80837193  523272.39293386\n",
      "  543576.32933022  541805.66506746  423654.71703029  450345.07782847\n",
      "  464015.01137733  136149.0639992   587506.81216729  257956.02186792\n",
      "  441052.9436405   621328.23747694  273119.60815904  459160.98526118\n",
      "  357371.63979974  412514.84876326  364436.08101717  374669.70542952\n",
      "  503609.7432813   634806.98084683  486042.53623834  393202.97756311\n",
      "  355446.20380422  266341.49093069  329943.95289323  553515.22406252\n",
      "  567054.36370979  483221.07444203  469069.54014104  348312.23356847\n",
      "  357449.13088655  489612.72472836  492781.90792328  421969.87410905\n",
      "  389833.29172064  148028.78578938  469069.54014104  552201.04658395\n",
      "  732591.30176802   96781.44892102  454443.42508171  323875.28402257\n",
      "    8363.49969198  621328.23747694  310396.54065268   51533.2172826\n",
      "  423693.46257369  714470.93398129  418399.68561903  449051.92773376\n",
      "  281343.32011767  151351.39583372  296793.23039787  503689.46950413\n",
      "  345616.48489449  384578.26030938  536038.45359185   57212.71712263\n",
      "  610984.84654686  323393.37217424  467548.00964814  -19479.31917917\n",
      "  484558.19596465  516368.56258319  614588.865792    239336.92839279\n",
      "  299413.04330922  479503.66720095  623350.04898243  538174.36211576\n",
      "  379562.47708908  474323.42531491  497875.18223039  423654.71703029\n",
      "  614152.35123878  394463.88432118  491816.02696911  411660.3139341\n",
      "  171665.21780898  554866.10093644  182963.1944924   309723.79308321\n",
      "  573902.35567507  418352.60982091   65136.52753742  233025.51849741\n",
      "  605701.96947924  431878.42898893  398057.00367927  647556.38886876\n",
      "  633122.1379256   335707.93001463  102327.63868955  386301.84877402\n",
      "  268065.07939533  240782.52312307  455791.2994187   107554.67737177\n",
      "  446621.34315526  296793.23039787  487927.88180713  395115.26843493\n",
      "  110512.60510477  663573.87739278  278718.33534252  528053.8427515\n",
      "   95588.2670046   203170.21342434  486243.03888588  457314.38523579\n",
      "  577397.75463987  132779.37815673  615307.5959418   207161.60046097\n",
      "  418454.48250654  522423.24428527  431878.42898893  441987.48651634\n",
      "  406818.1868697   165888.12075448  568382.26581579  381122.75312538\n",
      "  293423.5445554   286761.66395726   93817.60274184  271234.26259025\n",
      "  330367.07726184  118975.56525435  580767.44048234  356050.6119544\n",
      "  492781.90792328  264695.39355286  467623.94541077   73274.41815452\n",
      "  328768.05568214  515009.93543183  402899.13074367  413682.12543958\n",
      "  659617.26532234  374543.99230719  167160.05932884  475933.47871092\n",
      "  486042.53623834  676327.86273827  521547.65823183  443871.68584773\n",
      "  565518.03284969  542919.73826738  413056.02030957  769488.2155057\n",
      "  766960.95112384  374690.57364134  584853.83466311  553548.92092094\n",
      "  185219.8969415   307026.85481022  783261.15629003  504067.86138383\n",
      "  210531.28630344  421769.37146151  795055.05673869  401426.68952174\n",
      "  269835.7436581   396410.90630144  511514.53646704  608060.74956898\n",
      "  398970.18903872  423654.71703029  398181.5705642   201057.42040111\n",
      "  279944.80118551  422980.77986179  550315.70101516  393041.22045897\n",
      "  369328.85267673  488601.81897562  459408.28417791   22805.06628006\n",
      "  414982.92397843   46439.94297549  475807.7655886   467423.44276321\n",
      "  559548.64022353  300836.85340884  631437.29500435  631437.29500435\n",
      "  315999.29346257   84266.23406513  655131.44264264  330789.86718762\n",
      "  185172.82114337  475334.33106765  235889.75146351  120899.65636655\n",
      "  485232.13313314  453780.2407276   453094.40450734  354289.83327054\n",
      "  461186.32666422  122345.25109682  264695.39355286  698608.38960571\n",
      "  521749.30711678  244152.20896554  371300.01958705  662899.94022428\n",
      "  207161.60046097  427024.40287276  178355.95837162  267978.11181641\n",
      "  631437.29500435  169769.98666129  116691.71419081  379264.25404823\n",
      "   43070.25713302  429550.52101722  509754.90402057  435248.1148314\n",
      "  176709.86099379  356060.49753331  399905.15902884  507984.23975781\n",
      "  317860.49410129  318424.66475205  477818.82427971  635356.63800807\n",
      "  617958.55163447  357449.13088655  239336.92839279  550189.98789284\n",
      "  148028.78578938  649860.80062022  560424.75854257  191073.93649505\n",
      "   73521.9966002   476858.56312213  158137.84331679  379387.26560898\n",
      "  104300.36092404  239241.57212723  572006.25729191  136149.0639992\n",
      "  371300.01958705   78615.27090731  176709.86099379  435896.77400842\n",
      "  485916.82311601  255984.8549576   506260.65129317  620184.0888968\n",
      "  540206.64348774  340600.70167419  403475.34751886  513124.58986305\n",
      "  538596.59009174   43147.74821983  523233.64739046  462330.1684561\n",
      "  391356.37753773  615689.5717398   528288.17615417  256185.35760515\n",
      "  190313.17124861  529973.0190754   277460.30797345  -82106.38657817\n",
      "  301686.00205743   51533.2172826   552000.54393639  393202.97756311\n",
      "  365246.48412236  310310.71931116   -8159.00032414  534631.4573323\n",
      "  141203.5927629   111848.44088902  342246.79905202  453429.11946281\n",
      "  622213.43010736  154721.08167619  388148.44879941  653166.45732356\n",
      "  430232.33161109  426823.90022521  619409.06115304  258465.50037068\n",
      "  136149.0639992   541370.82901724  327244.96986505  542430.16017038\n",
      "  691905.9378885   115806.38205943  378039.39127199    4233.04860307\n",
      "  254261.26649296  232520.06562103   91943.95760975  513124.58986305\n",
      "  190313.17124861  621328.23747694  386463.60587817  552201.04658395\n",
      "  424781.71234057  156491.74593896  387947.94615185  583674.44461824\n",
      "  301686.00205743  518379.62127431  382807.59604662  423492.95992614\n",
      "  516368.56258319  371300.01958705  365959.16683426  609468.48791774\n",
      "  378039.39127199  472516.71707033  283456.32696155  457476.14233994\n",
      "  197052.54293355  445481.73924374  413345.15685533   34684.78807024\n",
      "  587506.81216729  278633.29561522  308425.37374237  663177.78688596\n",
      "  428508.74314645   12696.00875264  469394.60967353  651893.36494007\n",
      "  496013.98159166  555370.22977887  242706.61423527  529010.61295839\n",
      "  378039.39127199  346827.89329479  191984.85439844  419274.12543508\n",
      "  168959.5835561   452421.61357623  626382.76624065  212177.38368127\n",
      "  246172.00699817  520738.40136404  516208.85747087  127639.02805149\n",
      "  383093.9200357   215671.63640868   97610.07851008  478025.36218145\n",
      "  378163.95815691  474162.81444816  427063.14841617]\n",
      "MAE: 127431.33414217549\n",
      "MSE: 27719211144.86299\n",
      "RMSE: 166490.87405879935\n"
     ]
    },
    {
     "data": {
      "text/plain": [
       "56.14928985578018"
      ]
     },
     "execution_count": 147,
     "metadata": {},
     "output_type": "execute_result"
    }
   ],
   "source": [
    "# Building the Ridge Regression Model\n",
    "ridge = Ridge(alpha=10)\n",
    "ridge.fit(x_train,y_train)\n",
    "\n",
    "# Computing Training and Testing score\n",
    "mscore(ridge)\n",
    "\n",
    "# Generating Prediction\n",
    "ypred_ridge = ridge.predict(x_test)\n",
    "print(ypred_ridge)\n",
    "\n",
    "# Evaluating the model : mean_absolute_error, mean_squared_error, root_mean_squared_error\n",
    "reg_eval_metrics(y_test,ypred_ridge)\n",
    "\n",
    "# Evaluating Model : R2 score\n",
    "r2_ridge = r2_score(y_test,ypred_ridge)*100\n",
    "r2_ridge"
   ]
  },
  {
   "cell_type": "markdown",
   "metadata": {
    "id": "sHhYwNm9atEJ"
   },
   "source": [
    "# 3. Lasso Regression"
   ]
  },
  {
   "cell_type": "code",
   "execution_count": 148,
   "metadata": {
    "colab": {
     "base_uri": "https://localhost:8080/"
    },
    "id": "xIiiYm0Ye2EP",
    "outputId": "bab30220-1a7f-409a-f097-94b8193e3316"
   },
   "outputs": [
    {
     "name": "stdout",
     "output_type": "stream",
     "text": [
      "Training Score 0.4814317175292637\n",
      "Testing Score 0.5624935012027064\n",
      "[ -95954.45649461  304117.89965998  463389.39397325  481611.90882069\n",
      "   96977.98990645   49013.17743824  393580.80982295  120256.76527843\n",
      "  204187.84619234  441126.96823137  199458.91848007  119905.55426405\n",
      "  401403.56328572  217154.79303201  397019.79242826   55731.51367345\n",
      "  479932.32476189  262041.51893005   -5703.47336264  443173.71292411\n",
      "  275741.45194025  218607.73485241  414078.70011249  239113.95457245\n",
      "  162333.14600836  291184.21969752  398789.07850721   67576.74600329\n",
      "  481062.97606777  630876.5343512   363341.33199234  233812.13529984\n",
      "  590391.59376188  388621.87213422  317729.49530842  452374.77475521\n",
      "  471124.3430803   594086.67869125  153760.30253634  390727.07502494\n",
      "  713278.29117627  322432.33067307  173082.48398472  486026.20387545\n",
      "  406088.95430461  447173.47084308  215424.85457118  185847.32283163\n",
      "  285219.84342275  299577.61603104  312778.8870502   642802.8068323\n",
      "  369053.47589424  -76223.5085189   399460.91213073  353263.82763951\n",
      "  -16752.30329297  484971.0769383   278006.09036277  482373.44446436\n",
      " -113276.43127504  466994.12083893  423484.3708418   566877.41693862\n",
      "  364894.6148886   318012.5960182   647847.29811725  472869.12700177\n",
      "  503493.56549865  533173.92938527  487324.05272259  321088.66342603\n",
      "  388462.30764005  196099.75036246  327895.14357945  390564.52328923\n",
      "  319497.22328541  446416.4160617   454189.5666457   365957.37487283\n",
      "  620127.19637485  -71701.73231579  314370.32719081  519499.21693607\n",
      "  540900.1765536   135284.87788948  256578.77050487   90084.73049323\n",
      "  312778.8870502   481611.90882069  372756.44395223  409538.41648356\n",
      "  468113.71934111  320258.75892909  474893.57258547   72454.50454593\n",
      "  214327.46659695  567044.91803257  614080.69376315  286904.43731239\n",
      "  338216.73441365  546419.62579045  423150.012132    319907.54791471\n",
      "  353263.82763951  258682.35081244  302350.17168298  439786.28822587\n",
      "  416256.75271878    4374.03099018  369053.47589424  553265.82129017\n",
      "  532264.055783    531168.16142952  379309.17319925  327806.99966124\n",
      "  413406.86648897  649882.92547379  632901.08868436  211479.07398789\n",
      "  101518.27353539  540900.1765536   326092.06717468  540900.1765536\n",
      "  422476.62040652  539378.15066226  372458.14982338  104877.441653\n",
      "  632368.18734872  671113.76652814   28435.472661    309830.04356188\n",
      "  313475.03172494  410719.53199488  436586.68460244  529576.7212889\n",
      "  238527.34210678  229700.67056584  537563.17904837  306557.4612605\n",
      "  579210.72772319  480566.00114106  319907.54791471  574340.43651292\n",
      "  254666.8367175   500721.00984672  343771.57109397  420637.60081591\n",
      "  280679.55979382  654565.63435248  593750.7618795   276436.56562312\n",
      "  583472.50431401  106468.8817936   617439.86188076  278661.07168172\n",
      "  409538.41648356  478460.79825034  467754.09838064  458684.3444631\n",
      "  577310.96458917  238352.41892877  449524.8885254   288626.01097266\n",
      "   95264.09717149  323354.85995051  668177.23000091  519499.21693607\n",
      "  220745.12836429  445247.67199266  436586.68460244  484299.24331478\n",
      "   72702.27743951  263632.95907066  327806.99966124  610410.59171863\n",
      "  434001.42357078  400642.02764206   18605.74120175  491690.97127549\n",
      "  473094.19126565  316548.37979709  566877.41693862  301520.26718605\n",
      "  486388.1113225   591206.00646571  460275.78460371  478252.74070308\n",
      "  174178.37833819  394510.30387251  660088.28909112  375274.90168393\n",
      "  417437.8682301   272119.02328288  624158.19811598  517058.0972336\n",
      "   42294.84120302  414286.75765975  418109.70185363  485732.61258198\n",
      "  744693.47784804  312778.8870502   294000.67996084  207148.58029279\n",
      "  346335.70147046  378168.73562332  506852.73361626  661096.0395264\n",
      "  457922.80881943  170819.21022058   59090.68179107   98781.02114985\n",
      "  433227.51648483 -158927.98330528  380312.09575839  522858.38505369\n",
      "  293240.70241912  497401.55707542  418199.40387377  387030.43199362\n",
      "  410280.9496795   273798.60734168  587032.42564427  478647.9161459\n",
      "  356622.99575713  485810.8689677   446752.33287346  586904.56637976\n",
      "  243303.027187     -4908.43562152  422476.62040652  444486.13634899\n",
      "  433899.35010836  466994.12083893  549778.79390806  434408.63199615\n",
      "  679282.61127499  550824.70158769  445829.80359603  431459.78850783\n",
      "  157792.86237943  401228.64010773  696730.15900059  338646.03965775\n",
      "  585391.9329764   552000.41042886  402820.08024834  460275.78460371\n",
      "  407232.50461277  406179.24836595  201226.64645707  324146.77291777\n",
      "  415670.14025311  369053.47589424  587032.42564427  338646.03965775\n",
      "  693183.0598217   479014.27634675  621007.08754563  353674.1522688\n",
      "  651206.46623486  648688.89477149  269520.02615055  478563.27818928\n",
      "  148721.55035992  482917.41882338  479866.62233897  202392.75098287\n",
      "  370026.44802304  283877.66979647   16430.6113558   286241.00160916\n",
      "  335117.3550323    50780.90541524  519411.07301788  422476.62040652\n",
      "  590391.59376188  581529.89739159  345499.58372466  629196.95029239\n",
      "  570061.66187822 -148459.55259176  528777.02840088  540900.1765536\n",
      "  489655.44910972  470353.28895654  226098.42007162  262803.05457372\n",
      "  512019.34505718  231634.08269355  434995.24446182  550450.62753158\n",
      "  671846.93560471  566877.41693862    6936.7967083   523214.42835142\n",
      "  402804.44920014  422660.24186178  522858.38505369  360743.6995184\n",
      "  526889.38679482  282371.4508137   160741.70586774  548771.04347277\n",
      "  352375.9908333   506062.54446564  431636.07634421  535061.2187832\n",
      "  437486.42686629  351496.09966252  373330.69242699  540037.20636699\n",
      "  422476.62040652  362849.68705212  381319.84619368  179217.1305146\n",
      "  546527.02968928  584681.00796194  227268.72224262  463723.09663951\n",
      "  157382.53775014  590391.59376188  509096.67004743  573595.75317384\n",
      "  432465.98084116  258472.56087861  420797.03634771   25675.28845135\n",
      "  464394.93026303  279422.60732539  392742.57589551  -96421.90685447\n",
      "  479932.32476189  272119.02328288  495010.42404678  293210.49081021\n",
      "  576954.92129145  446503.19532151  650742.69015859  362335.13965902\n",
      "  267009.66796508  397869.47199012  316548.37979709  477098.99149546\n",
      "  553265.82129017  550786.54434334  484299.24331478  319497.22328541\n",
      "  203754.54541936  661499.13970052  612085.31937855  405544.10946734\n",
      "  500760.72519303  131253.87614835  457922.80881943  444064.99837937\n",
      "  -28421.24778641  597445.84680887  422476.62040652  661283.97058769\n",
      "  323192.30821479  471449.18331002  585896.81594449  563343.325643\n",
      "  208864.58920938  384081.58850529  197867.47833946  602652.55739116\n",
      "  250542.87558743  330336.26328192  331166.16777886  596547.9248797\n",
      "  153672.15861814  449547.71457727  470441.43287473  493181.06972972\n",
      "  692847.14300994  310971.44372688   65944.22585797  423148.45403004\n",
      "  428276.9082266   223907.99602305  322856.39140303  356622.99575713\n",
      "  311019.14391416  481611.90882069  155614.80977315  479558.25070577\n",
      "   11800.62570671  106892.94252356  268414.39896926  536469.98070212\n",
      "  590391.59376188  487658.41143239  441126.96823137  553328.58588279\n",
      "  650598.24592954   64392.50106367   32042.41367219  374248.80086479\n",
      "  424917.740109    335286.87154014  228274.91457594  304879.43530365\n",
      "  206177.25471529  345220.96274278  -11625.40719836  556624.98940778\n",
      "  157254.67848563  343186.32328668  461283.53503899  549906.65317256\n",
      "  245672.0818169   522858.38505369  460175.99746061  419117.45228891\n",
      "   57674.16482845  393076.93460532   31969.56395662  412897.58460116\n",
      "  217016.29471179  194508.31022185  529576.7212889   433227.51648483\n",
      "  551398.30617008  279422.60732539  119905.55426405  361661.74793354\n",
      "  463634.95272132  140235.48614771  488740.56968521  627301.36305089\n",
      "  279012.2826961   171580.74586425  227764.13906738  321675.2758917\n",
      "  461210.68532342  669405.81590224  340164.63008279  398834.58431875\n",
      "  -72440.27967134  142269.7211972   520753.18216297  194508.31022185\n",
      "  292448.95516653  342180.13095336  443281.66370279  421295.5048952\n",
      "  547700.4765937   406019.68387176  -68869.76351795  398699.37648705\n",
      "  157031.32673576  131925.70977187  468585.56097955  382625.35619637\n",
      "  414577.16865997  423895.74745411   89849.32904194  142003.2141247\n",
      "  468661.0737724   212983.73486871  630876.5343512    71110.83729889\n",
      "  288258.5178936   484971.0769383   459026.76873505  309830.04356188\n",
      "  546607.40328822  567187.95442481  355017.81951585  687110.98234839\n",
      "  532935.88940652  111945.62424421  490849.62114412  394084.6850406\n",
      "  407450.06589742  354025.36328319  169051.48224358  463634.95272132\n",
      "  481611.90882069  387030.43199362   83872.6528945   461120.74042606\n",
      "  614080.69376315  386024.23966029  545830.09178581  520853.9572065\n",
      "  551586.23723137  444486.13634899   56555.40743324  243303.027187\n",
      "  359995.81142324  520417.26535121  504208.03722883  522770.24113549\n",
      "  543188.31693734  541245.66578235  422476.62040652  449182.62485407\n",
      "  463723.09663951  135284.87788948  587032.42564427  256914.62283544\n",
      "  439868.74889529  620799.02999837  272030.87936468  457922.80881943\n",
      "  357209.6082228   411368.9842328   363341.33199234  373593.75952318\n",
      "  503247.52602323  634235.70246881  485732.61258198  392069.18417003\n",
      "  355442.41735015  265400.68704766  328954.32484677  552134.77715357\n",
      "  578446.57428896  482917.41882338  468761.84881593  348051.71038706\n",
      "  357033.32038642  488330.24505591  492450.94881719  420797.03634771\n",
      "  388710.01605242  147305.03339731  468761.84881593  550824.70158769\n",
      "  744681.96358552   95986.85643689  453219.97345477  322856.39140303\n",
      "    7733.1991078   620799.02999837  309419.71893259   50780.90541524\n",
      "  422388.47648833  725605.99692875  418199.40387377  447845.3044666\n",
      "  281190.33530238  150312.99050054  295808.12328415  503375.20997155\n",
      "  345364.37589297  384432.79951968  535623.2239006    56620.19158666\n",
      "  622290.68299589  334835.87338267  467169.04401693  -20111.47141058\n",
      "  483291.4928795   516012.18955395  614080.69376315  238176.13109239\n",
      "  299431.91659991  478252.74070308  622814.53086893  537800.67223429\n",
      "  379305.90342507  473086.12926216  497401.55707542  422476.62040652\n",
      "  625448.30102644  393196.84823438  490574.87675194  411481.06763855\n",
      "  171930.59222025  554440.31150486  182178.60868693  308908.94342402\n",
      "  573467.89390933  417848.1928594    64392.50106367  232137.95791119\n",
      "  605218.99739286  431636.07634421  397869.47199012  646993.52262253\n",
      "  632556.11841001  334525.33589647  101518.27353539  386024.23966029\n",
      "  266992.12718827  240705.39471307  454563.64070182  106853.22717725\n",
      "  446381.18035631  295808.12328415  486650.66099711  393848.73772523\n",
      "  110765.87339127  662963.5546465   277485.36284056  539466.29458044\n",
      "   94799.93730017  202325.09443153  484971.0769383   456916.61648609\n",
      "  576954.92129145  131925.70977187  614794.64202892  206177.25471529\n",
      "  417340.82383135  521089.09897473  431636.07634421  441713.58069704\n",
      "  406603.3090959   165108.62442064  567790.05868359  380810.56430588\n",
      "  292448.95516653  285554.33109494   92857.28614517  271112.83094955\n",
      "  329985.05226753  119075.6497671   580314.08940905  354855.26778013\n",
      "  492450.94881719  263632.95907066  466232.58519526   73288.88990518\n",
      "  328568.53530492  513698.92911599  402747.23053277  413496.56850912\n",
      "  659356.67811651  373465.90025867  167388.75048936  475655.10822915\n",
      "  485732.61258198  687528.6971701   521225.86490837  442678.69302567\n",
      "  564934.76578362  555168.64002396  411908.46663249  781511.91838685\n",
      "  778992.54229864  373612.02407178  584385.19029156  552168.36883474\n",
      "  184430.80586902  306060.55081498  795244.40852766  503749.88225743\n",
      "  209536.4228329   421558.57199138  807001.4969393   401228.64010773\n",
      "  268934.77834327  396101.74401312  510211.90173387  607570.41507519\n",
      "  397691.62605178  422476.62040652  398044.39516811  200218.89602178\n",
      "  279012.2826961   421804.78678299  549906.65317256  392742.57589551\n",
      "  369053.47589424  487322.49462063  459001.44126067   21964.90931936\n",
      "  414489.02474178   45830.297157    475527.24896464  466994.12083893\n",
      "  559110.77381481  299839.12502527  630876.5343512   630876.5343512\n",
      "  315002.44546802   83462.49846734  654544.93255091  330584.03617548\n",
      "  184079.59485463  474093.87969745  234993.25081117  119905.55426405\n",
      "  483963.32650302  453517.73302218  451923.37012123  354112.142543\n",
      "  473664.87430906  122434.81788471  263632.95907066  697939.45952293\n",
      "  520417.26535121  244064.56283067  370234.59140557  662291.72102298\n",
      "  206177.25471529  425835.78852413  177537.54645579  266776.12400557\n",
      "  630876.5343512   169813.01788726  115926.27158333  378881.84269512\n",
      "   42471.1290394   428402.22852583  509421.71258324  434995.24446182\n",
      "  175769.8184788   356054.79369799  399635.83530873  507479.06142825\n",
      "  317644.27415057  330060.18830244  476573.15664428  646634.60990406\n",
      "  617439.86188076  357033.32038642  238176.13109239  549778.79390806\n",
      "  147305.03339731  661096.0395264   559984.15752539  190177.81652674\n",
      "   72878.56527589  476399.79156823  157382.53775014  378296.59488783\n",
      "  103459.560032    238207.84098621  571580.25230327  135284.87788948\n",
      "  370234.59140557   77829.17353411  175769.8184788   434426.9294747\n",
      "  485604.75331747  255733.50732411  505887.62128763  631461.21195696\n",
      "  539829.14881973  340237.47979837  402233.46778267  512780.88070086\n",
      "  537260.16985276   42294.84120302  522858.38505369  462043.51258071\n",
      "  391062.9918367   627939.59737465  527897.1372301   254971.97168044\n",
      "  189381.41412724  529576.7212889   276533.00574926  -82517.78402417\n",
      "  301520.26718605   50780.90541524  551586.23723137  392069.18417003\n",
      "  365110.6180713   309156.6518364     4064.45391326  546858.02254115\n",
      "  140323.6300659   111095.57695416  342005.20777536  453167.70770432\n",
      "  621678.92116915  153672.15861814  387030.43199362  652370.555157\n",
      "  429868.34836722  426597.3241678   630688.60328992  257546.74111265\n",
      "  135284.87788948  553576.35877637  326215.55952064  540866.24895561\n",
      "  704022.0998182   114954.94600582  376952.92764079    3577.6285907\n",
      "  254142.0671835   231634.08269355   91293.77133251  512780.88070086\n",
      "  189381.41412724  620799.02999837  385350.84793481  550824.70158769\n",
      "  437072.14526663  155614.80977315  387791.96763729  583209.48145039\n",
      "  301520.26718605  517058.0972336   382490.14836468  423150.012132\n",
      "  516012.18955395  370234.59140557  365694.30777663  620779.05734297\n",
      "  376952.92764079  471944.72909716  282510.30949774  456243.22476062\n",
      "  196099.75036246  445247.67199266  413160.65169736   33985.06482719\n",
      "  587032.42564427  277702.33217101  308238.60342126  675206.10372233\n",
      "  428276.9082266    11887.40496653  468175.23635025  664081.1335879\n",
      "  494759.72839286  554945.40534898  241535.29921     528614.7805808\n",
      "  376952.92764079  345610.59068458  191172.10948821  418109.70185363\n",
      "  168043.7318083   451204.4725842   625837.78217479  211304.1508099\n",
      "  246357.06034167  519409.51491593  515728.75292736  126623.89049926\n",
      "  381991.6798172   214838.24210551   96815.43817073  476776.51135617\n",
      "  377127.85081878  473712.45707414  425747.64460594]\n",
      "MAE: 127342.18049792513\n",
      "MSE: 27655960365.35452\n",
      "RMSE: 166300.81288242256\n"
     ]
    },
    {
     "data": {
      "text/plain": [
       "56.249350120270634"
      ]
     },
     "execution_count": 148,
     "metadata": {},
     "output_type": "execute_result"
    }
   ],
   "source": [
    "# Building the Lasso Regression Model\n",
    "lasso = Lasso(alpha=0.1)\n",
    "lasso.fit(x_train,y_train)\n",
    "\n",
    "# Computing Training and Testing score\n",
    "mscore(lasso)\n",
    "\n",
    "# Generating Prediction\n",
    "ypred_lasso = lasso.predict(x_test)\n",
    "print(ypred_lasso)\n",
    "\n",
    "# Evaluating the model : mean_absolute_error, mean_squared_error, root_mean_squared_error\n",
    "reg_eval_metrics(y_test,ypred_lasso)\n",
    "\n",
    "# Evaluating Model : R2 score\n",
    "r2_lasso = r2_score(y_test,ypred_lasso)*100\n",
    "r2_lasso"
   ]
  },
  {
   "cell_type": "markdown",
   "metadata": {
    "id": "ojD2DNSV7lak"
   },
   "source": [
    "# 4. Random Forest Regression"
   ]
  },
  {
   "cell_type": "code",
   "execution_count": 149,
   "metadata": {
    "colab": {
     "base_uri": "https://localhost:8080/"
    },
    "id": "C_GVeU0d55GZ",
    "outputId": "57c58c85-a16a-49c7-c0a5-bd8ba660e3a4"
   },
   "outputs": [
    {
     "name": "stdout",
     "output_type": "stream",
     "text": [
      "Training Score 0.8191612121869217\n",
      "Testing Score 0.5694409737952779\n",
      "[ 71471.66666667 308280.36314286 553649.69558902 425057.81385281\n",
      " 142917.485      110612.85714286 325775.83333333  91236.\n",
      " 235869.98       402876.98190476 243140.40417249 146318.696\n",
      " 465589.49666667 174249.87333333 389641.32083333 146872.5\n",
      " 338919.66089466 196355.83333333  78195.         316400.\n",
      " 386750.         208896.65666667 359433.62987013  75612.5\n",
      " 174128.11169048 263640.48606061 292856.18019048  83500.\n",
      " 256459.56190476 933169.90620491 394427.60904762 335810.\n",
      " 637129.9533103  261666.53761905 231500.         365500.\n",
      " 544590.         785117.57527579 101615.         304758.46681097\n",
      " 544020.         484000.         195986.63933333 451169.92090224\n",
      " 297240.         466932.24219048 170299.94       190500.\n",
      " 117026.06457143 196813.33333333 320752.5        627509.97\n",
      " 283222.69928571  58473.         292856.18019048 254922.38095238\n",
      "  66256.66666667 421954.62283867 229749.96       293313.70647367\n",
      "  72929.94       494162.0452619  398238.23333333 640250.\n",
      " 320510.         247399.99       861550.         501570.\n",
      " 558390.23809524 696440.31284887 748645.23809524 360050.\n",
      " 216500.         196174.545      257880.71428571 205090.\n",
      " 263315.         374173.64666667 434181.23119048 441308.32666667\n",
      " 843287.53968254  76828.         242549.98       532937.55952381\n",
      " 843450.         151793.13492063 254760.83333333 152150.\n",
      " 320752.5        425057.81385281 306049.99       261088.26118326\n",
      " 295724.155      174264.91619048 331594.04623155 101543.35714286\n",
      " 177638.71819048 548950.         790150.         251910.66666667\n",
      " 490025.43933333 627250.         329406.8452381  305367.08333333\n",
      " 254922.38095238 230706.48142857 235616.65666667 275077.61904762\n",
      " 295175.65238095 102860.         283222.69928571 627661.48809524\n",
      " 467251.26190476 652176.41857143 317500.         331260.63428571\n",
      " 318767.32142857 581789.99       639880.         127875.\n",
      " 123295.         843450.         255919.92       843450.\n",
      " 330297.39385614 448509.935      306749.99       110515.5952381\n",
      " 599950.         453880.83333333 105507.48       309430.64075855\n",
      " 253189.84       297423.1547619  355052.1969697  529002.21428571\n",
      " 251673.33333333 210730.         461542.85714286 548949.99\n",
      " 751882.498      322360.44016667 305367.08333333 727641.62719048\n",
      " 300599.99       431780.         300699.9975     433849.95\n",
      " 206460.         874148.98108333 717366.60183091 243426.65666667\n",
      " 606885.79833333 110207.5        730701.9047619  255526.53947619\n",
      " 261088.26118326 493668.33       288150.         326178.72344283\n",
      " 474855.         214300.         384088.97683333 244770.\n",
      " 119710.         226345.         786000.47619048 532937.55952381\n",
      " 267750.         532112.81830996 355052.1969697  328213.29296925\n",
      " 177571.66666667 268609.99333333 331260.63428571 677416.21358766\n",
      " 639150.         321199.93        99931.11       537686.17033333\n",
      " 504609.05769048 214609.52380952 640250.         223232.33323413\n",
      " 484099.99666667 680383.30333333 506912.21139971 689630.05285714\n",
      " 138503.33333333 190952.83333333 432506.02192645 266433.32\n",
      " 281556.52777778 327524.99       811002.45881854 504309.63835714\n",
      " 123751.66666667 402070.         293842.17190476 481711.04601335\n",
      " 463340.         320752.5        307749.57       114125.7975\n",
      " 318844.98       329201.33333333 510060.71985532 478845.91977595\n",
      " 343632.19438095 187145.83333333 104366.66        92156.66666667\n",
      " 267345.83333333  58908.33333333 224812.85714286 597975.83333333\n",
      " 269379.91       568523.80952381 264592.82314907 279377.68514286\n",
      " 347948.6225     160439.99       708029.48773449 625366.25666667\n",
      " 291820.09920635 372425.20728462 374173.64666667 549428.21428571\n",
      " 312826.66666667  90517.76       330297.39385614 302335.97994326\n",
      " 323974.85095238 494162.0452619  454439.98       343949.92\n",
      " 583000.         550366.69444444 597215.07603175 474027.71366522\n",
      " 204767.455      179825.23809524 682936.66666667 256747.61904762\n",
      " 589602.46017521 473109.80952381 252807.00396825 506912.21139971\n",
      " 361403.47858333 387580.73759606 268234.16666667 242209.77\n",
      " 358700.         283222.69928571 708029.48773449 256747.61904762\n",
      " 638961.69871795 628815.8531746  743179.96783333 187965.70428571\n",
      " 888010.95238095 767334.52380952 441124.83       367457.11564286\n",
      " 150426.66666667 472313.33333333 442994.3875     179464.78\n",
      " 264669.44       301353.33333333  93330.         255481.66666667\n",
      " 248480.          72478.33333333 462231.19047619 330297.39385614\n",
      " 637129.9533103  657822.08333333 165733.79952381 723821.88714064\n",
      " 501900.          78784.16666667 564316.66666667 843450.\n",
      " 561581.66566667 547317.68398268 169110.         215897.49\n",
      " 349205.81349206 245140.33549784 233702.58978022 755710.\n",
      " 966704.98       640250.         112930.         439669.99\n",
      " 309458.33333333 557003.78477731 597975.83333333 421722.61904762\n",
      " 631853.87767788 221388.56942857 143075.         559433.33333333\n",
      " 442121.9047619  545713.29365079 450779.26190476 455350.\n",
      " 403577.11216667 343252.85714286 361390.         475603.33333333\n",
      " 330297.39385614 161590.         255637.02380952 209350.\n",
      " 765739.99       597552.74793651 237399.12666667 413874.35809524\n",
      " 123430.83333333 637129.9533103  744889.92       620557.73809524\n",
      " 543443.80952381 179258.92857143 342679.81296481 112611.66666667\n",
      " 401827.00243867 183816.26255556 433404.84126984  74164.\n",
      " 338919.66089466 327524.99       586440.         276934.62285714\n",
      " 596316.66666667 522799.9        652779.16666667 244265.3520091\n",
      " 300874.86583333 289015.11904762 214609.52380952 443916.58666667\n",
      " 627661.48809524 582871.9047619  328213.29296925 263315.\n",
      " 168997.38583333 569294.43783333 630160.         640100.\n",
      " 328821.68714286 129403.33333333 343632.19438095 359312.15190476\n",
      "  74686.66666667 860925.59654509 330297.39385614 873832.67857143\n",
      " 341838.72655123 506953.33333333 434135.88684982 661717.32465104\n",
      " 163938.45238095 181880.23809524 191758.33333333 792165.83333333\n",
      " 219260.         425200.         476215.23809524 619410.\n",
      " 238675.         493989.89       427868.33333333 422981.54242424\n",
      " 739530.83333333 359422.49        86095.         495800.76517705\n",
      " 422426.29148629 178540.96689358 334705.39321789 291820.09920635\n",
      " 359422.49       425057.81385281  99134.02380952 548094.3875\n",
      "  84580.         102297.42857143 227776.58730159 545466.996\n",
      " 637129.9533103  583322.91291667 402876.98190476 647711.66666667\n",
      " 655233.33333333 123146.66666667  70675.         241831.66666667\n",
      " 342938.61471861 350368.95825397 167969.88095238 706300.97719048\n",
      " 208900.         383249.96        83750.         645392.66505708\n",
      "  99087.5        306066.66666667 508352.15728716 716667.7720754\n",
      " 214998.05032323 597975.83333333 406230.         410417.8435\n",
      " 120335.55       317916.64666667  96870.         354471.11571429\n",
      "  94917.5        111196.         529002.21428571 267345.83333333\n",
      " 520899.42460317 183816.26255556 146318.696      328913.53978355\n",
      " 492558.68187368 144762.95333333 303080.         813250.\n",
      " 221532.49416667 147499.99       137701.66666667 177011.66666667\n",
      " 411874.97       513648.33133333 397082.4585     486935.03968254\n",
      "  65560.         127827.16666667 395490.50030379 111196.\n",
      " 198883.57142857 440074.1185     403582.23190476 366486.38761905\n",
      " 430040.55555556 310774.98        66060.         337430.14873016\n",
      " 138725.83333333 117525.33333333 391100.         338112.61904762\n",
      " 336890.42238095 327307.08333333  86926.66666667 124668.81111111\n",
      " 338483.33333333 214200.         933169.90620491  94593.35714286\n",
      " 409674.97       421954.62283867 371049.99       309430.64075855\n",
      " 455200.         576896.66666667 320286.98095238 692460.\n",
      " 467251.26190476 123013.18047619 557851.66416667 434927.02380952\n",
      " 212864.43722944 342622.90073016 182183.94336111 492558.68187368\n",
      " 425057.81385281 279377.68514286  99642.61904762 500710.43109668\n",
      " 790150.         226516.66666667 525250.         463622.45917825\n",
      " 673179.07404762 302335.97994326 248149.79       312826.66666667\n",
      " 661595.         396054.62007291 433023.33333333 628270.47619048\n",
      " 612607.98566667 573390.92895238 330297.39385614 435350.\n",
      " 413874.35809524 151793.13492063 708029.48773449 223931.37814286\n",
      " 311558.98       733507.42063492 239659.275      343632.19438095\n",
      " 221730.         299354.97       394427.60904762 259844.94031746\n",
      " 533400.         877125.         481711.04601335 468387.02380952\n",
      " 333200.         187403.33333333 365849.99       631157.14285714\n",
      " 668528.44142857 472313.33333333 338483.33333333 185160.\n",
      " 216918.33333333 474071.47242857 803539.24242424 342679.81296481\n",
      " 348279.13266234 103958.33333333 338483.33333333 550366.69444444\n",
      " 759116.66666667 140333.33333333 520803.38888889 334705.39321789\n",
      "  92305.         733507.42063492 349225.          72478.33333333\n",
      " 275689.9997225  651831.13666667 264592.82314907 395906.49598901\n",
      " 170937.5        173865.58440476 269855.965      480618.33333333\n",
      " 131699.78571429 332845.66544567 562789.         116222.38095238\n",
      " 513637.91717949 568400.         508199.74        84800.\n",
      " 537484.30194805 618300.         790150.         235225.82\n",
      " 389199.92       689630.05285714 832205.793      494051.19047619\n",
      " 438359.9705     504609.05769048 568523.80952381 330297.39385614\n",
      " 477423.00105556 321386.61666667 512750.         204113.49747475\n",
      " 223949.93       520456.64285714 146250.         242858.325\n",
      " 698821.66466667 457384.1017316  123146.66666667 255131.16883117\n",
      " 663244.4047619  450779.26190476 289015.11904762 670558.33083333\n",
      " 812429.16666667 211223.21428571 123295.         226516.66666667\n",
      " 223744.92063492 229725.32266667 318922.78787879  86780.\n",
      " 427565.70428571 269855.965      416418.39058242 278107.12238095\n",
      "  95450.         817196.07142857 250148.22397619 557089.95\n",
      " 205411.66666667 255350.         421954.62283867 440804.28571429\n",
      " 596316.66666667 117525.33333333 637766.8032326  208900.\n",
      " 373199.99       491611.2950938  450779.26190476 381619.02777778\n",
      " 338711.83333333  99998.66047619 559947.77444444 252550.11904762\n",
      " 198883.57142857 255959.97       157931.66333333 268135.31933333\n",
      " 195140.          96125.         537272.06709957 300178.69047619\n",
      " 803539.24242424 268609.99333333 394503.26995238 138199.99\n",
      " 207458.89430905 504670.83333333 311727.66666667 191675.06132756\n",
      " 390970.         329099.99       214549.71       412450.56776557\n",
      " 481711.04601335 679199.84       567737.22       423967.52631258\n",
      " 845950.47619048 550089.97       354822.1308547  758669.95\n",
      " 817118.55142857 329849.99       602930.10380952 654030.71428571\n",
      " 180759.97333333 352450.         848379.16666667 533890.\n",
      " 160336.07142857 517856.66666667 921296.66666667 179825.23809524\n",
      " 258947.5        538736.67049423 513675.96816667 691173.0902381\n",
      " 377066.48       330297.39385614 366208.33333333 234610.\n",
      " 221532.49416667 502394.65548341 716667.7720754  433404.84126984\n",
      " 283222.69928571 689022.91291667 329704.16666667  86795.\n",
      " 381767.73809524  57950.         430533.31333333 494162.0452619\n",
      " 609577.31421356 156419.8        933169.90620491 933169.90620491\n",
      " 275689.93        92669.04761905 746421.66666667 284372.68893357\n",
      " 235999.50780952 421513.33333333 242978.         146318.696\n",
      " 511286.9047619  477031.28952381 445349.99       309000.\n",
      " 490590.         149749.99       268609.99333333 674171.66666667\n",
      " 396054.62007291 278421.97614286 358200.         637758.33333333\n",
      " 208900.         492363.93939394 222042.85714286 345469.9975\n",
      " 933169.90620491 194279.90666667 105528.75       190600.\n",
      "  74386.66666667 458016.63666667 500479.16666667 233702.58978022\n",
      " 211589.16666667 333200.         235233.33333333 373917.5\n",
      " 141830.         419889.83333333 680872.55952381 471956.66666667\n",
      " 730701.9047619  216918.33333333 235225.82       454439.98\n",
      " 103958.33333333 478845.91977595 652725.60786436 249409.16666667\n",
      "  95196.66666667 512634.97835498 123430.83333333 364817.94634921\n",
      " 179660.         197366.66666667 610061.9047619  151793.13492063\n",
      " 358200.         250540.47619048 211589.16666667 542912.08\n",
      " 451769.6065     266455.         423101.66666667 675669.25571429\n",
      " 580741.996      305401.62983405 315149.99       511435.53468753\n",
      " 624051.29933333 123751.66666667 597975.83333333 308775.29761905\n",
      " 360389.44444444 575737.14285714 543724.         151987.475\n",
      " 228835.83333333 529002.21428571 253482.474       68555.\n",
      " 223232.33323413  72478.33333333 673179.07404762 468387.02380952\n",
      " 362325.83333333  77389.98333333 370330.         696149.16666667\n",
      " 271537.46583333 152750.         329497.5        507835.45619048\n",
      " 723219.99       238675.         279377.68514286 784391.07142857\n",
      " 441384.26587302 305782.12121212 487619.90842491 235650.\n",
      " 151793.13492063 578970.         334950.         791339.99\n",
      " 634208.33333333 113913.75694048 327775.09920635 109856.66666667\n",
      " 194206.66666667 245140.33549784  87676.66666667 511435.53468753\n",
      " 228835.83333333 733507.42063492 340892.69059921 550366.69444444\n",
      " 313083.33        99134.02380952 309458.09190476 613183.43238095\n",
      " 223232.33323413 504309.63835714 217802.5        329406.8452381\n",
      " 618300.         358200.         224130.45119048 636359.99\n",
      " 327775.09920635 373462.48166667 266825.82333333 535947.10497835\n",
      " 196174.545      532112.81830996 199051.92640693 101386.66666667\n",
      " 708029.48773449 245182.474      251288.98809524 826094.09666667\n",
      " 422426.29148629  96219.98666667 577500.         746740.\n",
      " 496943.33333333 698071.46415656 206142.49166667 564316.66666667\n",
      " 327775.09920635 361414.12571429 167746.66666667 293842.17190476\n",
      " 140123.92570238 373093.79653392 747627.95038295 230050.\n",
      " 297699.98       647932.26190476 496737.85714286 154345.79916667\n",
      " 355426.83333333 151525.         124778.35714286 594579.98\n",
      " 202710.         418240.87301587 373618.86516667]\n",
      "MAE: 120090.05516447117\n",
      "MSE: 27216791970.855843\n",
      "RMSE: 164975.12530941094\n"
     ]
    },
    {
     "data": {
      "text/plain": [
       "56.94409737952779"
      ]
     },
     "execution_count": 149,
     "metadata": {},
     "output_type": "execute_result"
    }
   ],
   "source": [
    "# Building the RandomForest Regression Model\n",
    "rf = RandomForestRegressor(n_estimators=100)\n",
    "rf.fit(x_train,y_train)\n",
    "\n",
    "# Computing Training and Testing score\n",
    "mscore(rf)\n",
    "\n",
    "# Generating Prediction\n",
    "ypred_rf = rf.predict(x_test)\n",
    "print(ypred_rf)\n",
    "\n",
    "# Evaluating the model : mean_absolute_error, mean_squared_error, root_mean_squared_error\n",
    "reg_eval_metrics(y_test,ypred_rf)\n",
    "\n",
    "# Evaluating Model : R2 score\n",
    "r2_rf = r2_score(y_test,ypred_rf)*100\n",
    "r2_rf"
   ]
  },
  {
   "cell_type": "markdown",
   "metadata": {
    "id": "QtdHcM3ra8LC"
   },
   "source": [
    "# 5. K-Nearest Neighbors Regression"
   ]
  },
  {
   "cell_type": "code",
   "execution_count": 150,
   "metadata": {
    "colab": {
     "base_uri": "https://localhost:8080/"
    },
    "id": "Y_gCDh2Gh65H",
    "outputId": "6f2493dd-a263-455f-cf9d-22533de0522b"
   },
   "outputs": [
    {
     "name": "stdout",
     "output_type": "stream",
     "text": [
      "Training Score 0.5368869730892292\n",
      "Testing Score 0.3416441316777311\n",
      "[ 74000.  211999.8 487000.  415000.  152000.   97000.  357800.  118000.\n",
      " 449200.  352800.  274000.  258999.8 547999.8 327999.8 381999.8 141000.\n",
      " 330000.  257000.   69700.  231000.  206000.  165000.  300000.   82000.\n",
      " 180000.  324000.  250800.  358000.  145999.8 929000.  420200.  236000.\n",
      " 639999.8 271000.  276799.8 367000.  387799.8 399000.   57000.  231000.\n",
      " 864000.  302000.  390000.  409000.  450000.  602999.8  98200.  187000.\n",
      " 161000.  185000.  281000.  516799.8 270000.  447000.  317000.  288000.\n",
      "  64700.  563000.  295000.  324000.   81000.  454999.8 449200.  530000.\n",
      " 510000.  399000.  720000.  519000.  470000.  542600.  527000.  328000.\n",
      " 280200.  188999.8 257000.  225600.  264000.  542000.  390000.  422999.8\n",
      " 510000.  403399.8 336000.  587599.8 754200.  164000.  365000.   88400.\n",
      " 281000.  415000.  353000.  260000.  555400.  220000.  374000.  248000.\n",
      " 150999.8 552000.  710000.  320000.  292999.8 776999.8 307000.  207000.\n",
      " 288000.  205000.  218000.  424000.  278000.   74000.  270000.  588000.\n",
      " 614999.8 547399.8 277199.8 421000.  512000.  553000.  311800.  352000.\n",
      " 114600.  754200.  446000.  754200.  330000.  254000.  527400.  111000.\n",
      " 574000.  429999.8 242000.  256999.8 381800.  388800.  388000.  534000.\n",
      " 179000.  265000.  309800.  645000.  837400.  411199.8 207000.  514000.\n",
      " 226000.  510200.  452000.  345999.8 205400.  845999.8 692999.8 217000.\n",
      " 500200.  100000.  688000.  262999.8 260000.  554599.8 324000.  352399.8\n",
      " 657400.  211000.  388599.6 553600.  339000.  269000.  648000.  587599.8\n",
      " 353000.  534800.  388000.  449200.  147000.  279799.8 421000.  375800.\n",
      " 455000.  280000.  105600.  329000.  334000.  203000.  530000.  215199.8\n",
      " 341000.  571000.  465000.  556999.8 180000.  303000.  493999.8 473999.8\n",
      " 284000.  439200.  812799.8 512000.  117000.  593199.8 368000.  488199.8\n",
      " 625000.  281000.  439200.  136999.8 317999.8 540799.8 563000.  416999.8\n",
      " 431999.8 197000.  123999.8 433200.  287000.   91000.  281000.  686000.\n",
      " 328000.  544999.8 254000.  247999.8 623600.  446000.  708000.  499000.\n",
      " 286000.  418999.8 214399.8 694000.  245999.8 264000.  330000.  318000.\n",
      " 396999.8 454999.8 407800.  366999.8 542000.  513800.  434000.  393999.8\n",
      " 189000.  378000.  536400.  270000.  560000.  561800.  257400.  465000.\n",
      " 350399.8 292000.  270000.  348999.8 290000.  270000.  708000.  270000.\n",
      " 606200.  614000.  692200.  221000.  767000.  493000.  432999.8 211999.8\n",
      " 123000.  413399.8 644000.  413000.  375999.6 512000.  353000.  296200.\n",
      " 702000.   84000.  429000.  330000.  639999.8 492200.  243000.  693000.\n",
      " 659000.   94000.  529000.  754200.  245000.  542000.  374999.8 169000.\n",
      " 491000.  221000.  249000.  324000.  544999.8 530000.  110200.  372000.\n",
      " 611400.  375999.8 686000.  424000.  837400.  275000.  126000.  633400.\n",
      " 512000.  540000.  361000.  337999.8 458200.  329000.  442000.  616799.8\n",
      " 330000.  419000.  353000.  148000.  237000.  145999.8 417999.8 582999.8\n",
      " 109000.  639999.8 486999.8 675200.  606000.  198000.  370000.  108000.\n",
      " 378600.  243000.  456000.  393999.8 330000.  439200.  404999.8 217000.\n",
      " 545000.  318999.8 542000.  217800.  335999.8 275000.  203000.  493999.8\n",
      " 588000.  462000.  449200.  264000.  508999.8 441400.  339399.8 217999.8\n",
      " 411400.  250800.  431999.8 367000.  136600.  464999.8 330000.  897000.\n",
      " 523200.  381999.8 557000.  670999.8 196000.  221000.  136000.  702000.\n",
      " 469000.  391000.  371999.8 413399.8 203000.  408999.8 403399.6 348999.8\n",
      " 690000.  287000.   90500.  553000.  320000.  413399.8 339000.  286000.\n",
      " 287000.  415000.   90200.  460200.  488000.  258600.  367199.8 530000.\n",
      " 639999.8 489000.  352800.  304000.  532200.  150000.  100000.  300000.\n",
      " 337000.  317999.8 201000.  503999.8 163000.  413399.8  89000.  572999.8\n",
      " 202200.  296000.  329000.  719999.8 413399.8 686000.  214999.8 377599.8\n",
      " 351222.2 449200.  225000.  245999.8 192000.   98799.8 534000.  287000.\n",
      " 323000.  243000.  258999.8 386400.  548000.  147800.  421000.  830000.\n",
      " 227000.  118000.  159000.  191000.  343000.  580999.8 286000.  323000.\n",
      "  81400.  429000.  552200.   98799.8 238000.  471000.  392000.  289000.\n",
      " 454000.  258199.8 354999.8 375000.  136000.  123600.  476000.  424000.\n",
      " 322000.  441000.  172000.  133999.8 268000.  446000.  929000.  114600.\n",
      " 425000.  563000.  548200.  256999.8 490600.  456000.  302000.  527200.\n",
      " 569200.  425000.  524800.  561000.  228199.8 264000.  168999.8 548000.\n",
      " 415000.  247999.8 248999.8 377000.  710000.  281000.  338199.8 552000.\n",
      " 701999.8 318000.  425000.  245999.8 311800.  378000.  513000.  268000.\n",
      " 560200.  634000.  330000.  489800.  582999.8 164000.  708000.  214599.8\n",
      " 441000.  742000.  233399.6 431999.8 358000.  367000.  420200.  321999.8\n",
      " 485000.  864000.  488199.8 488000.  255000.  212200.  403999.8 694000.\n",
      " 310999.8 413399.8 326000.  377000.  236000.  444799.8 518600.  370000.\n",
      " 355199.4 119000.  326000.  513800.  493000.  336800.  722200.  339000.\n",
      "  89000.  742000.  232000.   84000.  290000.  552200.  254000.  359799.8\n",
      " 161000.  264999.8 210200.  257400.  161800.  399000.  514000.  329000.\n",
      " 414799.8 205000.  389000.   84600.  525000.  721999.6 710000.  233000.\n",
      " 295000.  556999.8 556999.8 397000.  547999.8 334000.  544999.8 330000.\n",
      " 519000.  423999.8 359000.  298000.  255000.  447200.  418200.  238000.\n",
      " 596999.8 434000.  150000.  571000.  383000.  361000.  275000.  404999.8\n",
      " 784000.  260999.8 114600.  281000.  188000.  173999.8 311400.  287200.\n",
      " 309800.  210200.  410999.8 261600.  114000.  835000.  474200.  442000.\n",
      " 130000.  374800.  563000.  443000.  545000.  123600.  567399.8 163000.\n",
      " 359000.  570800.  361000.  395000.  420000.  145999.8 553000.  329199.8\n",
      " 238000.  271599.8 151000.  224199.8 235999.8 100000.  539000.  292000.\n",
      " 518600.  279799.8 444799.8 129000.  238000.  564000.  360000.  214000.\n",
      " 645000.  400800.  335999.8 406000.  488199.8 561800.  351000.  370000.\n",
      " 736000.  238000.  636000.  600999.8 413399.8 591000.  449399.8 633400.\n",
      " 132800.  360000.  742000.  314800.  150000.  376400.  784000.  378000.\n",
      " 209000.  553999.8 444799.8 462200.  367000.  330000.  365000.  324000.\n",
      " 227000.  529000.  719999.8 456000.  270000.  650000.  245000.  103500.\n",
      " 276000.   74000.  268000.  454999.8 418800.  272599.8 929000.  929000.\n",
      " 425000.  358600.  791000.  241000.  166999.8 529000.  210200.  258999.8\n",
      " 553000.  361000.  435999.8 583000.  237000.  155200.  279799.8 585000.\n",
      " 378000.  451999.8 294000.  528000.  163000.  533000.  187000.  136999.8\n",
      " 929000.  149000.  107000.  311000.   94000.  633000.  610000.  249000.\n",
      " 144240.  255000.  295000.  443800.  377000.  101200.  339399.8 326000.\n",
      " 688000.  236000.  233000.  407800.  119000.  416999.8 655000.  191000.\n",
      "  88000.  471000.  109000.  324000.  255000.  335800.  311999.8 164000.\n",
      " 294000.  286000.  144240.  399000.  582999.8 217000.  520000.  713000.\n",
      " 610000.  481999.8 516000.  528400.  442000.  117000.  686000.  563000.\n",
      " 231000.  411400.  407800.  348000.  208400.  534000.  450000.   70000.\n",
      " 215199.8  84000.  701999.8 488000.  510000.  161399.8  72200.  226600.\n",
      " 287000.  247000.  232600.  383000.  449200.  203000.  247999.8 650000.\n",
      " 443000.  632199.8 481000.  338000.  164000.  236000.  258000.  694000.\n",
      " 534000.  118240.  323000.  107000.  205400.  221000.  287999.8 528400.\n",
      " 208400.  742000.  350399.8 513800.  264000.   90200.  276000.  433000.\n",
      " 215199.8 512000.  241999.8 307000.  721999.6 294000.  359999.8 260800.\n",
      " 323000.  622000.  313000.  551000.  188999.8 534800.  231000.  145000.\n",
      " 708000.  442000.  248000.  527399.8 320000.  145000.  356000.  324000.\n",
      " 455999.8 776999.8 227800.  473000.  323000.  625000.  568000.  368000.\n",
      " 342200.  334000.  770000.  389200.  226000.  645600.  283000.  116000.\n",
      " 400800.  194000.  301000.  561000.  485000.  339000.  364799.8]\n",
      "MAE: 152601.77048406142\n",
      "MSE: 41616441928.68354\n",
      "RMSE: 204001.08315566255\n"
     ]
    },
    {
     "data": {
      "text/plain": [
       "34.16441316777311"
      ]
     },
     "execution_count": 150,
     "metadata": {},
     "output_type": "execute_result"
    }
   ],
   "source": [
    "# Building the KNeighbors Regression Model\n",
    "knn = KNeighborsRegressor(n_neighbors=5)\n",
    "knn.fit(x_train,y_train)\n",
    "\n",
    "# Computing Training and Testing score\n",
    "mscore(knn)\n",
    "\n",
    "# Generating Prediction\n",
    "ypred_knn = knn.predict(x_test)\n",
    "print(ypred_knn)\n",
    "\n",
    "# Evaluating the model : mean_absolute_error, mean_squared_error, root_mean_squared_error\n",
    "reg_eval_metrics(y_test,ypred_knn)\n",
    "\n",
    "# Evaluating Model : R2 score\n",
    "r2_knn = r2_score(y_test,ypred_knn)*100\n",
    "r2_knn"
   ]
  },
  {
   "cell_type": "markdown",
   "metadata": {
    "id": "IcokKovP7mTX"
   },
   "source": [
    "# 6. Decision Tree Regression"
   ]
  },
  {
   "cell_type": "code",
   "execution_count": 151,
   "metadata": {
    "colab": {
     "base_uri": "https://localhost:8080/"
    },
    "id": "lYEMhiWN7mgq",
    "outputId": "03ab7490-bb34-4f74-f252-eb5ced24b320"
   },
   "outputs": [
    {
     "name": "stdout",
     "output_type": "stream",
     "text": [
      "Training Score 0.8478519307103716\n",
      "Testing Score 0.3896208210954094\n",
      "[  70000.   350000.   315000.   430000.    50000.   135000.   295000.\n",
      "   80000.    55000.   399500.   180000.   147499.5  300000.    55000.\n",
      "  375000.   130000.   300000.   192500.    50000.   210000.   150000.\n",
      "  100000.   245000.    55000.   150000.   235000.   185000.   100000.\n",
      "  229999.   930000.   371000.   500000.   740000.   270000.   190000.\n",
      "  300000.   750000.  1025000.    75000.   190000.   520000.   650000.\n",
      "  220000.   404999.5  525000.   600000.   300000.   200000.   102500.\n",
      "  195000.   317500.   440000.   320000.    43000.   185000.   250000.\n",
      "   50000.   305000.   280000.   200000.   409999.   472499.5  420000.\n",
      "  650000.   325000.   240000.   900000.   550000.   550000.   630000.\n",
      "  900000.   370000.   240000.   202499.5  250000.   170000.   350000.\n",
      "  409999.   350000.  1000000.   925000.    85000.   180000.   535000.\n",
      " 1030000.   150000.   280000.   155000.   317500.   430000.   325000.\n",
      "  220000.   281000.   110000.   300000.   100000.   182499.5  600000.\n",
      "  800000.   211000.   780000.   590000.   307500.   320000.   250000.\n",
      "  165000.   210000.   130000.   180000.   100000.   320000.   607500.\n",
      "  281000.   800000.   300000.   335000.   245000.   635000.   490000.\n",
      "  120000.   100000.  1030000.   210000.  1030000.   275000.   500000.\n",
      "  325000.   100000.   770000.   282000.   130000.   312500.   235000.\n",
      "  245000.   360000.   520000.   305000.   180000.   525000.   700000.\n",
      "  825000.   335000.   320000.   720000.   150000.   215000.   250000.\n",
      "  210000.    45000.   890000.   680000.   175000.   910000.   112500.\n",
      "  600000.   210000.   220000.   430999.   250000.   250499.5  465000.\n",
      "  225000.   409999.   211000.   160000.   195000.   900000.   535000.\n",
      "  200000.   500000.   360000.   380000.   100000.   269000.   335000.\n",
      "  640000.   600000.   300000.   100000.   500000.   550000.   192500.\n",
      "  650000.   204999.   325000.   750000.   525000.   690000.   120000.\n",
      "  130000.   300000.   130000.   280000.   500000.   819999.   462500.\n",
      "  140000.   421000.   280000.   404999.5  470000.   317500.   254999.\n",
      "  140000.   325000.   350000.   325000.   392500.   350000.   200000.\n",
      "  150000.    81000.   250000.    22000.   250000.   490000.   275000.\n",
      "  577500.   300000.   250000.   250999.   180000.   700000.   509999.\n",
      "  280000.   300000.   409999.   470000.   335000.    65000.   275000.\n",
      "  290000.   260000.   472499.5  399000.   300000.   700000.   510000.\n",
      "  680000.  1050000.   315000.   170000.   650000.   250000.   382500.\n",
      "  310000.   225000.   525000.   450000.   307500.   275000.   229999.\n",
      "  350000.   320000.   700000.   250000.   610000.   622500.   700000.\n",
      "  190000.   925000.   750000.   500000.   350000.   150000.   565000.\n",
      "  509999.   170000.   229999.   350000.    98000.   211000.   155000.\n",
      "   70000.   470000.   275000.   740000.   665000.   300000.   730000.\n",
      "  430000.    50000.   650000.  1030000.   450000.   520000.   160000.\n",
      "  195000.   350000.   230000.   150000.   790000.  1150000.   650000.\n",
      "  121000.   325000.   300000.   585000.   490000.   350000.   650000.\n",
      "  225000.   160000.   550000.   525000.   550000.   400000.   285000.\n",
      "  660000.   360000.   340000.   450000.   275000.   100000.   250000.\n",
      "  175000.   990000.   490000.   150000.   170000.   120000.   740000.\n",
      " 1165000.   600000.   557500.   255000.   300000.   175000.   170000.\n",
      "  150000.   322500.    63000.   300000.   500000.   550000.   297500.\n",
      "  625000.   500000.   590000.   199500.   310000.   285000.   192500.\n",
      "  325000.   607500.   495000.   380000.   350000.    55000.   285000.\n",
      "  440000.   800000.   350000.   125000.   350000.   360000.    65000.\n",
      "  969999.   275000.   895000.   350000.   750000.   382500.   579999.5\n",
      "  160000.   175000.   200000.   930000.   285000.   550000.   600000.\n",
      "  290000.   250000.   290000.   580000.   350000.   837500.   480000.\n",
      "   90000.   595000.   350000.   196000.   350000.   280000.   480000.\n",
      "  430000.    78000.   509999.    60000.    90000.   220000.   500000.\n",
      "  740000.   350000.   399500.   999000.   590000.   250000.    55000.\n",
      "  280000.   300000.   325000.   140000.   754999.5  225000.   300000.\n",
      "  125000.   635000.    80000.   320000.   525000.   750000.   200000.\n",
      "  490000.   650000.   404999.5  130000.   280000.   100000.   409999.\n",
      "   55000.   106000.   520000.   250000.   750000.   150000.   147499.5\n",
      "  400000.   535000.   150000.   270000.   750000.   225000.   170000.\n",
      "  155000.   195000.   800000.   270000.   350000.   550000.    50000.\n",
      "  140000.   375000.   106000.   195000.   350000.   396000.   349000.\n",
      "  675000.   130000.    43000.   375000.   127500.   110000.   400000.\n",
      "  350000.   180000.   307500.    80000.   120000.   360000.   300000.\n",
      "  930000.   100000.   500000.   305000.   350000.   312500.   380000.\n",
      "  359000.   459999.   784000.   281000.    78000.   600000.   380000.\n",
      "  120000.   400000.   150000.   535000.   430000.   250000.    87500.\n",
      "  565000.   800000.   195000.   550000.   539000.   750000.   290000.\n",
      "  229999.   335000.   725000.   375000.   400000.   630000.   610000.\n",
      "  640000.   275000.   400000.   170000.   150000.   700000.   200499.5\n",
      "  287000.   780000.   229999.   350000.   325000.   265000.   371000.\n",
      "  225000.  1125000.   850000.   404999.5  440000.   300000.   200000.\n",
      "  380000.   700000.   370000.   565000.   360000.   150000.   200000.\n",
      "  486999.5  815000.   300000.   342500.   102500.   360000.   510000.\n",
      "  860000.   160000.   556000.   350000.    60000.   780000.   370000.\n",
      "   70000.   210000.   720000.   300000.   362500.   195000.   180000.\n",
      "  260000.   407500.   124500.   200000.   715000.   175000.   500000.\n",
      "  150000.   509999.    85000.   517500.   590000.   800000.   160000.\n",
      "  250000.   690000.   819999.   675000.   135000.   550000.   577500.\n",
      "  275000.   395000.   270000.   400000.   225000.    85000.   450000.\n",
      "  160000.   260000.   701000.   450000.   250000.   230000.   685000.\n",
      "  400000.   285000.   650000.   720000.   200000.   100000.   195000.\n",
      "  220000.   100000.   290000.   100000.   450000.   260000.   392500.\n",
      "  260000.    50000.   800000.   210000.   700000.   250000.   250000.\n",
      "  305000.   480000.   625000.   110000.   450000.   225000.   525000.\n",
      "  539000.   400000.   337500.   265500.    95000.   550000.   300000.\n",
      "  195000.   300000.   160000.   270000.   150000.    50000.   575000.\n",
      "  320000.   815000.   269000.   300000.    75000.   150000.   550000.\n",
      "  300000.   185000.   282000.   320000.   170000.   400000.   404999.5\n",
      "  774000.   800000.   540000.  1000000.   434999.   245000.   650000.\n",
      "  860000.   320000.   382500.   725000.   200000.   350000.  1100000.\n",
      "  480000.   160000.   550000.   975000.   170000.   250000.   555000.\n",
      "  401000.   751000.   375000.   275000.   300000.   199000.   225000.\n",
      "  650000.   750000.   322500.   320000.   850000.   325000.    95000.\n",
      "  400000.    45000.   310000.   472499.5  550000.    58000.   930000.\n",
      "  930000.   275000.    87500.   700000.   150000.   270000.   350000.\n",
      "  250000.   147499.5  650000.   525000.   400000.   250000.   400000.\n",
      "   90000.   269000.   426000.   375000.   100000.   400000.   525000.\n",
      "  225000.   480000.   225000.   480000.   930000.   150000.    95000.\n",
      "  150000.    79000.   525000.   487500.   150000.   250000.   300000.\n",
      "  150000.   350000.    93000.    78000.   680000.   580000.   600000.\n",
      "  200000.   160000.   399000.   102500.   392500.   680000.   275000.\n",
      "  160000.   350000.   120000.   180000.    75000.   220000.   600000.\n",
      "  150000.   400000.   300000.   250000.   320000.   424999.5  400000.\n",
      "  425000.   850000.   610000.   312500.   250000.   488000.   335000.\n",
      "  140000.   490000.   173000.   322500.   490000.   610000.    35000.\n",
      "  207500.   520000.   271000.    75000.   204999.    70000.   750000.\n",
      "  440000.   480000.    55000.  1000000.   890000.   350000.   100000.\n",
      "  350000.   525000.   700000.   250000.   250000.   950000.   450000.\n",
      "  200000.   450000.   211000.   150000.   311000.   350000.   250000.\n",
      "  325000.   100000.   375000.   121000.   175000.   230000.    80000.\n",
      "  488000.   207500.   780000.   229999.   510000.   275000.    78000.\n",
      "  315000.   910000.   204999.   462500.   207500.   307500.   590000.\n",
      "  400000.   209999.5  450000.   375000.   295000.   305000.   477500.\n",
      "  202499.5  500000.   225000.   100000.   700000.   225000.   275000.\n",
      " 1150000.   350000.   100000.   650000.   675000.   400000.   630000.\n",
      "  160000.   650000.   375000.   240000.   140000.   280000.   120000.\n",
      "  350000.   800000.   300000.   420000.   650000.   470000.   150000.\n",
      "  250000.   165000.   100000.   670000.   170000.   390000.   250000. ]\n",
      "MAE: 142317.13400236127\n",
      "MSE: 38583706587.280106\n",
      "RMSE: 196427.35702360838\n"
     ]
    },
    {
     "data": {
      "text/plain": [
       "38.962082109540944"
      ]
     },
     "execution_count": 151,
     "metadata": {},
     "output_type": "execute_result"
    }
   ],
   "source": [
    "# Building the DecisionTree Regression Model\n",
    "dt = DecisionTreeRegressor(criterion='absolute_error')\n",
    "dt.fit(x_train,y_train)\n",
    "\n",
    "# Computing Training and Testing score\n",
    "mscore(dt)\n",
    "\n",
    "# Generating Prediction\n",
    "ypred_dt = dt.predict(x_test)\n",
    "print(ypred_dt)\n",
    "\n",
    "# Evaluating the model : mean_absolute_error, mean_squared_error, root_mean_squared_error\n",
    "reg_eval_metrics(y_test,ypred_dt)\n",
    "\n",
    "# Evaluating Model : R2 score\n",
    "r2_dt = r2_score(y_test,ypred_dt)*100\n",
    "r2_dt"
   ]
  },
  {
   "cell_type": "markdown",
   "metadata": {
    "id": "aUdYqXRa_rTJ"
   },
   "source": [
    "# 7. Gradient Boosting Regression"
   ]
  },
  {
   "cell_type": "code",
   "execution_count": 152,
   "metadata": {
    "colab": {
     "base_uri": "https://localhost:8080/"
    },
    "id": "5tpDuwoW_t9Q",
    "outputId": "bbc28388-aaa8-4fa7-d58a-463684e83d1d"
   },
   "outputs": [
    {
     "name": "stdout",
     "output_type": "stream",
     "text": [
      "Training Score 0.6119735832565347\n",
      "Testing Score 0.6287842557657759\n",
      "[ 82083.83587042 274625.28328515 738235.47063388 458834.33360688\n",
      " 178034.52549745  89320.74425798 345753.35662754 141029.69585236\n",
      " 258649.90133744 412338.53699233 189569.93342774 121213.63637118\n",
      " 376306.42349787 257453.26167405 368708.49627973  91763.82472027\n",
      " 458834.33360688 204811.85062463  67532.45652941 425698.19429813\n",
      " 320559.89597604 232109.22937986 375634.7530653  209571.57806631\n",
      " 156002.24623458 284108.52442925 354138.93241744  94670.93174642\n",
      " 245381.60774943 779026.07782511 331458.86629097 218703.5253156\n",
      " 660752.97880706 368708.49627973 320230.7208332  388165.66941832\n",
      " 421268.54071433 670469.96484645 135367.79002627 339151.65220809\n",
      " 565485.33871835 326642.62884259 154220.74292618 503662.37951828\n",
      " 464840.81973242 414534.09145593 197594.1185264  158751.43172296\n",
      " 199995.61317625 240825.94801927 279441.52073353 557703.96404831\n",
      " 292650.14948805  98771.06333354 350920.00600227 331458.86629097\n",
      "  81858.85680726 458834.33360688 306262.49502959 493481.92235497\n",
      "  82612.60253346 484856.31149563 375634.7530653  636548.99760324\n",
      " 312464.22042106 288924.76187763 756923.99116715 469114.9639639\n",
      " 515287.86879097 824397.71562545 518733.80464668 326642.62884259\n",
      " 325046.95828158 183158.02541835 279441.52073353 364676.81878201\n",
      " 279441.52073353 377138.13661003 386551.34562369 351773.16746874\n",
      " 739386.82117122  88270.76481665 328424.13215098 511779.62385958\n",
      " 753796.1800723  124425.19322011 255512.84871536 189099.95117908\n",
      " 279441.52073353 458834.33360688 369375.76739342 349138.50269388\n",
      " 420654.44725416 247134.49403611 456638.77914328  95478.05005527\n",
      " 147808.83491679 585712.21027871 739386.82117122 238585.0411307\n",
      " 419927.77941531 535538.77865923 383776.36022086 254065.87637926\n",
      " 331458.86629097 204811.85062463 296738.81430596 166902.22969102\n",
      " 349138.50269388  73944.3645388  292650.14948805 603594.96009054\n",
      " 511779.62385958 593179.17124759 369375.76739342 326642.62884259\n",
      " 375634.7530653  559899.51851191 670477.05114565 210021.39730069\n",
      " 124425.21591564 753796.1800723  319335.84256652 753796.1800723\n",
      " 375634.7530653  473142.85433396 369375.76739342 118198.19936399\n",
      " 592668.63885965 495195.25354535  90140.24294965 279419.94267409\n",
      " 288924.76187763 375634.7530653  388165.66941832 511779.62385958\n",
      " 196270.85728153 197340.8596774  529126.87064985 294477.24834697\n",
      " 627354.11489019 429574.31022009 254065.87637926 670282.58220761\n",
      " 368096.36303488 454747.91462484 372329.51665291 405206.42951291\n",
      " 112144.32738771 766640.97720654 670469.96484645 266959.3478863\n",
      " 627354.11489019 139726.18195484 739386.82117122 244721.46874853\n",
      " 349138.50269388 550315.50533642 396471.43892408 396471.43892408\n",
      " 492185.72249802 194386.17087612 414534.09145593 238585.0411307\n",
      " 114693.01770981 252967.25916179 666758.32453132 511779.62385958\n",
      " 192810.17088063 387930.44558097 388165.66941832 458834.33360688\n",
      " 123991.04745374 242623.6946724  326642.62884259 684512.13360671\n",
      " 605087.58749963 369222.84505591  79820.74503246 500728.39738485\n",
      " 469114.9639639  262259.28769704 636548.99760324 248577.94996433\n",
      " 429574.31022009 635457.93667466 486637.81480402 458834.33360688\n",
      " 135653.33867788 292762.50767603 580334.94957781 372152.33813776\n",
      " 375634.7530653  204811.85062463 749103.80721061 549264.89404565\n",
      " 101270.89814502 379613.76649131 375634.7530653  486750.172992\n",
      " 427214.77689289 279441.52073353 244064.78112506 168831.6251405\n",
      " 284567.33606846 369375.76739342 531106.32587168 602628.3361484\n",
      " 504777.61472273 135653.33867788  91763.82472027 104138.04639912\n",
      " 381753.76140893 104414.62047308 345753.35662754 511779.62385958\n",
      " 284108.52442925 501363.83501663 373079.49862421 345753.35662754\n",
      " 379613.76649131 229743.19131916 660752.97880706 440074.60873698\n",
      " 331458.86629097 486967.42266063 377138.13661003 637582.5210943\n",
      " 199995.61317625 106919.0595892  375634.7530653  412338.53699233\n",
      " 398665.96793521 484856.31149563 535538.77865923 412338.53699233\n",
      " 593837.85400844 485040.66746327 412338.53699233 487515.19415757\n",
      " 182361.57399279 299174.41568542 747535.79841714 282349.9910393\n",
      " 627354.11489019 524532.82370032 342726.59468449 486637.81480402\n",
      " 379613.76649131 349138.50269388 159036.98037456 288924.76187763\n",
      " 405412.28020676 292650.14948805 660752.97880706 282349.9910393\n",
      " 647027.3243837  508797.30742596 724151.3902606  258446.98535882\n",
      " 756923.99116715 784964.03089049 322146.37564377 448449.73014667\n",
      " 130837.1012295  429574.31022009 429574.31022009 212078.4100195\n",
      " 369375.76739342 245380.29162412  91021.52163719 238585.0411307\n",
      " 326478.83695973  89031.11536379 595762.66003098 375634.7530653\n",
      " 660752.97880706 627354.11489019 288543.9735673  779026.07782511\n",
      " 633517.23070503  83484.76319552 552888.34290327 753796.1800723\n",
      " 493162.08100139 484856.31149563 216037.15379531 233044.51698023\n",
      " 476917.95159982 194386.17087612 357444.27219964 535538.77865923\n",
      " 688844.60467821 636548.99760324 107354.29965397 494162.75511615\n",
      " 379613.76649131 676253.91095547 511779.62385958 289194.09859024\n",
      " 511779.62385958 247439.93212078 135653.33867788 535538.77865923\n",
      " 364559.52994504 500821.6895763  357444.27219964 489723.19314166\n",
      " 430215.62557327 338827.09984197 406818.71332888 535538.77865923\n",
      " 375634.7530653  282668.46284081 345753.35662754 140184.02747465\n",
      " 661979.30904934 660752.97880706 290030.17674655 396471.43892408\n",
      " 129241.43066849 660752.97880706 594240.39687921 658655.87922046\n",
      " 407607.83467036 219273.18189331 375634.7530653   82844.18641756\n",
      " 396471.43892408 251796.74772407 344749.19349642  84444.66305569\n",
      " 458834.33360688 204811.85062463 429574.31022009 243178.67302064\n",
      " 654341.07079767 488225.57282598 804657.89530088 286479.3369822\n",
      " 302661.7765974  299174.41568542 262259.28769704 502727.79301201\n",
      " 603594.96009054 535538.77865923 458834.33360688 279441.52073353\n",
      " 273241.32390671 610211.58979142 527400.84273378 325504.96879332\n",
      " 501363.83501663 133871.13618693 504777.61472273 357444.27219964\n",
      "  89877.63671072 700392.23546094 375634.7530653  796563.24782103\n",
      " 279441.52073353 396471.43892408 627354.11489019 603594.96009054\n",
      " 189569.93342774 316716.84187304 159036.98037456 733485.5934604\n",
      " 228159.36138219 261592.87002113 326642.62884259 573715.28747428\n",
      " 144597.27806787 433981.49739287 396471.43892408 494162.75511615\n",
      " 647027.3243837  288924.76187763 105530.35287988 375634.7530653\n",
      " 357444.27219964 194386.17087612 279441.52073353 331458.86629097\n",
      " 288924.76187763 458834.33360688 149831.43372872 429574.31022009\n",
      "  31917.55209813 124610.10737338 242623.6946724  592637.02580725\n",
      " 660752.97880706 549077.85687368 412338.53699233 569295.55262598\n",
      " 804657.89530088  95534.25410107  82263.82549475 365465.62558387\n",
      " 351032.36419025 300355.39830113 194386.17087612 272754.16973202\n",
      " 189569.93342774 364559.52994504  92130.64922304 603594.96009054\n",
      " 161134.05469999 331458.86629097 486637.81480402 603594.96009054\n",
      " 228159.36138219 511779.62385958 437284.81763251 375634.7530653\n",
      " 115300.55061486 345753.35662754  78647.57245433 349138.50269388\n",
      " 202727.47051537 159036.98037456 511779.62385958 381753.76140893\n",
      " 473142.85433396 251796.74772407 121213.63637118 331458.86629097\n",
      " 478444.40348624 143617.92388563 448359.67248764 794242.10645794\n",
      " 241028.02411139 177336.75147344 154220.74292618 252967.25916179\n",
      " 492379.65818609 624921.34885203 344163.88204746 379613.76649131\n",
      "  92130.64922304 158383.29787945 510442.63699311 159036.98037456\n",
      " 247439.93212078 347619.08210863 430215.62557327 349138.50269388\n",
      " 535538.77865923 171917.45631326  72800.47961233 368708.49627973\n",
      " 144597.27806787 130652.20977176 447724.23485585 321648.48322877\n",
      " 349138.50269388 383776.36022086 118309.54654365 130837.1012295\n",
      " 396471.43892408 188499.00986586 779026.07782511 101705.06660693\n",
      " 325646.93078892 458834.33360688 386551.34562369 279419.94267409\n",
      " 535538.77865923 506213.10018288 258446.98535882 806322.43517251\n",
      " 511779.62385958 186349.78572547 509957.79819863 373886.44568129\n",
      " 356661.84938434 280333.26389355 154220.74292618 478444.40348624\n",
      " 458834.33360688 345753.35662754 101387.28957858 421268.54071433\n",
      " 739386.82117122 352507.76402423 535538.77865923 510442.63699311\n",
      " 603594.96009054 412338.53699233 245071.11121276 199995.61317625\n",
      " 652010.88148454 473867.20729851 503390.48720549 586767.2632382\n",
      " 601497.86050394 593179.17124759 375634.7530653  476410.16460331\n",
      " 396471.43892408 124425.19322011 660752.97880706 236211.78666301\n",
      " 430215.62557327 739386.82117122 242623.6946724  504777.61472273\n",
      " 285497.58187472 379613.76649131 331458.86629097 345753.35662754\n",
      " 732582.37939449 812119.43582457 486750.172992   345753.35662754\n",
      " 339293.00079224 204811.85062463 325241.98971593 524532.82370032\n",
      " 487637.51192552 429574.31022009 396471.43892408 280568.4877309\n",
      " 258446.98535882 549077.85687368 493162.08100139 375634.7530653\n",
      " 345753.35662754 125145.95056864 396471.43892408 485040.66746327\n",
      " 904320.51437327 128748.57207526 414534.09145593 279441.52073353\n",
      "  75053.49212465 739386.82117122 273029.61272414  89031.11536379\n",
      " 405412.28020676 598635.17635566 373079.49862421 414534.09145593\n",
      " 238968.38361473 144597.27806787 247439.93212078 495224.14828796\n",
      " 280568.4877309  290633.42234231 522008.03006369  82844.18641756\n",
      " 520136.18770365 552071.73906472 502316.1554068   88588.54184499\n",
      " 458834.33360688 522966.07228877 739386.82117122 212719.88013577\n",
      " 310416.5803897  458834.33360688 739386.82117122 529126.87064985\n",
      " 372152.33813776 469114.9639639  501363.83501663 375634.7530653\n",
      " 520136.18770365 372687.50970575 513092.31432738 343305.7375682\n",
      " 168431.12202936 535538.77865923 169426.52918394 242623.6946724\n",
      " 627354.11489019 355744.00859748  95534.25410107 194386.17087612\n",
      " 684512.13360671 357444.27219964 299174.41568542 774735.62468639\n",
      " 794465.82042899 326642.62884259 124425.21591564 352507.76402423\n",
      " 242623.6946724  228890.43162012 414534.09145593 120332.83409244\n",
      " 380139.4376143  247439.93212078 526971.88134201 368708.49627973\n",
      " 173009.7029781  816212.38513561 244721.46874853 518605.12754264\n",
      " 118254.40340979 159036.98037456 458834.33360688 504643.22206585\n",
      " 654341.07079767 130652.20977176 694229.1196461  189569.93342774\n",
      " 439706.38067627 510442.63699311 357444.27219964 357444.27219964\n",
      " 299174.41568542 135653.33867788 650337.18996411 290868.64617966\n",
      " 247439.93212078 331819.35778874 114986.64251507 239024.58766053\n",
      " 263238.64187928 177305.25388264 660752.97880706 338827.09984197\n",
      " 493162.08100139 242623.6946724  534785.39725616 170363.03888822\n",
      " 270581.63724511 476917.95159982 356661.84938434 348903.27885653\n",
      " 473699.31030323 369375.76739342 194834.08443445 484621.08765828\n",
      " 486750.172992   777956.24691703 570163.97281838 430215.62557327\n",
      " 650337.18996411 489539.87131036 379613.76649131 801951.9781124\n",
      " 801951.9781124  369375.76739342 627354.11489019 583902.08892461\n",
      " 159356.82172814 279761.36208711 857725.79221177 534873.76833195\n",
      " 189569.93342774 357764.11355322 897365.04886566 299174.41568542\n",
      " 238898.93877767 368925.4132641  621349.84913848 684512.13360671\n",
      " 368708.49627973 375634.7530653  376306.42349787 159036.98037456\n",
      " 241028.02411139 375634.7530653  603594.96009054 344749.19349642\n",
      " 292650.14948805 549077.85687368 421268.54071433  73091.05999473\n",
      " 355744.00859748  91781.87218433 423162.4022107  484856.31149563\n",
      " 603594.96009054 247439.93212078 779026.07782511 779026.07782511\n",
      " 288924.76187763 101387.28957858 986262.33283979 276179.17853344\n",
      " 174757.93386033 469114.9639639  194386.17087612 121213.63637118\n",
      " 458834.33360688 386551.34562369 460507.50149092 484860.2674513\n",
      " 486142.83257598 200414.43979394 242623.6946724  758841.25907603\n",
      " 473867.20729851 253066.6513878  339341.44861815 796563.24782103\n",
      " 189569.93342774 443772.30080043 140184.02747465 254204.70989263\n",
      " 779026.07782511 201398.59889176 103871.79908614 392515.47289748\n",
      "  91781.87218433 430215.62557327 524997.90934398 357444.27219964\n",
      " 154220.74292618 339293.00079224 392208.60032387 501363.83501663\n",
      " 252967.25916179 181434.08890374 456638.77914328 559899.51851191\n",
      " 739386.82117122 258446.98535882 212719.88013577 535538.77865923\n",
      " 125145.95056864 602628.3361484  603594.96009054 139894.34264833\n",
      "  91781.87218433 484856.31149563 129241.43066849 345753.35662754\n",
      " 158604.6695871  199995.61317625 645938.73652426 124425.19322011\n",
      " 339341.44861815 101387.28957858 154220.74292618 401421.76057653\n",
      " 429574.31022009 230293.23153323 523084.35161588 592668.63885965\n",
      " 616813.24557494 293527.5288416  409536.20291627 509682.52427298\n",
      " 549189.94386462 101270.89814502 511779.62385958 396471.43892408\n",
      " 339151.65220809 670477.05114565 511779.62385958 212719.88013577\n",
      " 209356.84399796 511779.62385958 238585.0411307   91021.52163719\n",
      " 248577.94996433  89031.11536379 603594.96009054 345753.35662754\n",
      " 299374.55575355 274625.28328515 503653.70504905 532284.2649939\n",
      " 130837.1012295  120834.0798068  274156.57972151 386551.34562369\n",
      " 724151.3902606  144597.27806787 345753.35662754 975804.66953328\n",
      " 389947.17272671 367944.57071653 570562.66332798 228159.36138219\n",
      " 124425.19322011 538696.17300329 279441.52073353 684276.77404027\n",
      " 688844.60467821 124610.10737338 345753.35662754  84245.11374267\n",
      " 235246.13558371 194386.17087612 103523.06569699 509682.52427298\n",
      " 209356.84399796 739386.82117122 345753.35662754 485040.66746327\n",
      " 378942.9196107  149831.43372872 314809.64210999 627354.11489019\n",
      " 248577.94996433 549264.89404565 290868.64617966 383776.36022086\n",
      " 522966.07228877 339341.44861815 310655.55674988 517940.63324005\n",
      " 345753.35662754 441947.76447825 238585.0411307  482671.63919106\n",
      " 183158.02541835 387930.44558097 343305.7375682   84245.11374267\n",
      " 660752.97880706 238585.0411307  254748.76247019 688844.60467821\n",
      " 357444.27219964  87492.23164169 456638.77914328 679327.69546024\n",
      " 513092.31432738 603594.96009054 212719.88013577 552888.34290327\n",
      " 345753.35662754 401974.20199471 169426.52918394 375634.7530653\n",
      " 154220.74292618 414534.09145593 759332.21341472 163567.66917134\n",
      " 344649.21982588 571370.86957732 586372.92110995 121213.63637118\n",
      " 345753.35662754 194706.0122297  118254.40340979 502727.79301201\n",
      " 372435.38930982 484856.31149563 407607.83467036]\n",
      "MAE: 111963.92708720252\n",
      "MSE: 23465543798.228012\n",
      "RMSE: 153184.67220393824\n"
     ]
    },
    {
     "data": {
      "text/plain": [
       "62.87842557657759"
      ]
     },
     "execution_count": 152,
     "metadata": {},
     "output_type": "execute_result"
    }
   ],
   "source": [
    "# Building the DecisionTree Regression Model\n",
    "gbr = GradientBoostingRegressor()\n",
    "gbr.fit(x_train,y_train)\n",
    "\n",
    "# Computing Training and Testing score\n",
    "mscore(gbr)\n",
    "\n",
    "# Generating Prediction\n",
    "ypred_gbr = gbr.predict(x_test)\n",
    "print(ypred_gbr)\n",
    "\n",
    "# Evaluating the model : mean_absolute_error, mean_squared_error, root_mean_squared_error\n",
    "reg_eval_metrics(y_test,ypred_gbr)\n",
    "\n",
    "# Evaluating Model : R2 score\n",
    "r2_gbr = r2_score(y_test,ypred_gbr)*100\n",
    "r2_gbr"
   ]
  },
  {
   "cell_type": "markdown",
   "metadata": {
    "id": "xIiJwbfo7niL"
   },
   "source": [
    "# 8. AdaBoost Regression"
   ]
  },
  {
   "cell_type": "code",
   "execution_count": 153,
   "metadata": {
    "colab": {
     "base_uri": "https://localhost:8080/"
    },
    "id": "ixeyKqW97nuy",
    "outputId": "f05f5e94-141b-4f03-bd97-5637ee591153"
   },
   "outputs": [
    {
     "name": "stdout",
     "output_type": "stream",
     "text": [
      "Training Score 0.4331432258071872\n",
      "Testing Score 0.4842842570243584\n",
      "[173227.50089445 338884.89465154 559000.         545362.06963788\n",
      " 240772.63636364 178013.13157895 486118.44741235 201983.76363636\n",
      " 286282.63829787 486118.44741235 257522.42906574 189333.38495575\n",
      " 559614.26527051 286282.63829787 426790.20236337 178013.13157895\n",
      " 545362.06963788 338884.89465154 173227.50089445 497315.16766021\n",
      " 497315.16766021 240772.63636364 426790.20236337 286282.63829787\n",
      " 208247.72752809 338884.89465154 464033.68960674 173227.50089445\n",
      " 464033.68960674 689530.67877095 486118.44741235 256336.92753623\n",
      " 679586.74347158 426790.20236337 401332.44166667 464033.68960674\n",
      " 464033.68960674 679586.74347158 189333.38495575 497315.16766021\n",
      " 689530.67877095 401332.44166667 208247.72752809 559614.26527051\n",
      " 486118.44741235 486118.44741235 286282.63829787 208247.72752809\n",
      " 338884.89465154 397326.56397306 338884.89465154 545362.06963788\n",
      " 397326.56397306 173227.50089445 464033.68960674 401332.44166667\n",
      " 173227.50089445 545362.06963788 559614.26527051 559614.26527051\n",
      " 173227.50089445 559614.26527051 529386.33116883 679586.74347158\n",
      " 397326.56397306 338884.89465154 689530.67877095 545362.06963788\n",
      " 575988.22103114 689530.67877095 585666.21249235 401332.44166667\n",
      " 401332.44166667 257522.42906574 338884.89465154 426790.20236337\n",
      " 338884.89465154 464033.68960674 464033.68960674 559614.26527051\n",
      " 689530.67877095 173227.50089445 401332.44166667 559614.26527051\n",
      " 585666.21249235 189333.38495575 338884.89465154 240772.63636364\n",
      " 338884.89465154 545362.06963788 470494.11136891 464033.68960674\n",
      " 545362.06963788 469256.35897436 545362.06963788 178013.13157895\n",
      " 208247.72752809 559614.26527051 689530.67877095 338884.89465154\n",
      " 401332.44166667 559614.26527051 497315.16766021 397326.56397306\n",
      " 401332.44166667 338884.89465154 401332.44166667 397326.56397306\n",
      " 464033.68960674 173227.50089445 397326.56397306 650889.482066\n",
      " 559614.26527051 650889.482066   470494.11136891 401332.44166667\n",
      " 426790.20236337 545362.06963788 505153.83076923 277534.81395349\n",
      " 189333.38495575 585666.21249235 338884.89465154 585666.21249235\n",
      " 529386.33116883 433263.93624161 470494.11136891 189333.38495575\n",
      " 545362.06963788 689530.67877095 173227.50089445 464033.68960674\n",
      " 338884.89465154 426790.20236337 464033.68960674 559614.26527051\n",
      " 338884.89465154 208247.72752809 559614.26527051 338884.89465154\n",
      " 650889.482066   464033.68960674 397326.56397306 679586.74347158\n",
      " 559614.26527051 464033.68960674 559614.26527051 585666.21249235\n",
      " 240772.63636364 689530.67877095 679586.74347158 286282.63829787\n",
      " 650889.482066   189333.38495575 689530.67877095 338884.89465154\n",
      " 464033.68960674 579439.56965944 464033.68960674 464033.68960674\n",
      " 486118.44741235 257522.42906574 486118.44741235 338884.89465154\n",
      " 173227.50089445 397326.56397306 689530.67877095 559614.26527051\n",
      " 208247.72752809 497315.16766021 464033.68960674 545362.06963788\n",
      " 189333.38495575 338884.89465154 401332.44166667 689530.67877095\n",
      " 585666.21249235 426790.20236337 173227.50089445 559614.26527051\n",
      " 545362.06963788 397326.56397306 679586.74347158 469256.35897436\n",
      " 464033.68960674 559614.26527051 559614.26527051 545362.06963788\n",
      " 189333.38495575 397326.56397306 545362.06963788 559614.26527051\n",
      " 426790.20236337 338884.89465154 689530.67877095 545362.06963788\n",
      " 189333.38495575 497315.16766021 426790.20236337 559614.26527051\n",
      " 689530.67877095 338884.89465154 338884.89465154 257522.42906574\n",
      " 497315.16766021 470494.11136891 575988.22103114 545362.06963788\n",
      " 545362.06963788 189333.38495575 178013.13157895 178013.13157895\n",
      " 464033.68960674 173227.50089445 401332.44166667 559614.26527051\n",
      " 338884.89465154 559614.26527051 497315.16766021 401332.44166667\n",
      " 470494.11136891 338884.89465154 679586.74347158 464033.68960674\n",
      " 401332.44166667 545362.06963788 464033.68960674 650889.482066\n",
      " 338884.89465154 173227.50089445 529386.33116883 486118.44741235\n",
      " 464033.68960674 559614.26527051 559614.26527051 486118.44741235\n",
      " 607156.81176471 545362.06963788 486118.44741235 575988.22103114\n",
      " 240772.63636364 397326.56397306 689530.67877095 397326.56397306\n",
      " 650889.482066   545362.06963788 464033.68960674 559614.26527051\n",
      " 470494.11136891 464033.68960674 208247.72752809 338884.89465154\n",
      " 486118.44741235 397326.56397306 679586.74347158 397326.56397306\n",
      " 545362.06963788 585666.21249235 689530.67877095 397326.56397306\n",
      " 689530.67877095 693939.53084833 497315.16766021 515745.05882353\n",
      " 189333.38495575 464033.68960674 464033.68960674 286282.63829787\n",
      " 470494.11136891 256336.92753623 173227.50089445 338884.89465154\n",
      " 338884.89465154 173227.50089445 650889.482066   529386.33116883\n",
      " 679586.74347158 650889.482066   469256.35897436 689530.67877095\n",
      " 650889.482066   173227.50089445 559614.26527051 585666.21249235\n",
      " 559614.26527051 559614.26527051 338884.89465154 286282.63829787\n",
      " 545362.06963788 257522.42906574 464033.68960674 559614.26527051\n",
      " 622581.2553681  679586.74347158 173227.50089445 611615.38461538\n",
      " 470494.11136891 545362.06963788 559614.26527051 397326.56397306\n",
      " 559614.26527051 338884.89465154 189333.38495575 559614.26527051\n",
      " 470494.11136891 585666.21249235 464033.68960674 505153.83076923\n",
      " 486118.44741235 401332.44166667 486118.44741235 559614.26527051\n",
      " 529386.33116883 397326.56397306 401332.44166667 189333.38495575\n",
      " 650889.482066   679586.74347158 286282.63829787 464033.68960674\n",
      " 189333.38495575 679586.74347158 585666.21249235 679586.74347158\n",
      " 529386.33116883 256336.92753623 426790.20236337 173227.50089445\n",
      " 464033.68960674 464033.68960674 497315.16766021 173227.50089445\n",
      " 545362.06963788 338884.89465154 464033.68960674 286282.63829787\n",
      " 679586.74347158 585666.21249235 693939.53084833 469256.35897436\n",
      " 360937.5        397326.56397306 397326.56397306 545362.06963788\n",
      " 650889.482066   559614.26527051 545362.06963788 338884.89465154\n",
      " 286282.63829787 545362.06963788 486118.44741235 559614.26527051\n",
      " 559614.26527051 206886.05063291 545362.06963788 464033.68960674\n",
      " 173227.50089445 679586.74347158 529386.33116883 689530.67877095\n",
      " 338884.89465154 464033.68960674 650889.482066   650889.482066\n",
      " 257522.42906574 433263.93624161 208247.72752809 689530.67877095\n",
      " 257522.42906574 397326.56397306 401332.44166667 505153.83076923\n",
      " 208247.72752809 505153.83076923 464033.68960674 515745.05882353\n",
      " 545362.06963788 338884.89465154 173227.50089445 529386.33116883\n",
      " 464033.68960674 257522.42906574 338884.89465154 401332.44166667\n",
      " 338884.89465154 545362.06963788 277534.81395349 464033.68960674\n",
      " 173227.50089445 189333.38495575 338884.89465154 650889.482066\n",
      " 679586.74347158 545362.06963788 486118.44741235 559614.26527051\n",
      " 693939.53084833 189333.38495575 173227.50089445 469256.35897436\n",
      " 464033.68960674 497315.16766021 257522.42906574 497315.16766021\n",
      " 257522.42906574 470494.11136891 173227.50089445 650889.482066\n",
      " 189333.38495575 401332.44166667 559614.26527051 650889.482066\n",
      " 257522.42906574 559614.26527051 505153.83076923 426790.20236337\n",
      " 189333.38495575 486118.44741235 173227.50089445 464033.68960674\n",
      " 256336.92753623 208247.72752809 559614.26527051 464033.68960674\n",
      " 433263.93624161 464033.68960674 189333.38495575 486118.44741235\n",
      " 559614.26527051 208247.72752809 559614.26527051 693939.53084833\n",
      " 338884.89465154 286282.63829787 208247.72752809 397326.56397306\n",
      " 585666.21249235 545362.06963788 559614.26527051 470494.11136891\n",
      " 173227.50089445 189333.38495575 545362.06963788 208247.72752809\n",
      " 338884.89465154 559614.26527051 486118.44741235 464033.68960674\n",
      " 559614.26527051 497315.16766021 173227.50089445 426790.20236337\n",
      " 208247.72752809 189333.38495575 559614.26527051 397326.56397306\n",
      " 464033.68960674 497315.16766021 189333.38495575 189333.38495575\n",
      " 464033.68960674 208247.72752809 689530.67877095 178013.13157895\n",
      " 559614.26527051 545362.06963788 464033.68960674 464033.68960674\n",
      " 559614.26527051 505153.83076923 397326.56397306 753878.24782609\n",
      " 559614.26527051 277534.81395349 545362.06963788 486118.44741235\n",
      " 497315.16766021 469256.35897436 208247.72752809 559614.26527051\n",
      " 545362.06963788 401332.44166667 178013.13157895 464033.68960674\n",
      " 689530.67877095 497315.16766021 559614.26527051 545362.06963788\n",
      " 650889.482066   486118.44741235 286282.63829787 338884.89465154\n",
      " 426790.20236337 545362.06963788 559614.26527051 650889.482066\n",
      " 650889.482066   650889.482066   529386.33116883 545362.06963788\n",
      " 464033.68960674 189333.38495575 679586.74347158 338884.89465154\n",
      " 486118.44741235 689530.67877095 338884.89465154 545362.06963788\n",
      " 397326.56397306 470494.11136891 486118.44741235 401332.44166667\n",
      " 559614.26527051 689530.67877095 559614.26527051 486118.44741235\n",
      " 559614.26527051 338884.89465154 338884.89465154 545362.06963788\n",
      " 470494.11136891 464033.68960674 464033.68960674 397326.56397306\n",
      " 397326.56397306 545362.06963788 559614.26527051 426790.20236337\n",
      " 401332.44166667 201983.76363636 464033.68960674 545362.06963788\n",
      " 727611.40615836 189333.38495575 529386.33116883 338884.89465154\n",
      " 173227.50089445 689530.67877095 338884.89465154 173227.50089445\n",
      " 486118.44741235 545362.06963788 497315.16766021 486118.44741235\n",
      " 256336.92753623 208247.72752809 338884.89465154 585666.21249235\n",
      " 397326.56397306 469256.35897436 559614.26527051 173227.50089445\n",
      " 542106.59733333 433263.93624161 585666.21249235 173227.50089445\n",
      " 545362.06963788 559614.26527051 689530.67877095 338884.89465154\n",
      " 559614.26527051 545362.06963788 689530.67877095 559614.26527051\n",
      " 559614.26527051 545362.06963788 559614.26527051 529386.33116883\n",
      " 542106.59733333 497315.16766021 575988.22103114 497315.16766021\n",
      " 286282.63829787 559614.26527051 189333.38495575 338884.89465154\n",
      " 650889.482066   433263.93624161 189333.38495575 257522.42906574\n",
      " 689530.67877095 464033.68960674 397326.56397306 693939.53084833\n",
      " 689530.67877095 401332.44166667 189333.38495575 497315.16766021\n",
      " 338884.89465154 286282.63829787 529386.33116883 178013.13157895\n",
      " 464033.68960674 338884.89465154 545362.06963788 426790.20236337\n",
      " 286282.63829787 689530.67877095 338884.89465154 529386.33116883\n",
      " 201983.76363636 208247.72752809 545362.06963788 585666.21249235\n",
      " 679586.74347158 189333.38495575 689530.67877095 257522.42906574\n",
      " 486118.44741235 545362.06963788 464033.68960674 464033.68960674\n",
      " 397326.56397306 189333.38495575 679586.74347158 397326.56397306\n",
      " 338884.89465154 401332.44166667 189333.38495575 286282.63829787\n",
      " 397326.56397306 286282.63829787 679586.74347158 401332.44166667\n",
      " 559614.26527051 338884.89465154 545362.06963788 240772.63636364\n",
      " 469256.35897436 545362.06963788 497315.16766021 497315.16766021\n",
      " 689530.67877095 470494.11136891 286282.63829787 585666.21249235\n",
      " 559614.26527051 688848.30331754 585666.21249235 486118.44741235\n",
      " 679586.74347158 505153.83076923 470494.11136891 753878.24782609\n",
      " 753878.24782609 470494.11136891 650889.482066   545362.06963788\n",
      " 208247.72752809 338884.89465154 753878.24782609 559614.26527051\n",
      " 257522.42906574 464033.68960674 753878.24782609 397326.56397306\n",
      " 338884.89465154 497315.16766021 585666.21249235 689530.67877095\n",
      " 426790.20236337 529386.33116883 559614.26527051 208247.72752809\n",
      " 338884.89465154 426790.20236337 650889.482066   497315.16766021\n",
      " 397326.56397306 545362.06963788 464033.68960674 173227.50089445\n",
      " 433263.93624161 173227.50089445 464033.68960674 559614.26527051\n",
      " 650889.482066   338884.89465154 689530.67877095 689530.67877095\n",
      " 338884.89465154 178013.13157895 753878.24782609 469256.35897436\n",
      " 257522.42906574 545362.06963788 257522.42906574 189333.38495575\n",
      " 545362.06963788 464033.68960674 545362.06963788 559614.26527051\n",
      " 397326.56397306 286282.63829787 338884.89465154 689530.67877095\n",
      " 545362.06963788 286282.63829787 401332.44166667 689530.67877095\n",
      " 257522.42906574 529386.33116883 189333.38495575 338884.89465154\n",
      " 689530.67877095 286282.63829787 189333.38495575 559614.26527051\n",
      " 173227.50089445 486118.44741235 585666.21249235 464033.68960674\n",
      " 208247.72752809 559614.26527051 559614.26527051 559614.26527051\n",
      " 397326.56397306 505153.83076923 545362.06963788 545362.06963788\n",
      " 689530.67877095 397326.56397306 338884.89465154 559614.26527051\n",
      " 201983.76363636 545362.06963788 650889.482066   208247.72752809\n",
      " 173227.50089445 559614.26527051 189333.38495575 401332.44166667\n",
      " 257522.42906574 338884.89465154 679586.74347158 189333.38495575\n",
      " 401332.44166667 178013.13157895 208247.72752809 545362.06963788\n",
      " 464033.68960674 240772.63636364 559614.26527051 545362.06963788\n",
      " 650889.482066   464033.68960674 486118.44741235 559614.26527051\n",
      " 575988.22103114 189333.38495575 559614.26527051 464033.68960674\n",
      " 497315.16766021 505153.83076923 559614.26527051 338884.89465154\n",
      " 277534.81395349 559614.26527051 338884.89465154 173227.50089445\n",
      " 469256.35897436 173227.50089445 650889.482066   486118.44741235\n",
      " 397326.56397306 338884.89465154 399658.07228916 505153.83076923\n",
      " 189333.38495575 189333.38495575 397326.56397306 464033.68960674\n",
      " 689530.67877095 208247.72752809 401332.44166667 753878.24782609\n",
      " 464033.68960674 464033.68960674 545362.06963788 257522.42906574\n",
      " 189333.38495575 505153.83076923 338884.89465154 585666.21249235\n",
      " 622581.2553681  189333.38495575 401332.44166667 173227.50089445\n",
      " 256336.92753623 257522.42906574 189333.38495575 559614.26527051\n",
      " 277534.81395349 689530.67877095 401332.44166667 545362.06963788\n",
      " 505153.83076923 277534.81395349 497315.16766021 650889.482066\n",
      " 469256.35897436 545362.06963788 397326.56397306 497315.16766021\n",
      " 559614.26527051 401332.44166667 497315.16766021 542106.59733333\n",
      " 401332.44166667 559614.26527051 338884.89465154 545362.06963788\n",
      " 257522.42906574 497315.16766021 497315.16766021 173227.50089445\n",
      " 679586.74347158 338884.89465154 397326.56397306 622581.2553681\n",
      " 464033.68960674 173227.50089445 545362.06963788 517045.16582915\n",
      " 575988.22103114 650889.482066   338884.89465154 559614.26527051\n",
      " 401332.44166667 486118.44741235 189333.38495575 426790.20236337\n",
      " 208247.72752809 486118.44741235 689530.67877095 208247.72752809\n",
      " 559614.26527051 545362.06963788 650889.482066   189333.38495575\n",
      " 401332.44166667 257522.42906574 201983.76363636 545362.06963788\n",
      " 426790.20236337 559614.26527051 486118.44741235]\n",
      "MAE: 145596.40843858456\n",
      "MSE: 32599776658.70487\n",
      "RMSE: 180554.0823651043\n"
     ]
    },
    {
     "data": {
      "text/plain": [
       "48.42842570243584"
      ]
     },
     "execution_count": 153,
     "metadata": {},
     "output_type": "execute_result"
    }
   ],
   "source": [
    "# Building the AdaBoost Regression Model\n",
    "adab = AdaBoostRegressor()\n",
    "adab.fit(x_train,y_train)\n",
    "\n",
    "# Computing Training and Testing score\n",
    "mscore(adab)\n",
    "\n",
    "# Generating Prediction\n",
    "ypred_adab = adab.predict(x_test)\n",
    "print(ypred_adab)\n",
    "\n",
    "# Evaluating the model : mean_absolute_error, mean_squared_error, root_mean_squared_error\n",
    "reg_eval_metrics(y_test,ypred_adab)\n",
    "\n",
    "# Evaluating Model : R2 score\n",
    "r2_adab = r2_score(y_test,ypred_adab)*100\n",
    "r2_adab"
   ]
  },
  {
   "cell_type": "markdown",
   "metadata": {
    "id": "7dCXsqG87nJC"
   },
   "source": [
    "# 9. XGBoost Regression"
   ]
  },
  {
   "cell_type": "code",
   "execution_count": 154,
   "metadata": {
    "colab": {
     "base_uri": "https://localhost:8080/"
    },
    "id": "Be36ZeGe7nU3",
    "outputId": "4e277f19-c640-44e0-b7da-f89d31acc935"
   },
   "outputs": [
    {
     "name": "stdout",
     "output_type": "stream",
     "text": [
      "Training Score 0.7815275468861764\n",
      "Testing Score 0.5830988600317711\n",
      "[  46758.68   265991.72   773703.8    416753.     122981.59    80783.72\n",
      "  307967.6     79128.67   189807.98   411578.47   207418.2    158949.75\n",
      "  425681.56   201893.73   322197.2    114538.375  348716.6    219686.38\n",
      "   58298.42   314668.06    96399.28   209267.95   358568.3    133048.69\n",
      "  184560.4    294181.22   315506.75   110774.74   116100.31   844270.25\n",
      "  470106.22   199342.94   667198.44   280863.5    268412.25   364914.88\n",
      "  430679.88   692323.7    104855.695  253377.83   532410.2    380244.75\n",
      "  155345.73   519270.3    437310.34   446281.3    177822.67   170773.61\n",
      "  183697.06   177955.47   298434.62   542896.56   299824.53    66468.72\n",
      "  372689.72   332369.16    73335.05   426008.34   197882.81   482398.34\n",
      "   35509.516  499691.84   338928.16   622482.6    313054.94   283119.1\n",
      "  888314.9    476197.66   519469.16   929651.2    734977.56   329102.8\n",
      "  249008.05   182724.19   274565.25   239305.62   276897.16   334737.4\n",
      "  369782.1    364331.44   891242.25   151218.55   315619.28   529073.\n",
      "  986024.7    137460.52   405260.12   146728.92   298434.62   416753.\n",
      "  308818.47   348513.94   309357.62   175533.16   362376.6    106842.24\n",
      "  140374.11   492115.9    757167.5    284084.12   516038.4    593621.06\n",
      "  394372.1    237152.2    332369.16   191129.45   251279.58   178836.5\n",
      "  333053.      90787.25   299824.53   654653.8    517032.97   578395.75\n",
      "  302864.1    325041.66   334934.25   659102.3    661719.8    178142.69\n",
      "  124269.29   986024.7    352953.94   986024.7    365150.03   362726.5\n",
      "  335483.97   119667.32   560823.     355764.44   122183.586  318243.25\n",
      "  285303.97   313848.88   393826.88   542040.     217695.69   203055.86\n",
      "  510009.28   561702.3    779522.56   443689.56   237152.2    722856.2\n",
      "  253991.75   540234.75   373787.88   528081.6    157293.7    880161.44\n",
      "  702195.06   281511.25   686175.6    145404.72   735022.25   246247.12\n",
      "  348513.94   537424.8    372203.38   400057.97   457332.3    194284.3\n",
      "  403743.72   401956.2    125692.88   279642.3    810946.25   529073.\n",
      "  152040.88   430980.94   393826.88   348155.38   117622.055  231293.16\n",
      "  325041.66   685705.6    698161.56   326202.6    101675.06   512929.22\n",
      "  503735.47   220351.02   622482.6    229086.33   485737.     625637.1\n",
      "  495871.16   573096.     145709.56   239308.97   369497.38   449540.16\n",
      "  320661.34   284720.88   832742.7    527441.06   100037.29   423755.25\n",
      "  294678.1    482207.66   393628.78   298434.62   339193.28   165008.\n",
      "  269331.47   326000.53   530990.75   366703.28   409553.22   153208.9\n",
      "  104637.03    96895.55   349537.7     31283.484  328793.06   530294.1\n",
      "  279043.56   494641.78   350002.2    326251.1    616843.4    240485.36\n",
      "  709070.3    439139.53   294462.2    385378.56   272520.1    624116.9\n",
      "  205574.1    207715.48   365150.03   336528.94   396011.34   499691.84\n",
      "  476877.75   329253.1    687994.56   529940.3    487451.25   577263.4\n",
      "  162624.39   252197.23   670971.9    299997.8    624018.3    376240.6\n",
      "  326092.66   495871.16   285335.12   360626.7    188670.36   273025.9\n",
      "  372693.53   299824.53   709070.3    299997.8    653992.75   546188.3\n",
      "  777545.5    189995.7    819118.6    775227.4    505898.28   307898.38\n",
      "  138127.53   451975.72   463425.38   204168.48   328101.66   176176.8\n",
      "   53896.305  233065.7    341339.38    86141.38   460947.88   365150.03\n",
      "  667198.44   651491.2    285890.25   764739.3    632136.56    66525.445\n",
      "  621185.6    986024.7    500983.2    500913.     126113.66   195405.02\n",
      "  420684.12   205419.47   316444.3    525031.56   914684.1    622482.6\n",
      "  110535.2    335296.7    352273.9    544770.06   530294.1    299262.9\n",
      "  635783.2    235880.02   146029.8    632296.56   362824.5    516820.3\n",
      "  353490.6    477209.56   453697.97   325599.34   340597.28   570558.6\n",
      "  365150.03   232635.62   306812.88   152061.2    707313.56   638874.44\n",
      "  277995.2    453492.12   111783.484  667198.44   889520.2    603907.6\n",
      "  470955.7    163367.72   358227.1     65272.855  406592.66   242466.92\n",
      "  386170.3    -21066.146  348716.6    284720.88   515374.25   214524.28\n",
      "  614903.1    441109.88   798078.44   285384.44   154048.22   273763.22\n",
      "  220351.02   427243.06   654653.8    537914.75   348155.38   276897.16\n",
      "  213899.86   485887.4    505892.03   556134.3    495862.94    76439.29\n",
      "  409553.22   345803.16    65591.64   815634.     365150.03   843326.1\n",
      "  345912.     397466.8    508758.78   613959.     210909.84   239718.53\n",
      "  161069.     775433.7    172319.86   253614.97   346453.47   544752.06\n",
      "  181085.66   457158.8    414916.38   366497.22   860188.56   267724.66\n",
      "  138104.05   538250.06   365603.34   233244.39   298684.4    294462.2\n",
      "  267724.66   416753.     133750.58   463425.38    50384.773  136763.98\n",
      "  199967.66   638145.8    667198.44   545955.3    411578.47   618477.56\n",
      "  807949.8    101646.516   90737.01   297266.66   326011.5    341561.4\n",
      "  176862.55   413815.34   196819.58   366606.12    99875.65   618993.75\n",
      "  117310.625  318541.62   492748.9    657408.5    269955.9    530294.1\n",
      "  388366.16   348091.66    89085.195  332459.5     72146.02   312996.22\n",
      "  145003.98   140648.4    542040.     349537.7    422286.78   242466.92\n",
      "  158949.75   331886.16   526654.1    123072.984  221188.94   832959.8\n",
      "  215717.83   139122.08   162627.86   178201.6    553435.     614673.9\n",
      "  359984.94   359187.6     97090.92    84934.93   615173.5    140648.4\n",
      "  223382.83   343747.8    382282.3    269467.34   457894.78   114374.18\n",
      "   76909.086  325790.72   163592.17   133622.17   385293.16   321532.34\n",
      "  275178.4    400946.4     75363.5    136296.95   391935.75   216740.45\n",
      "  844270.25    95328.5    532898.4    426008.34   446151.1    318243.25\n",
      "  568607.06   424622.75   266069.28   772120.4    507231.6    168755.1\n",
      "  602026.     480858.12   252754.4    303591.66   191240.42   526654.1\n",
      "  416753.     326251.1    109214.24   434292.2    757167.5    287531.06\n",
      "  514587.34   675030.1    733413.8    336528.94   132324.28   205574.1\n",
      "  808961.2    408970.2    483345.3    577872.2    619570.8    426110.72\n",
      "  365150.03   506612.38   453492.12   137460.52   709070.3    235045.75\n",
      "  380242.03   761785.     236053.88   409553.22   268929.8    334917.84\n",
      "  470106.22   309848.38   655927.44   831988.06   482207.66   417769.97\n",
      "  117584.25   226143.66   361001.2    634496.9    412934.34   451975.72\n",
      "  391935.75   274795.5    201337.44   460274.38   510270.84   358227.1\n",
      "  374585.16    93167.33   391935.75   529940.3    842871.25   142749.5\n",
      "  447065.12   298684.4    100372.49   761785.     292559.56    86141.38\n",
      "  290116.88   716296.56   350002.2    402533.22   175396.7    163197.53\n",
      "  229840.11   442092.1    269613.62   303418.38   554461.25    44441.58\n",
      "  523797.8    506689.12   530315.2     71939.734  418133.94   493846.84\n",
      "  757167.5    151319.1    234029.86   573096.     800434.4    510009.28\n",
      "  415607.     503735.47   494641.78   365150.03   520226.72   313895.03\n",
      "  549655.7    270007.5     63781.023  528391.7    152256.61   228868.52\n",
      "  716692.4    335099.16   101646.516  268788.12   659276.9    353490.6\n",
      "  273763.22   658282.9    823985.9    244018.92   124269.29   287531.06\n",
      "  224468.23   207501.56   390159.94    34600.26   378353.06   229840.11\n",
      "  444265.1    281391.88   101197.1    847574.7    268214.78   530816.75\n",
      "  113253.83   208335.02   426008.34   521636.75   614903.1    133622.17\n",
      "  670972.9    196819.58   365448.88   607166.3    353490.6    357746.16\n",
      "  349849.38   134679.39   660717.1    303356.56   223382.83   297990.4\n",
      "  144501.23   226620.83   195917.77   109040.61   573566.6    315660.88\n",
      "  510270.84   231293.16   317805.38   106246.64   228024.53   449380.62\n",
      "  426589.12   311787.84   318650.06   307768.7    153001.12   438810.6\n",
      "  482207.66   924253.75   558198.1    403772.38   784042.     413143.84\n",
      "  458074.9    778514.1    762175.75   378414.2    606937.1    710408.8\n",
      "  163442.19   302954.22   891503.     574620.94   200514.     360279.1\n",
      "  719624.5    252197.23   171425.72   414253.3    615814.     762473.7\n",
      "  364483.56   365150.03   340808.9    185183.05   215717.83   447248.12\n",
      "  657408.5    386170.3    299824.53   552670.75   411590.66   114210.61\n",
      "  319077.22    76464.12   379786.1    499691.84   641918.06   209554.62\n",
      "  844270.25   844270.25   352571.     129122.64  1104417.6    294003.22\n",
      "  175440.22   592756.8    211876.75   158949.75   566141.5    382001.94\n",
      "  476318.47   485996.3    421026.62   211558.48   231293.16   516806.34\n",
      "  408970.2    292316.44   293905.84   926884.     196819.58   510387.88\n",
      "  164917.83   215336.31   844270.25   125531.23    96255.766   97481.84\n",
      "   65361.984  443832.7    533732.75   316444.3    178729.94   117584.25\n",
      "  126562.13   458533.03   226670.73   194940.1    550507.6    550949.\n",
      "  735022.25   201337.44   151319.1    476877.75    93167.33   366703.28\n",
      "  648767.25   178642.92    85137.99   505638.75   111783.484  310503.5\n",
      "   83284.79   209584.8    544826.5    137460.52   293905.84   143573.02\n",
      "  178729.94   358528.72   425893.     208247.53   540744.5    644764.8\n",
      "  649946.94   335736.1    476559.3    503356.44   588134.06   100037.29\n",
      "  530294.1    401279.12   253377.83   565827.8    480364.38   117899.25\n",
      "  225561.66   542040.     299735.5     64195.47   229086.33    86141.38\n",
      "  733413.8    417769.97   280998.03   143918.6    464386.9    630101.56\n",
      "  219424.2    123237.35   251606.1    317395.44   831658.44   181085.66\n",
      "  326251.1    996018.75   404665.78   446585.22   451506.03   256889.16\n",
      "  137460.52   559422.     305141.72   849228.25   772668.5    128517.23\n",
      "  340392.06    79477.59   225056.53   205419.47    83679.664  503356.44\n",
      "  225561.66   761785.     365574.34   529940.3    358792.66   133750.58\n",
      "  288812.72   649308.5    229086.33   527441.06   219725.66   394372.1\n",
      "  493846.84   293905.84   341388.12   573227.44   340392.06   384030.62\n",
      "  312253.     475722.     182724.19   430980.94   225050.83   105386.78\n",
      "  709070.3    271848.7    265570.28   809506.     365603.34   103777.555\n",
      "  476302.97   667961.4    536125.9    857261.     184556.83   569228.25\n",
      "  340392.06   274501.75   189998.17   294678.1    151008.66   401019.34\n",
      "  736746.94   260976.     298333.9    619151.94   624138.1    148663.95\n",
      "  305763.1    190957.05   115652.76   597935.5    223376.42   466937.84\n",
      "  345881.94 ]\n",
      "MAE: 118101.13929447683\n",
      "MSE: 26353440314.436256\n",
      "RMSE: 162337.42733712474\n"
     ]
    },
    {
     "data": {
      "text/plain": [
       "58.30988600317711"
      ]
     },
     "execution_count": 154,
     "metadata": {},
     "output_type": "execute_result"
    }
   ],
   "source": [
    "# Building the XGBoost Regression Model\n",
    "xgb = XGBRegressor()\n",
    "xgb.fit(x_train,y_train)\n",
    "\n",
    "# Computing Training and Testing score\n",
    "mscore(xgb)\n",
    "\n",
    "# Generating Prediction\n",
    "ypred_xgb = xgb.predict(x_test)\n",
    "print(ypred_xgb)\n",
    "\n",
    "# Evaluating the model : mean_absolute_error, mean_squared_error, root_mean_squared_error\n",
    "reg_eval_metrics(y_test,ypred_xgb)\n",
    "\n",
    "# Evaluating Model : R2 score\n",
    "r2_xgb = r2_score(y_test,ypred_xgb)*100\n",
    "r2_xgb"
   ]
  },
  {
   "cell_type": "markdown",
   "metadata": {
    "id": "ZqBxobfmcxQU"
   },
   "source": [
    "# Comparing Different Regression Models"
   ]
  },
  {
   "cell_type": "markdown",
   "metadata": {
    "id": "mXcD6EuEc65W"
   },
   "source": [
    "Creating a dataframe showing R2_score of each model"
   ]
  },
  {
   "cell_type": "code",
   "execution_count": 155,
   "metadata": {
    "colab": {
     "base_uri": "https://localhost:8080/",
     "height": 331
    },
    "id": "IKIneKLPhI5z",
    "outputId": "d798f4e3-f7f8-467e-a089-47e1aa9f0532"
   },
   "outputs": [
    {
     "data": {
      "text/html": [
       "<div>\n",
       "<style scoped>\n",
       "    .dataframe tbody tr th:only-of-type {\n",
       "        vertical-align: middle;\n",
       "    }\n",
       "\n",
       "    .dataframe tbody tr th {\n",
       "        vertical-align: top;\n",
       "    }\n",
       "\n",
       "    .dataframe thead th {\n",
       "        text-align: right;\n",
       "    }\n",
       "</style>\n",
       "<table border=\"1\" class=\"dataframe\">\n",
       "  <thead>\n",
       "    <tr style=\"text-align: right;\">\n",
       "      <th></th>\n",
       "      <th>Model</th>\n",
       "      <th>Score</th>\n",
       "    </tr>\n",
       "  </thead>\n",
       "  <tbody>\n",
       "    <tr>\n",
       "      <th>6</th>\n",
       "      <td>GradientBoosting Regressor</td>\n",
       "      <td>62.878426</td>\n",
       "    </tr>\n",
       "    <tr>\n",
       "      <th>8</th>\n",
       "      <td>XGBoost Regressor</td>\n",
       "      <td>58.309886</td>\n",
       "    </tr>\n",
       "    <tr>\n",
       "      <th>3</th>\n",
       "      <td>RandomForest Regressor</td>\n",
       "      <td>56.944097</td>\n",
       "    </tr>\n",
       "    <tr>\n",
       "      <th>0</th>\n",
       "      <td>Linear Regression</td>\n",
       "      <td>56.249373</td>\n",
       "    </tr>\n",
       "    <tr>\n",
       "      <th>2</th>\n",
       "      <td>Lasso Regression</td>\n",
       "      <td>56.249350</td>\n",
       "    </tr>\n",
       "    <tr>\n",
       "      <th>1</th>\n",
       "      <td>Ridge Regression</td>\n",
       "      <td>56.149290</td>\n",
       "    </tr>\n",
       "    <tr>\n",
       "      <th>7</th>\n",
       "      <td>AdaBoost Regressor</td>\n",
       "      <td>48.428426</td>\n",
       "    </tr>\n",
       "    <tr>\n",
       "      <th>5</th>\n",
       "      <td>DecisionTree Regressor</td>\n",
       "      <td>38.962082</td>\n",
       "    </tr>\n",
       "    <tr>\n",
       "      <th>4</th>\n",
       "      <td>KNeighbors Regressor</td>\n",
       "      <td>34.164413</td>\n",
       "    </tr>\n",
       "  </tbody>\n",
       "</table>\n",
       "</div>"
      ],
      "text/plain": [
       "                        Model      Score\n",
       "6  GradientBoosting Regressor  62.878426\n",
       "8           XGBoost Regressor  58.309886\n",
       "3      RandomForest Regressor  56.944097\n",
       "0           Linear Regression  56.249373\n",
       "2            Lasso Regression  56.249350\n",
       "1            Ridge Regression  56.149290\n",
       "7          AdaBoost Regressor  48.428426\n",
       "5      DecisionTree Regressor  38.962082\n",
       "4        KNeighbors Regressor  34.164413"
      ]
     },
     "execution_count": 155,
     "metadata": {},
     "output_type": "execute_result"
    }
   ],
   "source": [
    "# Creating a dataframe showing R2_score of each model\n",
    "models = pd.DataFrame({\n",
    "    'Model': ['Linear Regression','Ridge Regression','Lasso Regression','RandomForest Regressor','KNeighbors Regressor','DecisionTree Regressor','GradientBoosting Regressor','AdaBoost Regressor','XGBoost Regressor'],\n",
    "    'Score': [r2_lr,r2_ridge,r2_lasso,r2_rf,r2_knn,r2_dt,r2_gbr,r2_adab,r2_xgb]})\n",
    "\n",
    "models.sort_values(by='Score',ascending=False)"
   ]
  },
  {
   "cell_type": "markdown",
   "metadata": {
    "id": "dHxP7WoTeS36"
   },
   "source": [
    "# Plotting R2_score of each model on a bar graph"
   ]
  },
  {
   "cell_type": "code",
   "execution_count": 156,
   "metadata": {
    "colab": {
     "base_uri": "https://localhost:8080/",
     "height": 630
    },
    "id": "f4z5I8Xfd_rs",
    "outputId": "e609fc9f-8439-4396-c6c7-8a78b657c650"
   },
   "outputs": [
    {
     "data": {
      "image/png": "[encoded data removed]",
      "text/plain": [
       "<Figure size 640x480 with 1 Axes>"
      ]
     },
     "metadata": {},
     "output_type": "display_data"
    }
   ],
   "source": [
    "# plotting R2_score of each model on a bar graph\n",
    "sns.barplot(x=models['Model'],y=models['Score'],palette='ocean')\n",
    "plt.xticks(rotation=90)\n",
    "plt.show()"
   ]
  },
  {
   "cell_type": "markdown",
   "metadata": {
    "id": "LfT8km6BeiBX"
   },
   "source": [
    "Hence, we can conclude that GradientBoosting Regressor is the best model."
   ]
  },
  {
   "cell_type": "markdown",
   "metadata": {
    "id": "OX9kp1WUfkC0"
   },
   "source": [
    "# Generating Predictions on Test data using GradientBoosting Regressor"
   ]
  },
  {
   "cell_type": "code",
   "execution_count": 157,
   "metadata": {
    "colab": {
     "base_uri": "https://localhost:8080/"
    },
    "id": "vY6F1l3heXKi",
    "outputId": "1e7021f8-7397-4779-ed56-96a78a46fc41"
   },
   "outputs": [
    {
     "name": "stdout",
     "output_type": "stream",
     "text": [
      "(2541, 6)\n",
      "(847, 6)\n",
      "(3388, 6)\n",
      "(3388,)\n"
     ]
    }
   ],
   "source": [
    "print(x_train.shape)\n",
    "print(x_test.shape)\n",
    "print(x.shape)\n",
    "print(y.shape)"
   ]
  },
  {
   "cell_type": "markdown",
   "metadata": {
    "id": "-yThhRUogMOM"
   },
   "source": [
    "## Final model (GradientBoosting Regressor) based on Evaluation from models dataframe"
   ]
  },
  {
   "cell_type": "code",
   "execution_count": 158,
   "metadata": {
    "colab": {
     "base_uri": "https://localhost:8080/",
     "height": 74
    },
    "id": "hg-2nYQrfqws",
    "outputId": "1f57974a-a94d-4ef5-f1e6-cf8784134838"
   },
   "outputs": [
    {
     "data": {
      "text/html": [
       "<style>#sk-container-id-2 {color: black;}#sk-container-id-2 pre{padding: 0;}#sk-container-id-2 div.sk-toggleable {background-color: white;}#sk-container-id-2 label.sk-toggleable__label {cursor: pointer;display: block;width: 100%;margin-bottom: 0;padding: 0.3em;box-sizing: border-box;text-align: center;}#sk-container-id-2 label.sk-toggleable__label-arrow:before {content: \"▸\";float: left;margin-right: 0.25em;color: #696969;}#sk-container-id-2 label.sk-toggleable__label-arrow:hover:before {color: black;}#sk-container-id-2 div.sk-estimator:hover label.sk-toggleable__label-arrow:before {color: black;}#sk-container-id-2 div.sk-toggleable__content {max-height: 0;max-width: 0;overflow: hidden;text-align: left;background-color: #f0f8ff;}#sk-container-id-2 div.sk-toggleable__content pre {margin: 0.2em;color: black;border-radius: 0.25em;background-color: #f0f8ff;}#sk-container-id-2 input.sk-toggleable__control:checked~div.sk-toggleable__content {max-height: 200px;max-width: 100%;overflow: auto;}#sk-container-id-2 input.sk-toggleable__control:checked~label.sk-toggleable__label-arrow:before {content: \"▾\";}#sk-container-id-2 div.sk-estimator input.sk-toggleable__control:checked~label.sk-toggleable__label {background-color: #d4ebff;}#sk-container-id-2 div.sk-label input.sk-toggleable__control:checked~label.sk-toggleable__label {background-color: #d4ebff;}#sk-container-id-2 input.sk-hidden--visually {border: 0;clip: rect(1px 1px 1px 1px);clip: rect(1px, 1px, 1px, 1px);height: 1px;margin: -1px;overflow: hidden;padding: 0;position: absolute;width: 1px;}#sk-container-id-2 div.sk-estimator {font-family: monospace;background-color: #f0f8ff;border: 1px dotted black;border-radius: 0.25em;box-sizing: border-box;margin-bottom: 0.5em;}#sk-container-id-2 div.sk-estimator:hover {background-color: #d4ebff;}#sk-container-id-2 div.sk-parallel-item::after {content: \"\";width: 100%;border-bottom: 1px solid gray;flex-grow: 1;}#sk-container-id-2 div.sk-label:hover label.sk-toggleable__label {background-color: #d4ebff;}#sk-container-id-2 div.sk-serial::before {content: \"\";position: absolute;border-left: 1px solid gray;box-sizing: border-box;top: 0;bottom: 0;left: 50%;z-index: 0;}#sk-container-id-2 div.sk-serial {display: flex;flex-direction: column;align-items: center;background-color: white;padding-right: 0.2em;padding-left: 0.2em;position: relative;}#sk-container-id-2 div.sk-item {position: relative;z-index: 1;}#sk-container-id-2 div.sk-parallel {display: flex;align-items: stretch;justify-content: center;background-color: white;position: relative;}#sk-container-id-2 div.sk-item::before, #sk-container-id-2 div.sk-parallel-item::before {content: \"\";position: absolute;border-left: 1px solid gray;box-sizing: border-box;top: 0;bottom: 0;left: 50%;z-index: -1;}#sk-container-id-2 div.sk-parallel-item {display: flex;flex-direction: column;z-index: 1;position: relative;background-color: white;}#sk-container-id-2 div.sk-parallel-item:first-child::after {align-self: flex-end;width: 50%;}#sk-container-id-2 div.sk-parallel-item:last-child::after {align-self: flex-start;width: 50%;}#sk-container-id-2 div.sk-parallel-item:only-child::after {width: 0;}#sk-container-id-2 div.sk-dashed-wrapped {border: 1px dashed gray;margin: 0 0.4em 0.5em 0.4em;box-sizing: border-box;padding-bottom: 0.4em;background-color: white;}#sk-container-id-2 div.sk-label label {font-family: monospace;font-weight: bold;display: inline-block;line-height: 1.2em;}#sk-container-id-2 div.sk-label-container {text-align: center;}#sk-container-id-2 div.sk-container {/* jupyter's `normalize.less` sets `[hidden] { display: none; }` but bootstrap.min.css set `[hidden] { display: none !important; }` so we also need the `!important` here to be able to override the default hidden behavior on the sphinx rendered scikit-learn.org. See: https://github.com/scikit-learn/scikit-learn/issues/21755 */display: inline-block !important;position: relative;}#sk-container-id-2 div.sk-text-repr-fallback {display: none;}</style><div id=\"sk-container-id-2\" class=\"sk-top-container\"><div class=\"sk-text-repr-fallback\"><pre>GradientBoostingRegressor(n_estimators=80)</pre><b>In a Jupyter environment, please rerun this cell to show the HTML representation or trust the notebook. <br />On GitHub, the HTML representation is unable to render, please try loading this page with nbviewer.org.</b></div><div class=\"sk-container\" hidden><div class=\"sk-item\"><div class=\"sk-estimator sk-toggleable\"><input class=\"sk-toggleable__control sk-hidden--visually\" id=\"sk-estimator-id-2\" type=\"checkbox\" checked><label for=\"sk-estimator-id-2\" class=\"sk-toggleable__label sk-toggleable__label-arrow\">GradientBoostingRegressor</label><div class=\"sk-toggleable__content\"><pre>GradientBoostingRegressor(n_estimators=80)</pre></div></div></div></div></div>"
      ],
      "text/plain": [
       "GradientBoostingRegressor(n_estimators=80)"
      ]
     },
     "execution_count": 158,
     "metadata": {},
     "output_type": "execute_result"
    }
   ],
   "source": [
    "best_model = GradientBoostingRegressor(n_estimators=80)\n",
    "best_model.fit(x,y)"
   ]
  },
  {
   "cell_type": "markdown",
   "metadata": {
    "id": "0dzpjZDegcTO"
   },
   "source": [
    "## Generating Prediction on test data"
   ]
  },
  {
   "cell_type": "code",
   "execution_count": 159,
   "metadata": {
    "colab": {
     "base_uri": "https://localhost:8080/"
    },
    "id": "KjrAwM6_gZS2",
    "outputId": "d7c9fa3c-ffed-497b-be92-abba82c18439"
   },
   "outputs": [
    {
     "name": "stdout",
     "output_type": "stream",
     "text": [
      "[ 91520.01159206 272867.52955409 735551.39618985 471517.51196886\n",
      " 167418.60817516  87446.8557402  342767.61883005 122597.93489165\n",
      " 294514.29078242 424625.85934822 180858.3456418  118467.01365743\n",
      " 362860.99948013 269222.2985657  374364.75437025  87446.8557402\n",
      " 471517.51196886 209689.81802553  87134.62651782 466596.82994587\n",
      " 350868.88387285 235646.48319924 386946.46149684 210961.71252007\n",
      " 160279.19400052 285058.11161562 352287.82474611  94734.90023022\n",
      " 250547.1969281  779781.22734198 314199.73581451 215316.25457932\n",
      " 672809.67765441 379032.57287526 309006.51501157 388404.39751934\n",
      " 438827.57703967 672809.67765441 130894.50243601 364958.88907997\n",
      " 534865.26855731 309006.51501157 160279.19400052 487417.4051145\n",
      " 464891.62120214 425584.60699919 197031.64804516 159554.65147183\n",
      " 204496.5972226  241313.49306083 281769.82121108 600492.27293887\n",
      " 292374.37151354  88472.55100757 347629.16789435 314199.73581451\n",
      "  88472.55100757 471517.51196886 296751.68157828 487417.4051145\n",
      "  78527.25242268 480358.71242498 386946.46149684 650284.76332177\n",
      " 304126.95784465 279306.80296234 758512.7685759  505575.29642395\n",
      " 529589.54965331 808301.5307105  512252.13832629 309006.51501157\n",
      " 313240.98816354 180858.3456418  282728.56886205 373657.51556577\n",
      " 281769.82121108 378539.96327751 401560.89386175 314471.49933802\n",
      " 744861.34467757  88472.55100757 309006.51501157 517372.8419827\n",
      " 811796.39692577 131619.04496469 243041.89326601 169683.26316415\n",
      " 281769.82121108 471517.51196886 353558.99200626 347629.16789435\n",
      " 492561.89304986 261915.48943785 471517.51196886 100598.88704746\n",
      " 160279.19400052 666476.03433327 743902.59702661 235997.82993296\n",
      " 463308.49153368 547612.53716676 396543.86030863 254938.17890135\n",
      " 314199.73581451 208731.07037457 290647.84398417 190939.14255292\n",
      " 342961.34938933  87134.62651782 292374.37151354 596912.86718556\n",
      " 518331.58963366 587133.5066774  346698.05625656 309006.51501157\n",
      " 386946.46149684 614891.13290255 667615.77618674 185092.81879377\n",
      " 118363.46173969 811796.39692577 311241.43350874 811796.39692577\n",
      " 386946.46149684 508533.70527309 353558.99200626 118363.46173969\n",
      " 630914.99315962 463267.11416797  90791.62425389 269335.25681364\n",
      " 287126.48636301 385987.71384587 393072.21602435 518331.58963366\n",
      " 207544.05780709 210122.56265089 542880.54906997 258498.85077505\n",
      " 627152.56236962 447003.94199176 254938.17890135 657403.75099026\n",
      " 305723.61189852 477435.22124841 367613.47190887 545605.19588801\n",
      " 124387.35914833 759471.51622687 672809.67765441 279398.44531623\n",
      " 620291.62661993 128802.60598469 743902.59702661 254508.85852669\n",
      " 347629.16789435 561705.63931417 401089.65636485 400130.90871388\n",
      " 536645.4187821  186051.56644473 425584.60699919 235997.82993296\n",
      " 127045.63390354 253057.78101075 677059.6286557  517372.8419827\n",
      " 198641.36246058 398943.8961464  393072.21602435 471517.51196886\n",
      " 114360.0101922  232436.69519725 309006.51501157 703049.37283847\n",
      " 555827.39873101 381255.72574908  76574.40132617 507593.48147454\n",
      " 492952.86816001 254938.17890135 650284.76332177 257937.16865237\n",
      " 447003.94199176 629788.63247967 480358.71242498 471517.51196886\n",
      " 136812.26576763 299433.06420307 586223.95461199 360460.96364236\n",
      " 386946.46149684 209689.81802553 744861.34467757 529316.11295705\n",
      "  96595.43549998 389664.79923579 386946.46149684 487417.4051145\n",
      " 501198.72388382 281769.82121108 250396.68989664 179520.42115205\n",
      " 269173.23958918 346698.05625656 529589.54965331 599428.72571452\n",
      " 494337.37815335 136812.26576763  87446.8557402  104833.36019943\n",
      " 393072.21602435  97510.21229033 341808.87117908 517372.8419827\n",
      " 288635.27669818 507593.48147454 354687.86058388 342767.61883005\n",
      " 375265.93927211 227225.58860825 671850.93000344 447003.94199176\n",
      " 314199.73581451 500377.91722437 378539.96327751 620291.62661993\n",
      " 199828.77871758 101473.39465196 386946.46149684 425584.60699919\n",
      " 393072.21602435 480358.71242498 548571.28481773 415389.89094665\n",
      " 600796.2367772  515588.31233666 425584.60699919 475192.56141417\n",
      " 185969.50380815 299433.06420307 771163.20382723 268090.21020861\n",
      " 620291.62661993 550424.16806449 347629.16789435 480358.71242498\n",
      " 375265.93927211 347629.16789435 165472.41480345 293705.66292602\n",
      " 417670.71837761 292374.37151354 671850.93000344 268090.21020861\n",
      " 639828.71147117 487417.4051145  744548.43206589 274015.70048614\n",
      " 759471.51622687 757985.1329846  297652.88403511 485400.99799232\n",
      " 126951.22645968 447003.94199176 447003.94199176 237036.8392469\n",
      " 353558.99200626 246540.26269799  86356.0611759  235997.82993296\n",
      " 303597.50363691  89726.43263344 591792.16352916 386946.46149684\n",
      " 672809.67765441 628111.31002059 296630.63275841 779781.22734198\n",
      " 632791.49750094  91944.19529184 555543.15112893 811796.39692577\n",
      " 487417.4051145  480358.71242498 223294.47137309 245521.61486877\n",
      " 487250.93659901 186051.56644473 354687.86058388 548571.28481773\n",
      " 715499.83611168 650284.76332177  94385.0894852  513109.6744531\n",
      " 382126.87502181 631896.74571296 517372.8419827  275148.90289814\n",
      " 517372.8419827  236671.16834922 135853.51811666 547612.53716676\n",
      " 352449.36490984 505042.6437026  354687.86058388 517468.6126308\n",
      " 447735.54609464 334853.73020848 354978.41951095 547612.53716676\n",
      " 386946.46149684 293028.37528076 335457.90819545 140755.54174396\n",
      " 645267.38512809 671850.93000344 264775.11949514 400130.90871388\n",
      " 135853.51811666 672809.67765441 756023.28952242 657882.97350509\n",
      " 413002.8998726  238312.01025698 386946.46149684  92773.89321793\n",
      " 400130.90871388 255710.57097312 351100.81217863  87134.62651782\n",
      " 471517.51196886 209689.81802553 440143.00624206 252411.94282004\n",
      " 657882.97350509 485408.64165697 807303.87561269 295846.01579782\n",
      " 291933.2703446  299433.06420307 254938.17890135 523834.30708515\n",
      " 596912.86718556 548571.28481773 471517.51196886 281769.82121108\n",
      " 272797.92603689 624095.28684102 566186.01505299 518501.24682496\n",
      " 507593.48147454 136277.70181645 494337.37815335 355646.60823484\n",
      "  92707.02415954 707729.56031882 386946.46149684 794391.39889128\n",
      " 282728.56886205 401089.65636485 620291.62661993 597871.61483653\n",
      " 179450.60228445 329270.49686695 164513.66715249 724916.76067129\n",
      " 219220.51410186 261524.21705762 304338.69650655 605425.98050954\n",
      " 147127.16269325 448695.94548059 401089.65636485 527148.66019876\n",
      " 639828.71147117 286167.73871204 127343.75016446 386946.46149684\n",
      " 354687.86058388 185092.81879377 282728.56886205 314199.73581451\n",
      " 286167.73871204 471517.51196886 163750.8382848  447003.94199176\n",
      "  81244.30410227 118363.46173969 231028.9518399  584582.66890546\n",
      " 672809.67765441 538249.24945339 424625.85934822 588064.02520355\n",
      " 807303.87561269 104070.53133174  76574.40132617 383002.23093859\n",
      " 354687.86058388 272748.86706037 185092.81879377 259124.18121985\n",
      " 180858.3456418  353857.10826718  93665.7718105  596912.86718556\n",
      " 160437.39313322 313240.98816354 480358.71242498 596912.86718556\n",
      " 219220.51410186 517372.8419827  440182.81090067 386946.46149684\n",
      " 119820.94489774 342767.61883005 107056.15381906 347629.16789435\n",
      " 203903.01983054 164513.66715249 518331.58963366 393072.21602435\n",
      " 513276.73101367 255710.57097312 118467.01365743 314199.73581451\n",
      " 480358.71242498 147127.16269325 460622.8736473  803267.77859166\n",
      " 236671.16834922 195844.63547768 155611.3754955  254465.52436809\n",
      " 487808.67749473 596255.6058506  334660.52872373 382126.87502181\n",
      "  93665.7718105  155085.24771869 515588.31233666 164513.66715249\n",
      " 237629.91600019 334660.52872373 454314.72265766 342961.34938933\n",
      " 547612.53716676 166654.98124799  87134.62651782 374364.75437025\n",
      " 142459.34418824 131619.04496469 475343.03504875 311442.3311664\n",
      " 346221.424537   457809.38845509 104833.36019943 131619.04496469\n",
      " 401089.65636485 186951.4613625  779781.22734198 100598.88704746\n",
      " 309020.06801479 471517.51196886 402519.64151272 269335.25681364\n",
      " 547612.53716676 576840.57544378 274015.70048614 898939.43021589\n",
      " 518331.58963366 201209.0518067  538971.81925821 369318.058275\n",
      " 355079.13296411 273961.89033066 160279.19400052 480358.71242498\n",
      " 471517.51196886 342767.61883005 100598.88704746 444477.83871512\n",
      " 743902.59702661 352679.09712634 547612.53716676 515588.31233666\n",
      " 596912.86718556 425584.60699919 283345.81101221 199828.77871758\n",
      " 613190.61302247 515588.31233666 488376.15276547 587133.5066774\n",
      " 592180.87908877 582465.68817238 386946.46149684 476236.2574928\n",
      " 400130.90871388 131619.04496469 671850.93000344 232436.69519725\n",
      " 439915.86269398 744861.34467757 227768.87669223 494337.37815335\n",
      " 282181.5473046  375265.93927211 314199.73581451 341808.87117908\n",
      " 684495.93551779 794947.39402482 487417.4051145  342767.61883005\n",
      " 380365.04936573 209689.81802553 336055.66161903 596036.78007407\n",
      " 529207.18227916 447003.94199176 401089.65636485 268090.21020861\n",
      " 274015.70048614 538249.24945339 487417.4051145  386946.46149684\n",
      " 342767.61883005 134666.50554918 401089.65636485 515588.31233666\n",
      " 890474.90058242 142970.93470191 425584.60699919 282728.56886205\n",
      "  82466.80801281 744861.34467757 281769.82121108  89726.43263344\n",
      " 413002.8998726  601434.34972428 354687.86058388 425584.60699919\n",
      " 246540.26269799 147127.16269325 237629.91600019 513032.12626614\n",
      " 268090.21020861 298246.05163559 518331.58963366 101356.5130907\n",
      " 564472.18781601 330094.20402444 512643.41070653  88472.55100757\n",
      " 471517.51196886 525111.87187228 743902.59702661 214078.02416985\n",
      " 306973.88442128 471517.51196886 744861.34467757 542880.54906997\n",
      " 360460.96364236 492952.86816001 507593.48147454 386946.46149684\n",
      " 564472.18781601 388452.92175232 522051.62543933 355079.13296411\n",
      " 220526.67633378 540751.60141706 163660.41412596 232436.69519725\n",
      " 627152.56236962 374713.54499695 104070.53133174 186051.56644473\n",
      " 702090.6251875  354687.86058388 299433.06420307 757985.1329846\n",
      " 792471.74471751 304338.69650655 118363.46173969 352679.09712634\n",
      " 232436.69519725 243121.579031   425584.60699919 129860.98425564\n",
      " 401560.89386175 237629.91600019 513582.68832689 374364.75437025\n",
      " 177293.73984468 807081.9162668  257768.93367436 496156.69175586\n",
      " 121835.10602396 165472.41480345 471517.51196886 485017.36927673\n",
      " 657882.97350509 131619.04496469 695229.68943781 180858.3456418\n",
      " 446834.08039201 515588.31233666 354687.86058388 355646.60823484\n",
      " 300391.81185404 135853.51811666 660663.82613793 292374.37151354\n",
      " 237629.91600019 303840.36400077 105211.43043242 250011.90698227\n",
      " 254938.17890135 174893.70400692 662614.96160187 334853.73020848\n",
      " 487417.4051145  232436.69519725 506373.84010662 158270.02841537\n",
      " 273140.1394406  487250.93659901 355079.13296411 353500.8480164\n",
      " 482504.16965197 354517.73965723 237165.83016934 479819.19493119\n",
      " 487417.4051145  699918.02179045 565727.35992522 454314.72265766\n",
      " 662071.56949528 498227.9697619  402287.22749973 830640.8284919\n",
      " 830640.8284919  354517.73965723 620291.62661993 594420.87600099\n",
      " 164513.66715249 281769.82121108 843143.15332961 529901.1419174\n",
      " 176190.52713678 354687.86058388 888443.58755899 299433.06420307\n",
      " 235484.15578174 352287.82474611 596321.28713784 702090.6251875\n",
      " 374364.75437025 386946.46149684 362860.99948013 165472.41480345\n",
      " 236671.16834922 386946.46149684 596912.86718556 351100.81217863\n",
      " 292374.37151354 538249.24945339 444477.83871512  76574.40132617\n",
      " 374713.54499695  93960.90578541 451793.21203688 480358.71242498\n",
      " 597871.61483653 237629.91600019 779781.22734198 779781.22734198\n",
      " 287126.48636301 100598.88704746 822470.04229552 271561.85449289\n",
      " 167706.31433453 492952.86816001 186051.56644473 118467.01365743\n",
      " 471517.51196886 401560.89386175 471446.98744767 420657.5178734\n",
      " 521135.11456111 176080.7165744  232436.69519725 771163.20382723\n",
      " 515588.31233666 244308.59159848 337076.8830823  796701.36470183\n",
      " 180858.3456418  431032.6715245  140755.54174396 252679.55900457\n",
      " 779781.22734198 209195.01320592 117025.53724994 405274.65352285\n",
      "  93960.90578541 446776.79844368 512640.85388591 354687.86058388\n",
      " 160279.19400052 380365.04936573 407501.2512021  502925.66296952\n",
      " 254465.52436809 204017.20715854 471517.51196886 600492.27293887\n",
      " 743902.59702661 274015.70048614 214078.02416985 548571.28481773\n",
      " 134666.50554918 599428.72571452 597871.61483653 154273.45100576\n",
      "  93960.90578541 478950.96906763 135853.51811666 341808.87117908\n",
      " 179851.80115784 203088.85386525 657882.97350509 131619.04496469\n",
      " 337076.8830823  100598.88704746 160279.19400052 432755.51697626\n",
      " 447003.94199176 233388.23139073 511269.50780814 630914.99315962\n",
      " 592180.87908877 293619.41811857 413093.4068278  512640.85388591\n",
      " 545322.97428346  96595.43549998 517372.8419827  400130.90871388\n",
      " 351100.81217863 666657.02853577 518331.58963366 199357.8627684\n",
      " 185517.00249355 518331.58963366 242858.76568266  92707.02415954\n",
      " 257937.16865237  89726.43263344 596912.86718556 342767.61883005\n",
      " 275148.90289814 272867.52955409 225734.62388003 578172.92013679\n",
      " 131619.04496469 141633.01021217 268090.21020861 401560.89386175\n",
      " 744548.43206589 147127.16269325 342767.61883005 955226.84733503\n",
      " 393072.21602435 354687.86058388 606248.43203313 212359.57835216\n",
      " 131619.04496469 578172.92013679 282728.56886205 811796.39692577\n",
      " 719358.01053577 118363.46173969 341808.87117908  93198.07691772\n",
      " 239649.93474672 186051.56644473 104833.36019943 512640.85388591\n",
      " 185517.00249355 744861.34467757 342767.61883005 515588.31233666\n",
      " 364877.48295391 163750.8382848  299433.06420307 628111.31002059\n",
      " 257937.16865237 529316.11295705 292374.37151354 396543.86030863\n",
      " 525111.87187228 337076.8830823  297033.0283653  564472.18781601\n",
      " 341808.87117908 475343.03504875 243817.51333362 469670.81702685\n",
      " 180858.3456418  398943.8961464  353500.8480164   93198.07691772\n",
      " 671850.93000344 242858.76568266 254465.52436809 715499.83611168\n",
      " 354687.86058388  85722.98108596 470558.76431789 691376.31026514\n",
      " 515700.6624557  596912.86718556 214078.02416985 555543.15112893\n",
      " 341808.87117908 339985.81838377 164619.16177692 386946.46149684\n",
      " 160279.19400052 425584.60699919 744861.34467757 169415.69077979\n",
      " 302321.128901   553982.67408354 585310.17898127 113799.19515241\n",
      " 342767.61883005 185092.81879377 116540.13404356 519503.30760496\n",
      " 381646.99812932 480358.71242498 413002.8998726 ]\n"
     ]
    }
   ],
   "source": [
    "ypred = best_model.predict(x_test)\n",
    "print(ypred)"
   ]
  },
  {
   "cell_type": "markdown",
   "metadata": {
    "id": "pcL-o2cRg3Nw"
   },
   "source": [
    "# Save the Model"
   ]
  },
  {
   "cell_type": "code",
   "execution_count": 160,
   "metadata": {
    "id": "2aEEHkiJgkLj"
   },
   "outputs": [],
   "source": [
    "import pickle"
   ]
  },
  {
   "cell_type": "code",
   "execution_count": 161,
   "metadata": {
    "id": "FGO2al0WxVYY"
   },
   "outputs": [],
   "source": [
    "pickle.dump(best_model, open('model.pkl', 'wb')) # wb = write binary\n",
    "pickle.dump(car, open('dataset.pkl', 'wb')) # wb = write binary"
   ]
  },
  {
   "cell_type": "markdown",
   "metadata": {
    "id": "QP52QtEshChk"
   },
   "source": [
    "# Load the Model"
   ]
  },
  {
   "cell_type": "code",
   "execution_count": 162,
   "metadata": {
    "colab": {
     "base_uri": "https://localhost:8080/"
    },
    "id": "q8GVNLiThACE",
    "outputId": "2f2529dd-15d3-4bc6-b21d-a04360f0274b"
   },
   "outputs": [
    {
     "data": {
      "text/plain": [
       "array([ 91520.01159206, 272867.52955409, 735551.39618985, 471517.51196886,\n",
       "       167418.60817516,  87446.8557402 , 342767.61883005, 122597.93489165,\n",
       "       294514.29078242, 424625.85934822, 180858.3456418 , 118467.01365743,\n",
       "       362860.99948013, 269222.2985657 , 374364.75437025,  87446.8557402 ,\n",
       "       471517.51196886, 209689.81802553,  87134.62651782, 466596.82994587,\n",
       "       350868.88387285, 235646.48319924, 386946.46149684, 210961.71252007,\n",
       "       160279.19400052, 285058.11161562, 352287.82474611,  94734.90023022,\n",
       "       250547.1969281 , 779781.22734198, 314199.73581451, 215316.25457932,\n",
       "       672809.67765441, 379032.57287526, 309006.51501157, 388404.39751934,\n",
       "       438827.57703967, 672809.67765441, 130894.50243601, 364958.88907997,\n",
       "       534865.26855731, 309006.51501157, 160279.19400052, 487417.4051145 ,\n",
       "       464891.62120214, 425584.60699919, 197031.64804516, 159554.65147183,\n",
       "       204496.5972226 , 241313.49306083, 281769.82121108, 600492.27293887,\n",
       "       292374.37151354,  88472.55100757, 347629.16789435, 314199.73581451,\n",
       "        88472.55100757, 471517.51196886, 296751.68157828, 487417.4051145 ,\n",
       "        78527.25242268, 480358.71242498, 386946.46149684, 650284.76332177,\n",
       "       304126.95784465, 279306.80296234, 758512.7685759 , 505575.29642395,\n",
       "       529589.54965331, 808301.5307105 , 512252.13832629, 309006.51501157,\n",
       "       313240.98816354, 180858.3456418 , 282728.56886205, 373657.51556577,\n",
       "       281769.82121108, 378539.96327751, 401560.89386175, 314471.49933802,\n",
       "       744861.34467757,  88472.55100757, 309006.51501157, 517372.8419827 ,\n",
       "       811796.39692577, 131619.04496469, 243041.89326601, 169683.26316415,\n",
       "       281769.82121108, 471517.51196886, 353558.99200626, 347629.16789435,\n",
       "       492561.89304986, 261915.48943785, 471517.51196886, 100598.88704746,\n",
       "       160279.19400052, 666476.03433327, 743902.59702661, 235997.82993296,\n",
       "       463308.49153368, 547612.53716676, 396543.86030863, 254938.17890135,\n",
       "       314199.73581451, 208731.07037457, 290647.84398417, 190939.14255292,\n",
       "       342961.34938933,  87134.62651782, 292374.37151354, 596912.86718556,\n",
       "       518331.58963366, 587133.5066774 , 346698.05625656, 309006.51501157,\n",
       "       386946.46149684, 614891.13290255, 667615.77618674, 185092.81879377,\n",
       "       118363.46173969, 811796.39692577, 311241.43350874, 811796.39692577,\n",
       "       386946.46149684, 508533.70527309, 353558.99200626, 118363.46173969,\n",
       "       630914.99315962, 463267.11416797,  90791.62425389, 269335.25681364,\n",
       "       287126.48636301, 385987.71384587, 393072.21602435, 518331.58963366,\n",
       "       207544.05780709, 210122.56265089, 542880.54906997, 258498.85077505,\n",
       "       627152.56236962, 447003.94199176, 254938.17890135, 657403.75099026,\n",
       "       305723.61189852, 477435.22124841, 367613.47190887, 545605.19588801,\n",
       "       124387.35914833, 759471.51622687, 672809.67765441, 279398.44531623,\n",
       "       620291.62661993, 128802.60598469, 743902.59702661, 254508.85852669,\n",
       "       347629.16789435, 561705.63931417, 401089.65636485, 400130.90871388,\n",
       "       536645.4187821 , 186051.56644473, 425584.60699919, 235997.82993296,\n",
       "       127045.63390354, 253057.78101075, 677059.6286557 , 517372.8419827 ,\n",
       "       198641.36246058, 398943.8961464 , 393072.21602435, 471517.51196886,\n",
       "       114360.0101922 , 232436.69519725, 309006.51501157, 703049.37283847,\n",
       "       555827.39873101, 381255.72574908,  76574.40132617, 507593.48147454,\n",
       "       492952.86816001, 254938.17890135, 650284.76332177, 257937.16865237,\n",
       "       447003.94199176, 629788.63247967, 480358.71242498, 471517.51196886,\n",
       "       136812.26576763, 299433.06420307, 586223.95461199, 360460.96364236,\n",
       "       386946.46149684, 209689.81802553, 744861.34467757, 529316.11295705,\n",
       "        96595.43549998, 389664.79923579, 386946.46149684, 487417.4051145 ,\n",
       "       501198.72388382, 281769.82121108, 250396.68989664, 179520.42115205,\n",
       "       269173.23958918, 346698.05625656, 529589.54965331, 599428.72571452,\n",
       "       494337.37815335, 136812.26576763,  87446.8557402 , 104833.36019943,\n",
       "       393072.21602435,  97510.21229033, 341808.87117908, 517372.8419827 ,\n",
       "       288635.27669818, 507593.48147454, 354687.86058388, 342767.61883005,\n",
       "       375265.93927211, 227225.58860825, 671850.93000344, 447003.94199176,\n",
       "       314199.73581451, 500377.91722437, 378539.96327751, 620291.62661993,\n",
       "       199828.77871758, 101473.39465196, 386946.46149684, 425584.60699919,\n",
       "       393072.21602435, 480358.71242498, 548571.28481773, 415389.89094665,\n",
       "       600796.2367772 , 515588.31233666, 425584.60699919, 475192.56141417,\n",
       "       185969.50380815, 299433.06420307, 771163.20382723, 268090.21020861,\n",
       "       620291.62661993, 550424.16806449, 347629.16789435, 480358.71242498,\n",
       "       375265.93927211, 347629.16789435, 165472.41480345, 293705.66292602,\n",
       "       417670.71837761, 292374.37151354, 671850.93000344, 268090.21020861,\n",
       "       639828.71147117, 487417.4051145 , 744548.43206589, 274015.70048614,\n",
       "       759471.51622687, 757985.1329846 , 297652.88403511, 485400.99799232,\n",
       "       126951.22645968, 447003.94199176, 447003.94199176, 237036.8392469 ,\n",
       "       353558.99200626, 246540.26269799,  86356.0611759 , 235997.82993296,\n",
       "       303597.50363691,  89726.43263344, 591792.16352916, 386946.46149684,\n",
       "       672809.67765441, 628111.31002059, 296630.63275841, 779781.22734198,\n",
       "       632791.49750094,  91944.19529184, 555543.15112893, 811796.39692577,\n",
       "       487417.4051145 , 480358.71242498, 223294.47137309, 245521.61486877,\n",
       "       487250.93659901, 186051.56644473, 354687.86058388, 548571.28481773,\n",
       "       715499.83611168, 650284.76332177,  94385.0894852 , 513109.6744531 ,\n",
       "       382126.87502181, 631896.74571296, 517372.8419827 , 275148.90289814,\n",
       "       517372.8419827 , 236671.16834922, 135853.51811666, 547612.53716676,\n",
       "       352449.36490984, 505042.6437026 , 354687.86058388, 517468.6126308 ,\n",
       "       447735.54609464, 334853.73020848, 354978.41951095, 547612.53716676,\n",
       "       386946.46149684, 293028.37528076, 335457.90819545, 140755.54174396,\n",
       "       645267.38512809, 671850.93000344, 264775.11949514, 400130.90871388,\n",
       "       135853.51811666, 672809.67765441, 756023.28952242, 657882.97350509,\n",
       "       413002.8998726 , 238312.01025698, 386946.46149684,  92773.89321793,\n",
       "       400130.90871388, 255710.57097312, 351100.81217863,  87134.62651782,\n",
       "       471517.51196886, 209689.81802553, 440143.00624206, 252411.94282004,\n",
       "       657882.97350509, 485408.64165697, 807303.87561269, 295846.01579782,\n",
       "       291933.2703446 , 299433.06420307, 254938.17890135, 523834.30708515,\n",
       "       596912.86718556, 548571.28481773, 471517.51196886, 281769.82121108,\n",
       "       272797.92603689, 624095.28684102, 566186.01505299, 518501.24682496,\n",
       "       507593.48147454, 136277.70181645, 494337.37815335, 355646.60823484,\n",
       "        92707.02415954, 707729.56031882, 386946.46149684, 794391.39889128,\n",
       "       282728.56886205, 401089.65636485, 620291.62661993, 597871.61483653,\n",
       "       179450.60228445, 329270.49686695, 164513.66715249, 724916.76067129,\n",
       "       219220.51410186, 261524.21705762, 304338.69650655, 605425.98050954,\n",
       "       147127.16269325, 448695.94548059, 401089.65636485, 527148.66019876,\n",
       "       639828.71147117, 286167.73871204, 127343.75016446, 386946.46149684,\n",
       "       354687.86058388, 185092.81879377, 282728.56886205, 314199.73581451,\n",
       "       286167.73871204, 471517.51196886, 163750.8382848 , 447003.94199176,\n",
       "        81244.30410227, 118363.46173969, 231028.9518399 , 584582.66890546,\n",
       "       672809.67765441, 538249.24945339, 424625.85934822, 588064.02520355,\n",
       "       807303.87561269, 104070.53133174,  76574.40132617, 383002.23093859,\n",
       "       354687.86058388, 272748.86706037, 185092.81879377, 259124.18121985,\n",
       "       180858.3456418 , 353857.10826718,  93665.7718105 , 596912.86718556,\n",
       "       160437.39313322, 313240.98816354, 480358.71242498, 596912.86718556,\n",
       "       219220.51410186, 517372.8419827 , 440182.81090067, 386946.46149684,\n",
       "       119820.94489774, 342767.61883005, 107056.15381906, 347629.16789435,\n",
       "       203903.01983054, 164513.66715249, 518331.58963366, 393072.21602435,\n",
       "       513276.73101367, 255710.57097312, 118467.01365743, 314199.73581451,\n",
       "       480358.71242498, 147127.16269325, 460622.8736473 , 803267.77859166,\n",
       "       236671.16834922, 195844.63547768, 155611.3754955 , 254465.52436809,\n",
       "       487808.67749473, 596255.6058506 , 334660.52872373, 382126.87502181,\n",
       "        93665.7718105 , 155085.24771869, 515588.31233666, 164513.66715249,\n",
       "       237629.91600019, 334660.52872373, 454314.72265766, 342961.34938933,\n",
       "       547612.53716676, 166654.98124799,  87134.62651782, 374364.75437025,\n",
       "       142459.34418824, 131619.04496469, 475343.03504875, 311442.3311664 ,\n",
       "       346221.424537  , 457809.38845509, 104833.36019943, 131619.04496469,\n",
       "       401089.65636485, 186951.4613625 , 779781.22734198, 100598.88704746,\n",
       "       309020.06801479, 471517.51196886, 402519.64151272, 269335.25681364,\n",
       "       547612.53716676, 576840.57544378, 274015.70048614, 898939.43021589,\n",
       "       518331.58963366, 201209.0518067 , 538971.81925821, 369318.058275  ,\n",
       "       355079.13296411, 273961.89033066, 160279.19400052, 480358.71242498,\n",
       "       471517.51196886, 342767.61883005, 100598.88704746, 444477.83871512,\n",
       "       743902.59702661, 352679.09712634, 547612.53716676, 515588.31233666,\n",
       "       596912.86718556, 425584.60699919, 283345.81101221, 199828.77871758,\n",
       "       613190.61302247, 515588.31233666, 488376.15276547, 587133.5066774 ,\n",
       "       592180.87908877, 582465.68817238, 386946.46149684, 476236.2574928 ,\n",
       "       400130.90871388, 131619.04496469, 671850.93000344, 232436.69519725,\n",
       "       439915.86269398, 744861.34467757, 227768.87669223, 494337.37815335,\n",
       "       282181.5473046 , 375265.93927211, 314199.73581451, 341808.87117908,\n",
       "       684495.93551779, 794947.39402482, 487417.4051145 , 342767.61883005,\n",
       "       380365.04936573, 209689.81802553, 336055.66161903, 596036.78007407,\n",
       "       529207.18227916, 447003.94199176, 401089.65636485, 268090.21020861,\n",
       "       274015.70048614, 538249.24945339, 487417.4051145 , 386946.46149684,\n",
       "       342767.61883005, 134666.50554918, 401089.65636485, 515588.31233666,\n",
       "       890474.90058242, 142970.93470191, 425584.60699919, 282728.56886205,\n",
       "        82466.80801281, 744861.34467757, 281769.82121108,  89726.43263344,\n",
       "       413002.8998726 , 601434.34972428, 354687.86058388, 425584.60699919,\n",
       "       246540.26269799, 147127.16269325, 237629.91600019, 513032.12626614,\n",
       "       268090.21020861, 298246.05163559, 518331.58963366, 101356.5130907 ,\n",
       "       564472.18781601, 330094.20402444, 512643.41070653,  88472.55100757,\n",
       "       471517.51196886, 525111.87187228, 743902.59702661, 214078.02416985,\n",
       "       306973.88442128, 471517.51196886, 744861.34467757, 542880.54906997,\n",
       "       360460.96364236, 492952.86816001, 507593.48147454, 386946.46149684,\n",
       "       564472.18781601, 388452.92175232, 522051.62543933, 355079.13296411,\n",
       "       220526.67633378, 540751.60141706, 163660.41412596, 232436.69519725,\n",
       "       627152.56236962, 374713.54499695, 104070.53133174, 186051.56644473,\n",
       "       702090.6251875 , 354687.86058388, 299433.06420307, 757985.1329846 ,\n",
       "       792471.74471751, 304338.69650655, 118363.46173969, 352679.09712634,\n",
       "       232436.69519725, 243121.579031  , 425584.60699919, 129860.98425564,\n",
       "       401560.89386175, 237629.91600019, 513582.68832689, 374364.75437025,\n",
       "       177293.73984468, 807081.9162668 , 257768.93367436, 496156.69175586,\n",
       "       121835.10602396, 165472.41480345, 471517.51196886, 485017.36927673,\n",
       "       657882.97350509, 131619.04496469, 695229.68943781, 180858.3456418 ,\n",
       "       446834.08039201, 515588.31233666, 354687.86058388, 355646.60823484,\n",
       "       300391.81185404, 135853.51811666, 660663.82613793, 292374.37151354,\n",
       "       237629.91600019, 303840.36400077, 105211.43043242, 250011.90698227,\n",
       "       254938.17890135, 174893.70400692, 662614.96160187, 334853.73020848,\n",
       "       487417.4051145 , 232436.69519725, 506373.84010662, 158270.02841537,\n",
       "       273140.1394406 , 487250.93659901, 355079.13296411, 353500.8480164 ,\n",
       "       482504.16965197, 354517.73965723, 237165.83016934, 479819.19493119,\n",
       "       487417.4051145 , 699918.02179045, 565727.35992522, 454314.72265766,\n",
       "       662071.56949528, 498227.9697619 , 402287.22749973, 830640.8284919 ,\n",
       "       830640.8284919 , 354517.73965723, 620291.62661993, 594420.87600099,\n",
       "       164513.66715249, 281769.82121108, 843143.15332961, 529901.1419174 ,\n",
       "       176190.52713678, 354687.86058388, 888443.58755899, 299433.06420307,\n",
       "       235484.15578174, 352287.82474611, 596321.28713784, 702090.6251875 ,\n",
       "       374364.75437025, 386946.46149684, 362860.99948013, 165472.41480345,\n",
       "       236671.16834922, 386946.46149684, 596912.86718556, 351100.81217863,\n",
       "       292374.37151354, 538249.24945339, 444477.83871512,  76574.40132617,\n",
       "       374713.54499695,  93960.90578541, 451793.21203688, 480358.71242498,\n",
       "       597871.61483653, 237629.91600019, 779781.22734198, 779781.22734198,\n",
       "       287126.48636301, 100598.88704746, 822470.04229552, 271561.85449289,\n",
       "       167706.31433453, 492952.86816001, 186051.56644473, 118467.01365743,\n",
       "       471517.51196886, 401560.89386175, 471446.98744767, 420657.5178734 ,\n",
       "       521135.11456111, 176080.7165744 , 232436.69519725, 771163.20382723,\n",
       "       515588.31233666, 244308.59159848, 337076.8830823 , 796701.36470183,\n",
       "       180858.3456418 , 431032.6715245 , 140755.54174396, 252679.55900457,\n",
       "       779781.22734198, 209195.01320592, 117025.53724994, 405274.65352285,\n",
       "        93960.90578541, 446776.79844368, 512640.85388591, 354687.86058388,\n",
       "       160279.19400052, 380365.04936573, 407501.2512021 , 502925.66296952,\n",
       "       254465.52436809, 204017.20715854, 471517.51196886, 600492.27293887,\n",
       "       743902.59702661, 274015.70048614, 214078.02416985, 548571.28481773,\n",
       "       134666.50554918, 599428.72571452, 597871.61483653, 154273.45100576,\n",
       "        93960.90578541, 478950.96906763, 135853.51811666, 341808.87117908,\n",
       "       179851.80115784, 203088.85386525, 657882.97350509, 131619.04496469,\n",
       "       337076.8830823 , 100598.88704746, 160279.19400052, 432755.51697626,\n",
       "       447003.94199176, 233388.23139073, 511269.50780814, 630914.99315962,\n",
       "       592180.87908877, 293619.41811857, 413093.4068278 , 512640.85388591,\n",
       "       545322.97428346,  96595.43549998, 517372.8419827 , 400130.90871388,\n",
       "       351100.81217863, 666657.02853577, 518331.58963366, 199357.8627684 ,\n",
       "       185517.00249355, 518331.58963366, 242858.76568266,  92707.02415954,\n",
       "       257937.16865237,  89726.43263344, 596912.86718556, 342767.61883005,\n",
       "       275148.90289814, 272867.52955409, 225734.62388003, 578172.92013679,\n",
       "       131619.04496469, 141633.01021217, 268090.21020861, 401560.89386175,\n",
       "       744548.43206589, 147127.16269325, 342767.61883005, 955226.84733503,\n",
       "       393072.21602435, 354687.86058388, 606248.43203313, 212359.57835216,\n",
       "       131619.04496469, 578172.92013679, 282728.56886205, 811796.39692577,\n",
       "       719358.01053577, 118363.46173969, 341808.87117908,  93198.07691772,\n",
       "       239649.93474672, 186051.56644473, 104833.36019943, 512640.85388591,\n",
       "       185517.00249355, 744861.34467757, 342767.61883005, 515588.31233666,\n",
       "       364877.48295391, 163750.8382848 , 299433.06420307, 628111.31002059,\n",
       "       257937.16865237, 529316.11295705, 292374.37151354, 396543.86030863,\n",
       "       525111.87187228, 337076.8830823 , 297033.0283653 , 564472.18781601,\n",
       "       341808.87117908, 475343.03504875, 243817.51333362, 469670.81702685,\n",
       "       180858.3456418 , 398943.8961464 , 353500.8480164 ,  93198.07691772,\n",
       "       671850.93000344, 242858.76568266, 254465.52436809, 715499.83611168,\n",
       "       354687.86058388,  85722.98108596, 470558.76431789, 691376.31026514,\n",
       "       515700.6624557 , 596912.86718556, 214078.02416985, 555543.15112893,\n",
       "       341808.87117908, 339985.81838377, 164619.16177692, 386946.46149684,\n",
       "       160279.19400052, 425584.60699919, 744861.34467757, 169415.69077979,\n",
       "       302321.128901  , 553982.67408354, 585310.17898127, 113799.19515241,\n",
       "       342767.61883005, 185092.81879377, 116540.13404356, 519503.30760496,\n",
       "       381646.99812932, 480358.71242498, 413002.8998726 ])"
      ]
     },
     "execution_count": 162,
     "metadata": {},
     "output_type": "execute_result"
    }
   ],
   "source": [
    "loaded_model = pickle.load(open('model.pkl', 'rb'))  # rb = read binary\n",
    "loaded_model.predict(x_test)"
   ]
  },
  {
   "cell_type": "markdown",
   "metadata": {
    "id": "2Jm8IR10hWcB"
   },
   "source": [
    "# Creating a Random Dataset and Applying the saved model to predict the target column for the new dataframe."
   ]
  },
  {
   "cell_type": "markdown",
   "metadata": {
    "id": "cgrdwKFSijyG"
   },
   "source": [
    "Taking sample of Random 20 Points from the CAR_DETAILS Dataset"
   ]
  },
  {
   "cell_type": "code",
   "execution_count": 163,
   "metadata": {
    "colab": {
     "base_uri": "https://localhost:8080/",
     "height": 676
    },
    "id": "7sVF98K5hFnV",
    "outputId": "cd12dfc1-ef40-45af-cb10-9d665ec28ffe"
   },
   "outputs": [
    {
     "data": {
      "text/html": [
       "<div>\n",
       "<style scoped>\n",
       "    .dataframe tbody tr th:only-of-type {\n",
       "        vertical-align: middle;\n",
       "    }\n",
       "\n",
       "    .dataframe tbody tr th {\n",
       "        vertical-align: top;\n",
       "    }\n",
       "\n",
       "    .dataframe thead th {\n",
       "        text-align: right;\n",
       "    }\n",
       "</style>\n",
       "<table border=\"1\" class=\"dataframe\">\n",
       "  <thead>\n",
       "    <tr style=\"text-align: right;\">\n",
       "      <th></th>\n",
       "      <th>name</th>\n",
       "      <th>year</th>\n",
       "      <th>km_driven</th>\n",
       "      <th>fuel</th>\n",
       "      <th>seller_type</th>\n",
       "      <th>transmission</th>\n",
       "      <th>owner</th>\n",
       "      <th>brand</th>\n",
       "    </tr>\n",
       "  </thead>\n",
       "  <tbody>\n",
       "    <tr>\n",
       "      <th>3576</th>\n",
       "      <td>Honda City 1.3 DX</td>\n",
       "      <td>2003</td>\n",
       "      <td>165000</td>\n",
       "      <td>4</td>\n",
       "      <td>1</td>\n",
       "      <td>1</td>\n",
       "      <td>2</td>\n",
       "      <td>Honda</td>\n",
       "    </tr>\n",
       "    <tr>\n",
       "      <th>3226</th>\n",
       "      <td>Toyota Innova 2.5 G (Diesel) 8 Seater BS IV</td>\n",
       "      <td>2005</td>\n",
       "      <td>120000</td>\n",
       "      <td>1</td>\n",
       "      <td>1</td>\n",
       "      <td>1</td>\n",
       "      <td>2</td>\n",
       "      <td>Toyota</td>\n",
       "    </tr>\n",
       "    <tr>\n",
       "      <th>2647</th>\n",
       "      <td>Maruti Swift VDI BSIV</td>\n",
       "      <td>2015</td>\n",
       "      <td>60000</td>\n",
       "      <td>1</td>\n",
       "      <td>1</td>\n",
       "      <td>1</td>\n",
       "      <td>2</td>\n",
       "      <td>Maruti</td>\n",
       "    </tr>\n",
       "    <tr>\n",
       "      <th>685</th>\n",
       "      <td>Maruti Wagon R LX Minor</td>\n",
       "      <td>2013</td>\n",
       "      <td>38000</td>\n",
       "      <td>4</td>\n",
       "      <td>1</td>\n",
       "      <td>1</td>\n",
       "      <td>0</td>\n",
       "      <td>Maruti</td>\n",
       "    </tr>\n",
       "    <tr>\n",
       "      <th>1168</th>\n",
       "      <td>Maruti Wagon R VXI BSIII</td>\n",
       "      <td>2004</td>\n",
       "      <td>80000</td>\n",
       "      <td>4</td>\n",
       "      <td>1</td>\n",
       "      <td>1</td>\n",
       "      <td>2</td>\n",
       "      <td>Maruti</td>\n",
       "    </tr>\n",
       "    <tr>\n",
       "      <th>2282</th>\n",
       "      <td>Tata Tigor 1.2 Revotron XM</td>\n",
       "      <td>2019</td>\n",
       "      <td>10000</td>\n",
       "      <td>4</td>\n",
       "      <td>1</td>\n",
       "      <td>1</td>\n",
       "      <td>0</td>\n",
       "      <td>Tata</td>\n",
       "    </tr>\n",
       "    <tr>\n",
       "      <th>3726</th>\n",
       "      <td>Maruti Alto 800 LXI</td>\n",
       "      <td>2014</td>\n",
       "      <td>61000</td>\n",
       "      <td>4</td>\n",
       "      <td>1</td>\n",
       "      <td>1</td>\n",
       "      <td>0</td>\n",
       "      <td>Maruti</td>\n",
       "    </tr>\n",
       "    <tr>\n",
       "      <th>891</th>\n",
       "      <td>Mahindra Bolero 2011-2019 SLX</td>\n",
       "      <td>2013</td>\n",
       "      <td>107000</td>\n",
       "      <td>1</td>\n",
       "      <td>1</td>\n",
       "      <td>1</td>\n",
       "      <td>0</td>\n",
       "      <td>Mahindra</td>\n",
       "    </tr>\n",
       "    <tr>\n",
       "      <th>3056</th>\n",
       "      <td>Maruti Swift 1.3 VXi</td>\n",
       "      <td>2010</td>\n",
       "      <td>50000</td>\n",
       "      <td>4</td>\n",
       "      <td>1</td>\n",
       "      <td>1</td>\n",
       "      <td>0</td>\n",
       "      <td>Maruti</td>\n",
       "    </tr>\n",
       "    <tr>\n",
       "      <th>985</th>\n",
       "      <td>Hyundai Creta 1.6 CRDi SX Option</td>\n",
       "      <td>2015</td>\n",
       "      <td>60000</td>\n",
       "      <td>1</td>\n",
       "      <td>1</td>\n",
       "      <td>1</td>\n",
       "      <td>0</td>\n",
       "      <td>Hyundai</td>\n",
       "    </tr>\n",
       "    <tr>\n",
       "      <th>790</th>\n",
       "      <td>Toyota Etios Liva 1.4 VD</td>\n",
       "      <td>2017</td>\n",
       "      <td>36000</td>\n",
       "      <td>1</td>\n",
       "      <td>0</td>\n",
       "      <td>1</td>\n",
       "      <td>0</td>\n",
       "      <td>Toyota</td>\n",
       "    </tr>\n",
       "    <tr>\n",
       "      <th>2106</th>\n",
       "      <td>Maruti Zen Estilo VXI BSIV</td>\n",
       "      <td>2011</td>\n",
       "      <td>33000</td>\n",
       "      <td>4</td>\n",
       "      <td>1</td>\n",
       "      <td>1</td>\n",
       "      <td>0</td>\n",
       "      <td>Maruti</td>\n",
       "    </tr>\n",
       "    <tr>\n",
       "      <th>1573</th>\n",
       "      <td>Volkswagen Vento Petrol Highline AT</td>\n",
       "      <td>2011</td>\n",
       "      <td>70000</td>\n",
       "      <td>4</td>\n",
       "      <td>1</td>\n",
       "      <td>0</td>\n",
       "      <td>4</td>\n",
       "      <td>Volkswagen</td>\n",
       "    </tr>\n",
       "    <tr>\n",
       "      <th>1245</th>\n",
       "      <td>Maruti Wagon R VXI Minor ABS</td>\n",
       "      <td>2010</td>\n",
       "      <td>50000</td>\n",
       "      <td>4</td>\n",
       "      <td>1</td>\n",
       "      <td>1</td>\n",
       "      <td>0</td>\n",
       "      <td>Maruti</td>\n",
       "    </tr>\n",
       "    <tr>\n",
       "      <th>1729</th>\n",
       "      <td>Maruti Vitara Brezza ZDi Plus</td>\n",
       "      <td>2017</td>\n",
       "      <td>40000</td>\n",
       "      <td>1</td>\n",
       "      <td>1</td>\n",
       "      <td>1</td>\n",
       "      <td>0</td>\n",
       "      <td>Maruti</td>\n",
       "    </tr>\n",
       "    <tr>\n",
       "      <th>3658</th>\n",
       "      <td>Renault Duster 85PS Diesel RxL Optional</td>\n",
       "      <td>2013</td>\n",
       "      <td>75000</td>\n",
       "      <td>1</td>\n",
       "      <td>1</td>\n",
       "      <td>1</td>\n",
       "      <td>2</td>\n",
       "      <td>Renault</td>\n",
       "    </tr>\n",
       "    <tr>\n",
       "      <th>525</th>\n",
       "      <td>Maruti SX4 S Cross DDiS 320 Delta</td>\n",
       "      <td>2016</td>\n",
       "      <td>560000</td>\n",
       "      <td>1</td>\n",
       "      <td>0</td>\n",
       "      <td>1</td>\n",
       "      <td>0</td>\n",
       "      <td>Maruti</td>\n",
       "    </tr>\n",
       "    <tr>\n",
       "      <th>524</th>\n",
       "      <td>Maruti Wagon R LXI Minor</td>\n",
       "      <td>2007</td>\n",
       "      <td>49000</td>\n",
       "      <td>4</td>\n",
       "      <td>0</td>\n",
       "      <td>1</td>\n",
       "      <td>0</td>\n",
       "      <td>Maruti</td>\n",
       "    </tr>\n",
       "    <tr>\n",
       "      <th>807</th>\n",
       "      <td>Mahindra Bolero Power Plus SLX</td>\n",
       "      <td>2017</td>\n",
       "      <td>50000</td>\n",
       "      <td>1</td>\n",
       "      <td>1</td>\n",
       "      <td>1</td>\n",
       "      <td>2</td>\n",
       "      <td>Mahindra</td>\n",
       "    </tr>\n",
       "    <tr>\n",
       "      <th>3529</th>\n",
       "      <td>Ford Ecosport 1.5 DV5 MT Titanium</td>\n",
       "      <td>2015</td>\n",
       "      <td>146000</td>\n",
       "      <td>1</td>\n",
       "      <td>0</td>\n",
       "      <td>1</td>\n",
       "      <td>0</td>\n",
       "      <td>Ford</td>\n",
       "    </tr>\n",
       "  </tbody>\n",
       "</table>\n",
       "</div>"
      ],
      "text/plain": [
       "                                             name  year  km_driven  fuel  \\\n",
       "3576                            Honda City 1.3 DX  2003     165000     4   \n",
       "3226  Toyota Innova 2.5 G (Diesel) 8 Seater BS IV  2005     120000     1   \n",
       "2647                        Maruti Swift VDI BSIV  2015      60000     1   \n",
       "685                       Maruti Wagon R LX Minor  2013      38000     4   \n",
       "1168                     Maruti Wagon R VXI BSIII  2004      80000     4   \n",
       "2282                   Tata Tigor 1.2 Revotron XM  2019      10000     4   \n",
       "3726                          Maruti Alto 800 LXI  2014      61000     4   \n",
       "891                 Mahindra Bolero 2011-2019 SLX  2013     107000     1   \n",
       "3056                         Maruti Swift 1.3 VXi  2010      50000     4   \n",
       "985              Hyundai Creta 1.6 CRDi SX Option  2015      60000     1   \n",
       "790                      Toyota Etios Liva 1.4 VD  2017      36000     1   \n",
       "2106                   Maruti Zen Estilo VXI BSIV  2011      33000     4   \n",
       "1573          Volkswagen Vento Petrol Highline AT  2011      70000     4   \n",
       "1245                 Maruti Wagon R VXI Minor ABS  2010      50000     4   \n",
       "1729                Maruti Vitara Brezza ZDi Plus  2017      40000     1   \n",
       "3658      Renault Duster 85PS Diesel RxL Optional  2013      75000     1   \n",
       "525             Maruti SX4 S Cross DDiS 320 Delta  2016     560000     1   \n",
       "524                      Maruti Wagon R LXI Minor  2007      49000     4   \n",
       "807                Mahindra Bolero Power Plus SLX  2017      50000     1   \n",
       "3529            Ford Ecosport 1.5 DV5 MT Titanium  2015     146000     1   \n",
       "\n",
       "      seller_type  transmission  owner       brand  \n",
       "3576            1             1      2       Honda  \n",
       "3226            1             1      2      Toyota  \n",
       "2647            1             1      2      Maruti  \n",
       "685             1             1      0      Maruti  \n",
       "1168            1             1      2      Maruti  \n",
       "2282            1             1      0        Tata  \n",
       "3726            1             1      0      Maruti  \n",
       "891             1             1      0    Mahindra  \n",
       "3056            1             1      0      Maruti  \n",
       "985             1             1      0     Hyundai  \n",
       "790             0             1      0      Toyota  \n",
       "2106            1             1      0      Maruti  \n",
       "1573            1             0      4  Volkswagen  \n",
       "1245            1             1      0      Maruti  \n",
       "1729            1             1      0      Maruti  \n",
       "3658            1             1      2     Renault  \n",
       "525             0             1      0      Maruti  \n",
       "524             0             1      0      Maruti  \n",
       "807             1             1      2    Mahindra  \n",
       "3529            0             1      0        Ford  "
      ]
     },
     "execution_count": 163,
     "metadata": {},
     "output_type": "execute_result"
    }
   ],
   "source": [
    "random = car.sample(20)\n",
    "random_df = random.drop('selling_price',axis=1)\n",
    "random_df"
   ]
  },
  {
   "cell_type": "code",
   "execution_count": 164,
   "metadata": {
    "id": "fb4fyLDfi6dL"
   },
   "outputs": [],
   "source": [
    "# Conversion of random_df to csv file.\n",
    "random_df.to_csv('data_sample')"
   ]
  },
  {
   "cell_type": "code",
   "execution_count": 165,
   "metadata": {
    "colab": {
     "base_uri": "https://localhost:8080/",
     "height": 676
    },
    "id": "N3HH3vkXjbXi",
    "outputId": "feedcbde-0413-4bf8-9e21-4dbb2464823e"
   },
   "outputs": [
    {
     "data": {
      "text/html": [
       "<div>\n",
       "<style scoped>\n",
       "    .dataframe tbody tr th:only-of-type {\n",
       "        vertical-align: middle;\n",
       "    }\n",
       "\n",
       "    .dataframe tbody tr th {\n",
       "        vertical-align: top;\n",
       "    }\n",
       "\n",
       "    .dataframe thead th {\n",
       "        text-align: right;\n",
       "    }\n",
       "</style>\n",
       "<table border=\"1\" class=\"dataframe\">\n",
       "  <thead>\n",
       "    <tr style=\"text-align: right;\">\n",
       "      <th></th>\n",
       "      <th>Unnamed: 0</th>\n",
       "      <th>name</th>\n",
       "      <th>year</th>\n",
       "      <th>km_driven</th>\n",
       "      <th>fuel</th>\n",
       "      <th>seller_type</th>\n",
       "      <th>transmission</th>\n",
       "      <th>owner</th>\n",
       "      <th>brand</th>\n",
       "    </tr>\n",
       "  </thead>\n",
       "  <tbody>\n",
       "    <tr>\n",
       "      <th>0</th>\n",
       "      <td>3576</td>\n",
       "      <td>Honda City 1.3 DX</td>\n",
       "      <td>2003</td>\n",
       "      <td>165000</td>\n",
       "      <td>4</td>\n",
       "      <td>1</td>\n",
       "      <td>1</td>\n",
       "      <td>2</td>\n",
       "      <td>Honda</td>\n",
       "    </tr>\n",
       "    <tr>\n",
       "      <th>1</th>\n",
       "      <td>3226</td>\n",
       "      <td>Toyota Innova 2.5 G (Diesel) 8 Seater BS IV</td>\n",
       "      <td>2005</td>\n",
       "      <td>120000</td>\n",
       "      <td>1</td>\n",
       "      <td>1</td>\n",
       "      <td>1</td>\n",
       "      <td>2</td>\n",
       "      <td>Toyota</td>\n",
       "    </tr>\n",
       "    <tr>\n",
       "      <th>2</th>\n",
       "      <td>2647</td>\n",
       "      <td>Maruti Swift VDI BSIV</td>\n",
       "      <td>2015</td>\n",
       "      <td>60000</td>\n",
       "      <td>1</td>\n",
       "      <td>1</td>\n",
       "      <td>1</td>\n",
       "      <td>2</td>\n",
       "      <td>Maruti</td>\n",
       "    </tr>\n",
       "    <tr>\n",
       "      <th>3</th>\n",
       "      <td>685</td>\n",
       "      <td>Maruti Wagon R LX Minor</td>\n",
       "      <td>2013</td>\n",
       "      <td>38000</td>\n",
       "      <td>4</td>\n",
       "      <td>1</td>\n",
       "      <td>1</td>\n",
       "      <td>0</td>\n",
       "      <td>Maruti</td>\n",
       "    </tr>\n",
       "    <tr>\n",
       "      <th>4</th>\n",
       "      <td>1168</td>\n",
       "      <td>Maruti Wagon R VXI BSIII</td>\n",
       "      <td>2004</td>\n",
       "      <td>80000</td>\n",
       "      <td>4</td>\n",
       "      <td>1</td>\n",
       "      <td>1</td>\n",
       "      <td>2</td>\n",
       "      <td>Maruti</td>\n",
       "    </tr>\n",
       "    <tr>\n",
       "      <th>5</th>\n",
       "      <td>2282</td>\n",
       "      <td>Tata Tigor 1.2 Revotron XM</td>\n",
       "      <td>2019</td>\n",
       "      <td>10000</td>\n",
       "      <td>4</td>\n",
       "      <td>1</td>\n",
       "      <td>1</td>\n",
       "      <td>0</td>\n",
       "      <td>Tata</td>\n",
       "    </tr>\n",
       "    <tr>\n",
       "      <th>6</th>\n",
       "      <td>3726</td>\n",
       "      <td>Maruti Alto 800 LXI</td>\n",
       "      <td>2014</td>\n",
       "      <td>61000</td>\n",
       "      <td>4</td>\n",
       "      <td>1</td>\n",
       "      <td>1</td>\n",
       "      <td>0</td>\n",
       "      <td>Maruti</td>\n",
       "    </tr>\n",
       "    <tr>\n",
       "      <th>7</th>\n",
       "      <td>891</td>\n",
       "      <td>Mahindra Bolero 2011-2019 SLX</td>\n",
       "      <td>2013</td>\n",
       "      <td>107000</td>\n",
       "      <td>1</td>\n",
       "      <td>1</td>\n",
       "      <td>1</td>\n",
       "      <td>0</td>\n",
       "      <td>Mahindra</td>\n",
       "    </tr>\n",
       "    <tr>\n",
       "      <th>8</th>\n",
       "      <td>3056</td>\n",
       "      <td>Maruti Swift 1.3 VXi</td>\n",
       "      <td>2010</td>\n",
       "      <td>50000</td>\n",
       "      <td>4</td>\n",
       "      <td>1</td>\n",
       "      <td>1</td>\n",
       "      <td>0</td>\n",
       "      <td>Maruti</td>\n",
       "    </tr>\n",
       "    <tr>\n",
       "      <th>9</th>\n",
       "      <td>985</td>\n",
       "      <td>Hyundai Creta 1.6 CRDi SX Option</td>\n",
       "      <td>2015</td>\n",
       "      <td>60000</td>\n",
       "      <td>1</td>\n",
       "      <td>1</td>\n",
       "      <td>1</td>\n",
       "      <td>0</td>\n",
       "      <td>Hyundai</td>\n",
       "    </tr>\n",
       "    <tr>\n",
       "      <th>10</th>\n",
       "      <td>790</td>\n",
       "      <td>Toyota Etios Liva 1.4 VD</td>\n",
       "      <td>2017</td>\n",
       "      <td>36000</td>\n",
       "      <td>1</td>\n",
       "      <td>0</td>\n",
       "      <td>1</td>\n",
       "      <td>0</td>\n",
       "      <td>Toyota</td>\n",
       "    </tr>\n",
       "    <tr>\n",
       "      <th>11</th>\n",
       "      <td>2106</td>\n",
       "      <td>Maruti Zen Estilo VXI BSIV</td>\n",
       "      <td>2011</td>\n",
       "      <td>33000</td>\n",
       "      <td>4</td>\n",
       "      <td>1</td>\n",
       "      <td>1</td>\n",
       "      <td>0</td>\n",
       "      <td>Maruti</td>\n",
       "    </tr>\n",
       "    <tr>\n",
       "      <th>12</th>\n",
       "      <td>1573</td>\n",
       "      <td>Volkswagen Vento Petrol Highline AT</td>\n",
       "      <td>2011</td>\n",
       "      <td>70000</td>\n",
       "      <td>4</td>\n",
       "      <td>1</td>\n",
       "      <td>0</td>\n",
       "      <td>4</td>\n",
       "      <td>Volkswagen</td>\n",
       "    </tr>\n",
       "    <tr>\n",
       "      <th>13</th>\n",
       "      <td>1245</td>\n",
       "      <td>Maruti Wagon R VXI Minor ABS</td>\n",
       "      <td>2010</td>\n",
       "      <td>50000</td>\n",
       "      <td>4</td>\n",
       "      <td>1</td>\n",
       "      <td>1</td>\n",
       "      <td>0</td>\n",
       "      <td>Maruti</td>\n",
       "    </tr>\n",
       "    <tr>\n",
       "      <th>14</th>\n",
       "      <td>1729</td>\n",
       "      <td>Maruti Vitara Brezza ZDi Plus</td>\n",
       "      <td>2017</td>\n",
       "      <td>40000</td>\n",
       "      <td>1</td>\n",
       "      <td>1</td>\n",
       "      <td>1</td>\n",
       "      <td>0</td>\n",
       "      <td>Maruti</td>\n",
       "    </tr>\n",
       "    <tr>\n",
       "      <th>15</th>\n",
       "      <td>3658</td>\n",
       "      <td>Renault Duster 85PS Diesel RxL Optional</td>\n",
       "      <td>2013</td>\n",
       "      <td>75000</td>\n",
       "      <td>1</td>\n",
       "      <td>1</td>\n",
       "      <td>1</td>\n",
       "      <td>2</td>\n",
       "      <td>Renault</td>\n",
       "    </tr>\n",
       "    <tr>\n",
       "      <th>16</th>\n",
       "      <td>525</td>\n",
       "      <td>Maruti SX4 S Cross DDiS 320 Delta</td>\n",
       "      <td>2016</td>\n",
       "      <td>560000</td>\n",
       "      <td>1</td>\n",
       "      <td>0</td>\n",
       "      <td>1</td>\n",
       "      <td>0</td>\n",
       "      <td>Maruti</td>\n",
       "    </tr>\n",
       "    <tr>\n",
       "      <th>17</th>\n",
       "      <td>524</td>\n",
       "      <td>Maruti Wagon R LXI Minor</td>\n",
       "      <td>2007</td>\n",
       "      <td>49000</td>\n",
       "      <td>4</td>\n",
       "      <td>0</td>\n",
       "      <td>1</td>\n",
       "      <td>0</td>\n",
       "      <td>Maruti</td>\n",
       "    </tr>\n",
       "    <tr>\n",
       "      <th>18</th>\n",
       "      <td>807</td>\n",
       "      <td>Mahindra Bolero Power Plus SLX</td>\n",
       "      <td>2017</td>\n",
       "      <td>50000</td>\n",
       "      <td>1</td>\n",
       "      <td>1</td>\n",
       "      <td>1</td>\n",
       "      <td>2</td>\n",
       "      <td>Mahindra</td>\n",
       "    </tr>\n",
       "    <tr>\n",
       "      <th>19</th>\n",
       "      <td>3529</td>\n",
       "      <td>Ford Ecosport 1.5 DV5 MT Titanium</td>\n",
       "      <td>2015</td>\n",
       "      <td>146000</td>\n",
       "      <td>1</td>\n",
       "      <td>0</td>\n",
       "      <td>1</td>\n",
       "      <td>0</td>\n",
       "      <td>Ford</td>\n",
       "    </tr>\n",
       "  </tbody>\n",
       "</table>\n",
       "</div>"
      ],
      "text/plain": [
       "    Unnamed: 0                                         name  year  km_driven  \\\n",
       "0         3576                            Honda City 1.3 DX  2003     165000   \n",
       "1         3226  Toyota Innova 2.5 G (Diesel) 8 Seater BS IV  2005     120000   \n",
       "2         2647                        Maruti Swift VDI BSIV  2015      60000   \n",
       "3          685                      Maruti Wagon R LX Minor  2013      38000   \n",
       "4         1168                     Maruti Wagon R VXI BSIII  2004      80000   \n",
       "5         2282                   Tata Tigor 1.2 Revotron XM  2019      10000   \n",
       "6         3726                          Maruti Alto 800 LXI  2014      61000   \n",
       "7          891                Mahindra Bolero 2011-2019 SLX  2013     107000   \n",
       "8         3056                         Maruti Swift 1.3 VXi  2010      50000   \n",
       "9          985             Hyundai Creta 1.6 CRDi SX Option  2015      60000   \n",
       "10         790                     Toyota Etios Liva 1.4 VD  2017      36000   \n",
       "11        2106                   Maruti Zen Estilo VXI BSIV  2011      33000   \n",
       "12        1573          Volkswagen Vento Petrol Highline AT  2011      70000   \n",
       "13        1245                 Maruti Wagon R VXI Minor ABS  2010      50000   \n",
       "14        1729                Maruti Vitara Brezza ZDi Plus  2017      40000   \n",
       "15        3658      Renault Duster 85PS Diesel RxL Optional  2013      75000   \n",
       "16         525            Maruti SX4 S Cross DDiS 320 Delta  2016     560000   \n",
       "17         524                     Maruti Wagon R LXI Minor  2007      49000   \n",
       "18         807               Mahindra Bolero Power Plus SLX  2017      50000   \n",
       "19        3529            Ford Ecosport 1.5 DV5 MT Titanium  2015     146000   \n",
       "\n",
       "    fuel  seller_type  transmission  owner       brand  \n",
       "0      4            1             1      2       Honda  \n",
       "1      1            1             1      2      Toyota  \n",
       "2      1            1             1      2      Maruti  \n",
       "3      4            1             1      0      Maruti  \n",
       "4      4            1             1      2      Maruti  \n",
       "5      4            1             1      0        Tata  \n",
       "6      4            1             1      0      Maruti  \n",
       "7      1            1             1      0    Mahindra  \n",
       "8      4            1             1      0      Maruti  \n",
       "9      1            1             1      0     Hyundai  \n",
       "10     1            0             1      0      Toyota  \n",
       "11     4            1             1      0      Maruti  \n",
       "12     4            1             0      4  Volkswagen  \n",
       "13     4            1             1      0      Maruti  \n",
       "14     1            1             1      0      Maruti  \n",
       "15     1            1             1      2     Renault  \n",
       "16     1            0             1      0      Maruti  \n",
       "17     4            0             1      0      Maruti  \n",
       "18     1            1             1      2    Mahindra  \n",
       "19     1            0             1      0        Ford  "
      ]
     },
     "execution_count": 165,
     "metadata": {},
     "output_type": "execute_result"
    }
   ],
   "source": [
    "# Loading car_sample dataset\n",
    "sample_data = pd.read_csv('data_sample')\n",
    "sample_data"
   ]
  },
  {
   "cell_type": "code",
   "execution_count": 166,
   "metadata": {
    "colab": {
     "base_uri": "https://localhost:8080/",
     "height": 206
    },
    "id": "lCrANOYyjl0e",
    "outputId": "b265c49a-3218-4ea1-c8fa-14ee27a536ca"
   },
   "outputs": [
    {
     "data": {
      "text/html": [
       "<div>\n",
       "<style scoped>\n",
       "    .dataframe tbody tr th:only-of-type {\n",
       "        vertical-align: middle;\n",
       "    }\n",
       "\n",
       "    .dataframe tbody tr th {\n",
       "        vertical-align: top;\n",
       "    }\n",
       "\n",
       "    .dataframe thead th {\n",
       "        text-align: right;\n",
       "    }\n",
       "</style>\n",
       "<table border=\"1\" class=\"dataframe\">\n",
       "  <thead>\n",
       "    <tr style=\"text-align: right;\">\n",
       "      <th></th>\n",
       "      <th>Unnamed: 0</th>\n",
       "      <th>name</th>\n",
       "      <th>year</th>\n",
       "      <th>km_driven</th>\n",
       "      <th>fuel</th>\n",
       "      <th>seller_type</th>\n",
       "      <th>transmission</th>\n",
       "      <th>owner</th>\n",
       "      <th>brand</th>\n",
       "    </tr>\n",
       "  </thead>\n",
       "  <tbody>\n",
       "    <tr>\n",
       "      <th>0</th>\n",
       "      <td>3576</td>\n",
       "      <td>Honda City 1.3 DX</td>\n",
       "      <td>2003</td>\n",
       "      <td>165000</td>\n",
       "      <td>4</td>\n",
       "      <td>1</td>\n",
       "      <td>1</td>\n",
       "      <td>2</td>\n",
       "      <td>Honda</td>\n",
       "    </tr>\n",
       "    <tr>\n",
       "      <th>1</th>\n",
       "      <td>3226</td>\n",
       "      <td>Toyota Innova 2.5 G (Diesel) 8 Seater BS IV</td>\n",
       "      <td>2005</td>\n",
       "      <td>120000</td>\n",
       "      <td>1</td>\n",
       "      <td>1</td>\n",
       "      <td>1</td>\n",
       "      <td>2</td>\n",
       "      <td>Toyota</td>\n",
       "    </tr>\n",
       "    <tr>\n",
       "      <th>2</th>\n",
       "      <td>2647</td>\n",
       "      <td>Maruti Swift VDI BSIV</td>\n",
       "      <td>2015</td>\n",
       "      <td>60000</td>\n",
       "      <td>1</td>\n",
       "      <td>1</td>\n",
       "      <td>1</td>\n",
       "      <td>2</td>\n",
       "      <td>Maruti</td>\n",
       "    </tr>\n",
       "    <tr>\n",
       "      <th>3</th>\n",
       "      <td>685</td>\n",
       "      <td>Maruti Wagon R LX Minor</td>\n",
       "      <td>2013</td>\n",
       "      <td>38000</td>\n",
       "      <td>4</td>\n",
       "      <td>1</td>\n",
       "      <td>1</td>\n",
       "      <td>0</td>\n",
       "      <td>Maruti</td>\n",
       "    </tr>\n",
       "    <tr>\n",
       "      <th>4</th>\n",
       "      <td>1168</td>\n",
       "      <td>Maruti Wagon R VXI BSIII</td>\n",
       "      <td>2004</td>\n",
       "      <td>80000</td>\n",
       "      <td>4</td>\n",
       "      <td>1</td>\n",
       "      <td>1</td>\n",
       "      <td>2</td>\n",
       "      <td>Maruti</td>\n",
       "    </tr>\n",
       "  </tbody>\n",
       "</table>\n",
       "</div>"
      ],
      "text/plain": [
       "   Unnamed: 0                                         name  year  km_driven  \\\n",
       "0        3576                            Honda City 1.3 DX  2003     165000   \n",
       "1        3226  Toyota Innova 2.5 G (Diesel) 8 Seater BS IV  2005     120000   \n",
       "2        2647                        Maruti Swift VDI BSIV  2015      60000   \n",
       "3         685                      Maruti Wagon R LX Minor  2013      38000   \n",
       "4        1168                     Maruti Wagon R VXI BSIII  2004      80000   \n",
       "\n",
       "   fuel  seller_type  transmission  owner   brand  \n",
       "0     4            1             1      2   Honda  \n",
       "1     1            1             1      2  Toyota  \n",
       "2     1            1             1      2  Maruti  \n",
       "3     4            1             1      0  Maruti  \n",
       "4     4            1             1      2  Maruti  "
      ]
     },
     "execution_count": 166,
     "metadata": {},
     "output_type": "execute_result"
    }
   ],
   "source": [
    "# showing first 5 rows\n",
    "sample_data.head()"
   ]
  },
  {
   "cell_type": "code",
   "execution_count": 167,
   "metadata": {
    "colab": {
     "base_uri": "https://localhost:8080/",
     "height": 206
    },
    "id": "GhV35VKNjuDz",
    "outputId": "947252a8-7ef6-4f19-df7f-a0eff846b491"
   },
   "outputs": [
    {
     "data": {
      "text/html": [
       "<div>\n",
       "<style scoped>\n",
       "    .dataframe tbody tr th:only-of-type {\n",
       "        vertical-align: middle;\n",
       "    }\n",
       "\n",
       "    .dataframe tbody tr th {\n",
       "        vertical-align: top;\n",
       "    }\n",
       "\n",
       "    .dataframe thead th {\n",
       "        text-align: right;\n",
       "    }\n",
       "</style>\n",
       "<table border=\"1\" class=\"dataframe\">\n",
       "  <thead>\n",
       "    <tr style=\"text-align: right;\">\n",
       "      <th></th>\n",
       "      <th>Unnamed: 0</th>\n",
       "      <th>name</th>\n",
       "      <th>year</th>\n",
       "      <th>km_driven</th>\n",
       "      <th>fuel</th>\n",
       "      <th>seller_type</th>\n",
       "      <th>transmission</th>\n",
       "      <th>owner</th>\n",
       "      <th>brand</th>\n",
       "    </tr>\n",
       "  </thead>\n",
       "  <tbody>\n",
       "    <tr>\n",
       "      <th>15</th>\n",
       "      <td>3658</td>\n",
       "      <td>Renault Duster 85PS Diesel RxL Optional</td>\n",
       "      <td>2013</td>\n",
       "      <td>75000</td>\n",
       "      <td>1</td>\n",
       "      <td>1</td>\n",
       "      <td>1</td>\n",
       "      <td>2</td>\n",
       "      <td>Renault</td>\n",
       "    </tr>\n",
       "    <tr>\n",
       "      <th>16</th>\n",
       "      <td>525</td>\n",
       "      <td>Maruti SX4 S Cross DDiS 320 Delta</td>\n",
       "      <td>2016</td>\n",
       "      <td>560000</td>\n",
       "      <td>1</td>\n",
       "      <td>0</td>\n",
       "      <td>1</td>\n",
       "      <td>0</td>\n",
       "      <td>Maruti</td>\n",
       "    </tr>\n",
       "    <tr>\n",
       "      <th>17</th>\n",
       "      <td>524</td>\n",
       "      <td>Maruti Wagon R LXI Minor</td>\n",
       "      <td>2007</td>\n",
       "      <td>49000</td>\n",
       "      <td>4</td>\n",
       "      <td>0</td>\n",
       "      <td>1</td>\n",
       "      <td>0</td>\n",
       "      <td>Maruti</td>\n",
       "    </tr>\n",
       "    <tr>\n",
       "      <th>18</th>\n",
       "      <td>807</td>\n",
       "      <td>Mahindra Bolero Power Plus SLX</td>\n",
       "      <td>2017</td>\n",
       "      <td>50000</td>\n",
       "      <td>1</td>\n",
       "      <td>1</td>\n",
       "      <td>1</td>\n",
       "      <td>2</td>\n",
       "      <td>Mahindra</td>\n",
       "    </tr>\n",
       "    <tr>\n",
       "      <th>19</th>\n",
       "      <td>3529</td>\n",
       "      <td>Ford Ecosport 1.5 DV5 MT Titanium</td>\n",
       "      <td>2015</td>\n",
       "      <td>146000</td>\n",
       "      <td>1</td>\n",
       "      <td>0</td>\n",
       "      <td>1</td>\n",
       "      <td>0</td>\n",
       "      <td>Ford</td>\n",
       "    </tr>\n",
       "  </tbody>\n",
       "</table>\n",
       "</div>"
      ],
      "text/plain": [
       "    Unnamed: 0                                     name  year  km_driven  \\\n",
       "15        3658  Renault Duster 85PS Diesel RxL Optional  2013      75000   \n",
       "16         525        Maruti SX4 S Cross DDiS 320 Delta  2016     560000   \n",
       "17         524                 Maruti Wagon R LXI Minor  2007      49000   \n",
       "18         807           Mahindra Bolero Power Plus SLX  2017      50000   \n",
       "19        3529        Ford Ecosport 1.5 DV5 MT Titanium  2015     146000   \n",
       "\n",
       "    fuel  seller_type  transmission  owner     brand  \n",
       "15     1            1             1      2   Renault  \n",
       "16     1            0             1      0    Maruti  \n",
       "17     4            0             1      0    Maruti  \n",
       "18     1            1             1      2  Mahindra  \n",
       "19     1            0             1      0      Ford  "
      ]
     },
     "execution_count": 167,
     "metadata": {},
     "output_type": "execute_result"
    }
   ],
   "source": [
    "# showing last 5 rows\n",
    "sample_data.tail()"
   ]
  },
  {
   "cell_type": "code",
   "execution_count": 168,
   "metadata": {
    "colab": {
     "base_uri": "https://localhost:8080/"
    },
    "id": "bY-xZbJgjwi6",
    "outputId": "660b7de6-924c-4ec9-942c-c999cf4816ce"
   },
   "outputs": [
    {
     "data": {
      "text/plain": [
       "(20, 9)"
      ]
     },
     "execution_count": 168,
     "metadata": {},
     "output_type": "execute_result"
    }
   ],
   "source": [
    "# showing dimension of the dataset\n",
    "sample_data.shape"
   ]
  },
  {
   "cell_type": "code",
   "execution_count": 169,
   "metadata": {
    "colab": {
     "base_uri": "https://localhost:8080/"
    },
    "id": "6H4nXc61j3lD",
    "outputId": "8a744cca-6846-4f0d-9d61-7f3cbd5d907c"
   },
   "outputs": [
    {
     "data": {
      "text/plain": [
       "Index(['Unnamed: 0', 'name', 'year', 'km_driven', 'fuel', 'seller_type',\n",
       "       'transmission', 'owner', 'brand'],\n",
       "      dtype='object')"
      ]
     },
     "execution_count": 169,
     "metadata": {},
     "output_type": "execute_result"
    }
   ],
   "source": [
    "# showing columns\n",
    "sample_data.columns"
   ]
  },
  {
   "cell_type": "code",
   "execution_count": 170,
   "metadata": {
    "colab": {
     "base_uri": "https://localhost:8080/"
    },
    "id": "3J8T1eZYj75q",
    "outputId": "42a28ebd-f6ea-4896-b0b2-f7166aef74e4"
   },
   "outputs": [
    {
     "data": {
      "text/plain": [
       "Index(['year', 'km_driven', 'fuel', 'seller_type', 'transmission', 'owner'], dtype='object')"
      ]
     },
     "execution_count": 170,
     "metadata": {},
     "output_type": "execute_result"
    }
   ],
   "source": [
    "# Dropping unnecessary columns\n",
    "sample_data = sample_data.drop(['Unnamed: 0','name','brand'],axis=1)\n",
    "sample_data.columns"
   ]
  },
  {
   "cell_type": "code",
   "execution_count": 171,
   "metadata": {
    "colab": {
     "base_uri": "https://localhost:8080/"
    },
    "id": "pW1aBEyAkJEt",
    "outputId": "0aece73a-da99-4848-9a23-096bc501abda"
   },
   "outputs": [
    {
     "name": "stdout",
     "output_type": "stream",
     "text": [
      "[107694.60885785 193444.59963991 507593.48147454 282728.56886205\n",
      "  89726.43263344 553982.67408354 313240.98816354 400130.90871388\n",
      " 186051.56644473 517372.8419827  695229.68943781 209689.81802553\n",
      " 400439.81025084 186051.56644473 672809.67765441 393072.21602435\n",
      " 687601.4690946  161396.14078418 657403.75099026 565727.35992522]\n"
     ]
    }
   ],
   "source": [
    "# making prediction on sample data\n",
    "predicted_selling_price = loaded_model.predict(sample_data)\n",
    "print(predicted_selling_price)"
   ]
  },
  {
   "cell_type": "code",
   "execution_count": 172,
   "metadata": {
    "colab": {
     "base_uri": "https://localhost:8080/",
     "height": 694
    },
    "id": "FQyF-234kroT",
    "outputId": "2b978805-0adc-418a-84cb-162931310d22"
   },
   "outputs": [
    {
     "name": "stdout",
     "output_type": "stream",
     "text": [
      "Actual Selling Price and Predicted Selling Price for 20 cars brands with their name are :- \n"
     ]
    },
    {
     "data": {
      "text/html": [
       "<div>\n",
       "<style scoped>\n",
       "    .dataframe tbody tr th:only-of-type {\n",
       "        vertical-align: middle;\n",
       "    }\n",
       "\n",
       "    .dataframe tbody tr th {\n",
       "        vertical-align: top;\n",
       "    }\n",
       "\n",
       "    .dataframe thead th {\n",
       "        text-align: right;\n",
       "    }\n",
       "</style>\n",
       "<table border=\"1\" class=\"dataframe\">\n",
       "  <thead>\n",
       "    <tr style=\"text-align: right;\">\n",
       "      <th></th>\n",
       "      <th>name</th>\n",
       "      <th>brand</th>\n",
       "      <th>selling_price</th>\n",
       "      <th>predicted_selling Price</th>\n",
       "    </tr>\n",
       "  </thead>\n",
       "  <tbody>\n",
       "    <tr>\n",
       "      <th>3576</th>\n",
       "      <td>Honda City 1.3 DX</td>\n",
       "      <td>Honda</td>\n",
       "      <td>120000.0</td>\n",
       "      <td>107694.608858</td>\n",
       "    </tr>\n",
       "    <tr>\n",
       "      <th>3226</th>\n",
       "      <td>Toyota Innova 2.5 G (Diesel) 8 Seater BS IV</td>\n",
       "      <td>Toyota</td>\n",
       "      <td>310000.0</td>\n",
       "      <td>193444.599640</td>\n",
       "    </tr>\n",
       "    <tr>\n",
       "      <th>2647</th>\n",
       "      <td>Maruti Swift VDI BSIV</td>\n",
       "      <td>Maruti</td>\n",
       "      <td>350000.0</td>\n",
       "      <td>507593.481475</td>\n",
       "    </tr>\n",
       "    <tr>\n",
       "      <th>685</th>\n",
       "      <td>Maruti Wagon R LX Minor</td>\n",
       "      <td>Maruti</td>\n",
       "      <td>250000.0</td>\n",
       "      <td>282728.568862</td>\n",
       "    </tr>\n",
       "    <tr>\n",
       "      <th>1168</th>\n",
       "      <td>Maruti Wagon R VXI BSIII</td>\n",
       "      <td>Maruti</td>\n",
       "      <td>155000.0</td>\n",
       "      <td>89726.432633</td>\n",
       "    </tr>\n",
       "    <tr>\n",
       "      <th>2282</th>\n",
       "      <td>Tata Tigor 1.2 Revotron XM</td>\n",
       "      <td>Tata</td>\n",
       "      <td>500000.0</td>\n",
       "      <td>553982.674084</td>\n",
       "    </tr>\n",
       "    <tr>\n",
       "      <th>3726</th>\n",
       "      <td>Maruti Alto 800 LXI</td>\n",
       "      <td>Maruti</td>\n",
       "      <td>180000.0</td>\n",
       "      <td>313240.988164</td>\n",
       "    </tr>\n",
       "    <tr>\n",
       "      <th>891</th>\n",
       "      <td>Mahindra Bolero 2011-2019 SLX</td>\n",
       "      <td>Mahindra</td>\n",
       "      <td>400000.0</td>\n",
       "      <td>400130.908714</td>\n",
       "    </tr>\n",
       "    <tr>\n",
       "      <th>3056</th>\n",
       "      <td>Maruti Swift 1.3 VXi</td>\n",
       "      <td>Maruti</td>\n",
       "      <td>260000.0</td>\n",
       "      <td>186051.566445</td>\n",
       "    </tr>\n",
       "    <tr>\n",
       "      <th>985</th>\n",
       "      <td>Hyundai Creta 1.6 CRDi SX Option</td>\n",
       "      <td>Hyundai</td>\n",
       "      <td>950000.0</td>\n",
       "      <td>517372.841983</td>\n",
       "    </tr>\n",
       "    <tr>\n",
       "      <th>790</th>\n",
       "      <td>Toyota Etios Liva 1.4 VD</td>\n",
       "      <td>Toyota</td>\n",
       "      <td>425000.0</td>\n",
       "      <td>695229.689438</td>\n",
       "    </tr>\n",
       "    <tr>\n",
       "      <th>2106</th>\n",
       "      <td>Maruti Zen Estilo VXI BSIV</td>\n",
       "      <td>Maruti</td>\n",
       "      <td>280000.0</td>\n",
       "      <td>209689.818026</td>\n",
       "    </tr>\n",
       "    <tr>\n",
       "      <th>1573</th>\n",
       "      <td>Volkswagen Vento Petrol Highline AT</td>\n",
       "      <td>Volkswagen</td>\n",
       "      <td>300000.0</td>\n",
       "      <td>400439.810251</td>\n",
       "    </tr>\n",
       "    <tr>\n",
       "      <th>1245</th>\n",
       "      <td>Maruti Wagon R VXI Minor ABS</td>\n",
       "      <td>Maruti</td>\n",
       "      <td>260000.0</td>\n",
       "      <td>186051.566445</td>\n",
       "    </tr>\n",
       "    <tr>\n",
       "      <th>1729</th>\n",
       "      <td>Maruti Vitara Brezza ZDi Plus</td>\n",
       "      <td>Maruti</td>\n",
       "      <td>875000.0</td>\n",
       "      <td>672809.677654</td>\n",
       "    </tr>\n",
       "    <tr>\n",
       "      <th>3658</th>\n",
       "      <td>Renault Duster 85PS Diesel RxL Optional</td>\n",
       "      <td>Renault</td>\n",
       "      <td>550000.0</td>\n",
       "      <td>393072.216024</td>\n",
       "    </tr>\n",
       "    <tr>\n",
       "      <th>525</th>\n",
       "      <td>Maruti SX4 S Cross DDiS 320 Delta</td>\n",
       "      <td>Maruti</td>\n",
       "      <td>665000.0</td>\n",
       "      <td>687601.469095</td>\n",
       "    </tr>\n",
       "    <tr>\n",
       "      <th>524</th>\n",
       "      <td>Maruti Wagon R LXI Minor</td>\n",
       "      <td>Maruti</td>\n",
       "      <td>140000.0</td>\n",
       "      <td>161396.140784</td>\n",
       "    </tr>\n",
       "    <tr>\n",
       "      <th>807</th>\n",
       "      <td>Mahindra Bolero Power Plus SLX</td>\n",
       "      <td>Mahindra</td>\n",
       "      <td>400000.0</td>\n",
       "      <td>657403.750990</td>\n",
       "    </tr>\n",
       "    <tr>\n",
       "      <th>3529</th>\n",
       "      <td>Ford Ecosport 1.5 DV5 MT Titanium</td>\n",
       "      <td>Ford</td>\n",
       "      <td>470000.0</td>\n",
       "      <td>565727.359925</td>\n",
       "    </tr>\n",
       "  </tbody>\n",
       "</table>\n",
       "</div>"
      ],
      "text/plain": [
       "                                             name       brand  selling_price  \\\n",
       "3576                            Honda City 1.3 DX       Honda       120000.0   \n",
       "3226  Toyota Innova 2.5 G (Diesel) 8 Seater BS IV      Toyota       310000.0   \n",
       "2647                        Maruti Swift VDI BSIV      Maruti       350000.0   \n",
       "685                       Maruti Wagon R LX Minor      Maruti       250000.0   \n",
       "1168                     Maruti Wagon R VXI BSIII      Maruti       155000.0   \n",
       "2282                   Tata Tigor 1.2 Revotron XM        Tata       500000.0   \n",
       "3726                          Maruti Alto 800 LXI      Maruti       180000.0   \n",
       "891                 Mahindra Bolero 2011-2019 SLX    Mahindra       400000.0   \n",
       "3056                         Maruti Swift 1.3 VXi      Maruti       260000.0   \n",
       "985              Hyundai Creta 1.6 CRDi SX Option     Hyundai       950000.0   \n",
       "790                      Toyota Etios Liva 1.4 VD      Toyota       425000.0   \n",
       "2106                   Maruti Zen Estilo VXI BSIV      Maruti       280000.0   \n",
       "1573          Volkswagen Vento Petrol Highline AT  Volkswagen       300000.0   \n",
       "1245                 Maruti Wagon R VXI Minor ABS      Maruti       260000.0   \n",
       "1729                Maruti Vitara Brezza ZDi Plus      Maruti       875000.0   \n",
       "3658      Renault Duster 85PS Diesel RxL Optional     Renault       550000.0   \n",
       "525             Maruti SX4 S Cross DDiS 320 Delta      Maruti       665000.0   \n",
       "524                      Maruti Wagon R LXI Minor      Maruti       140000.0   \n",
       "807                Mahindra Bolero Power Plus SLX    Mahindra       400000.0   \n",
       "3529            Ford Ecosport 1.5 DV5 MT Titanium        Ford       470000.0   \n",
       "\n",
       "      predicted_selling Price  \n",
       "3576            107694.608858  \n",
       "3226            193444.599640  \n",
       "2647            507593.481475  \n",
       "685             282728.568862  \n",
       "1168             89726.432633  \n",
       "2282            553982.674084  \n",
       "3726            313240.988164  \n",
       "891             400130.908714  \n",
       "3056            186051.566445  \n",
       "985             517372.841983  \n",
       "790             695229.689438  \n",
       "2106            209689.818026  \n",
       "1573            400439.810251  \n",
       "1245            186051.566445  \n",
       "1729            672809.677654  \n",
       "3658            393072.216024  \n",
       "525             687601.469095  \n",
       "524             161396.140784  \n",
       "807             657403.750990  \n",
       "3529            565727.359925  "
      ]
     },
     "execution_count": 172,
     "metadata": {},
     "output_type": "execute_result"
    }
   ],
   "source": [
    "#  Compare the actual data and predicted data\n",
    "new_data_with_predictions = random.copy()\n",
    "new_data_with_predictions[\"predicted_selling Price\"] = predicted_selling_price\n",
    "\n",
    "# Print the actual and predicted data\n",
    "print(\"Actual Selling Price and Predicted Selling Price for 20 cars brands with their name are :- \")\n",
    "new_data_with_predictions[[\"name\",\"brand\",\"selling_price\", \"predicted_selling Price\"]]"
   ]
  },
  {
   "cell_type": "code",
   "execution_count": null,
   "metadata": {
    "id": "2iNdjEXW_EmN"
   },
   "outputs": [],
   "source": []
  }
 ],
 "metadata": {
  "colab": {
   "provenance": []
  },
  "kernelspec": {
   "display_name": "Python 3 (ipykernel)",
   "language": "python",
   "name": "python3"
  },
  "language_info": {
   "codemirror_mode": {
    "name": "ipython",
    "version": 3
   },
   "file_extension": ".py",
   "mimetype": "text/x-python",
   "name": "python",
   "nbconvert_exporter": "python",
   "pygments_lexer": "ipython3",
   "version": "3.11.1"
  }
 },
 "nbformat": 4,
 "nbformat_minor": 0
}
